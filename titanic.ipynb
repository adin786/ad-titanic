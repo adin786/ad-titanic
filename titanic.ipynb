{
  "nbformat": 4,
  "nbformat_minor": 0,
  "metadata": {
    "colab": {
      "name": "titanic.ipynb",
      "provenance": [],
      "collapsed_sections": [
        "i29afH8EKz4m"
      ],
      "toc_visible": true,
      "mount_file_id": "1JtI177tQSCbdvqGZepd3N9XNuwTAhgVx",
      "authorship_tag": "ABX9TyN6O449kfpT3NCwfjGSGqSq",
      "include_colab_link": true
    },
    "kernelspec": {
      "name": "python3",
      "display_name": "Python 3"
    },
    "language_info": {
      "name": "python"
    }
  },
  "cells": [
    {
      "cell_type": "markdown",
      "metadata": {
        "id": "view-in-github",
        "colab_type": "text"
      },
      "source": [
        "<a href=\"https://colab.research.google.com/github/adin786/ad-titanic/blob/main/titanic.ipynb\" target=\"_parent\"><img src=\"https://colab.research.google.com/assets/colab-badge.svg\" alt=\"Open In Colab\"/></a>"
      ]
    },
    {
      "cell_type": "markdown",
      "metadata": {
        "id": "H95naoxEEbML"
      },
      "source": [
        "# Titanic survivor prediction\n",
        "Based on Kaggle titanic dataset and competition:\n",
        "https://www.kaggle.com/c/titanic\n",
        "\n",
        "The objective is to load, clean, explore the titanic passenger data and build a classification model to predict whether an individual was likely to survive or not.\n",
        "\n",
        "I followed along with and took inspiration from [this notebook](https://www.kaggle.com/gunesevitan/titanic-advanced-feature-engineering-tutorial#2.-Feature-Engineering)"
      ]
    },
    {
      "cell_type": "code",
      "metadata": {
        "colab": {
          "base_uri": "https://localhost:8080/"
        },
        "id": "h5ddb521_Eta",
        "outputId": "63aa83d0-b073-4ae9-aaf2-2dd888839439"
      },
      "source": [
        "# Initialise things in Kaggle\n",
        "import numpy as np # linear algebra\n",
        "import pandas as pd # data processing, CSV file I/O (e.g. pd.read_csv)\n",
        "import matplotlib.pyplot as plt\n",
        "import seaborn as sns\n",
        "import os\n",
        "import string\n",
        "import time\n",
        " \n",
        "path = os.path.join('drive','MyDrive','Data','titanic')\n",
        "for dirname, _, filenames in os.walk(path):\n",
        "    for filename in filenames:\n",
        "        print(os.path.join(dirname, filename))"
      ],
      "execution_count": 53,
      "outputs": [
        {
          "output_type": "stream",
          "text": [
            "drive/MyDrive/Data/titanic/gender_submission.csv\n",
            "drive/MyDrive/Data/titanic/test.csv\n",
            "drive/MyDrive/Data/titanic/train.csv\n"
          ],
          "name": "stdout"
        }
      ]
    },
    {
      "cell_type": "markdown",
      "metadata": {
        "id": "6kQ_ls3__qou"
      },
      "source": [
        "# Load data"
      ]
    },
    {
      "cell_type": "code",
      "metadata": {
        "colab": {
          "base_uri": "https://localhost:8080/"
        },
        "id": "ylkhGPoUEZYP",
        "outputId": "42b7f7d6-7ace-4e67-fc57-86b5f1d579e3"
      },
      "source": [
        "# Load the training and testing data\n",
        "df_train = pd.read_csv(os.path.join(path,'train.csv'))\n",
        "df_test = pd.read_csv(os.path.join(path,'test.csv'))\n",
        "print(f'Training set shape: {df_train.shape}')\n",
        "print(f'Testing  set shape: {df_test.shape}')"
      ],
      "execution_count": 2,
      "outputs": [
        {
          "output_type": "stream",
          "text": [
            "Training set shape: (891, 12)\n",
            "Testing  set shape: (418, 11)\n"
          ],
          "name": "stdout"
        }
      ]
    },
    {
      "cell_type": "code",
      "metadata": {
        "colab": {
          "base_uri": "https://localhost:8080/"
        },
        "id": "crtdI0bf_u-X",
        "outputId": "24da685b-9966-4cd8-d0e5-a7fd4b1cbf48"
      },
      "source": [
        "for col in df_train.columns:\n",
        "  if col in df_test.columns:\n",
        "    print(f'{col:<15} in both')\n",
        "  else:\n",
        "    print(f'{col:<15} in training set but not in test set')"
      ],
      "execution_count": 3,
      "outputs": [
        {
          "output_type": "stream",
          "text": [
            "PassengerId     in both\n",
            "Survived        in training set but not in test set\n",
            "Pclass          in both\n",
            "Name            in both\n",
            "Sex             in both\n",
            "Age             in both\n",
            "SibSp           in both\n",
            "Parch           in both\n",
            "Ticket          in both\n",
            "Fare            in both\n",
            "Cabin           in both\n",
            "Embarked        in both\n"
          ],
          "name": "stdout"
        }
      ]
    },
    {
      "cell_type": "markdown",
      "metadata": {
        "id": "6xsEnQfp_VDs"
      },
      "source": [
        "Testing data is the data my model is to be evaluated over and submitted to Kaggle.\n",
        "\n",
        "It needs to be prepared in an identical way to the training data.  While I am messing around and building features etc, it is a good idea to append the datasets. When it comes to model training I will then split them back out into separate dataframes so I only train on the \n",
        "\n",
        "**Note:** Only difference is one less column in the test set. There are no \"Survived\" values, so this will introduce 418 NaNs to that column.  "
      ]
    },
    {
      "cell_type": "code",
      "metadata": {
        "colab": {
          "base_uri": "https://localhost:8080/"
        },
        "id": "FR3LrrbE_Rer",
        "outputId": "3ce2a0d0-66e4-4b6a-ef19-98e2c0adc96a"
      },
      "source": [
        "# Save a number of rows to split by later, this just lets us do same preprocessing on both together\n",
        "rows_to_split = len(df_train)\n",
        "df = df_train.append(df_test, ignore_index=True)\n",
        "print(f'Full dataframe for processing: {df.shape}')"
      ],
      "execution_count": 4,
      "outputs": [
        {
          "output_type": "stream",
          "text": [
            "Full dataframe for processing: (1309, 12)\n"
          ],
          "name": "stdout"
        }
      ]
    },
    {
      "cell_type": "markdown",
      "metadata": {
        "id": "HjYDoSiV9gAH"
      },
      "source": [
        "## Data summary"
      ]
    },
    {
      "cell_type": "code",
      "metadata": {
        "colab": {
          "base_uri": "https://localhost:8080/",
          "height": 484
        },
        "id": "6Z3zQ-Sg9exL",
        "outputId": "4640522a-3135-49a5-9493-8c49d4df6720"
      },
      "source": [
        "df.head()"
      ],
      "execution_count": 5,
      "outputs": [
        {
          "output_type": "execute_result",
          "data": {
            "text/html": [
              "<div>\n",
              "<style scoped>\n",
              "    .dataframe tbody tr th:only-of-type {\n",
              "        vertical-align: middle;\n",
              "    }\n",
              "\n",
              "    .dataframe tbody tr th {\n",
              "        vertical-align: top;\n",
              "    }\n",
              "\n",
              "    .dataframe thead th {\n",
              "        text-align: right;\n",
              "    }\n",
              "</style>\n",
              "<table border=\"1\" class=\"dataframe\">\n",
              "  <thead>\n",
              "    <tr style=\"text-align: right;\">\n",
              "      <th></th>\n",
              "      <th>PassengerId</th>\n",
              "      <th>Survived</th>\n",
              "      <th>Pclass</th>\n",
              "      <th>Name</th>\n",
              "      <th>Sex</th>\n",
              "      <th>Age</th>\n",
              "      <th>SibSp</th>\n",
              "      <th>Parch</th>\n",
              "      <th>Ticket</th>\n",
              "      <th>Fare</th>\n",
              "      <th>Cabin</th>\n",
              "      <th>Embarked</th>\n",
              "    </tr>\n",
              "  </thead>\n",
              "  <tbody>\n",
              "    <tr>\n",
              "      <th>0</th>\n",
              "      <td>1</td>\n",
              "      <td>0.0</td>\n",
              "      <td>3</td>\n",
              "      <td>Braund, Mr. Owen Harris</td>\n",
              "      <td>male</td>\n",
              "      <td>22.0</td>\n",
              "      <td>1</td>\n",
              "      <td>0</td>\n",
              "      <td>A/5 21171</td>\n",
              "      <td>7.2500</td>\n",
              "      <td>NaN</td>\n",
              "      <td>S</td>\n",
              "    </tr>\n",
              "    <tr>\n",
              "      <th>1</th>\n",
              "      <td>2</td>\n",
              "      <td>1.0</td>\n",
              "      <td>1</td>\n",
              "      <td>Cumings, Mrs. John Bradley (Florence Briggs Th...</td>\n",
              "      <td>female</td>\n",
              "      <td>38.0</td>\n",
              "      <td>1</td>\n",
              "      <td>0</td>\n",
              "      <td>PC 17599</td>\n",
              "      <td>71.2833</td>\n",
              "      <td>C85</td>\n",
              "      <td>C</td>\n",
              "    </tr>\n",
              "    <tr>\n",
              "      <th>2</th>\n",
              "      <td>3</td>\n",
              "      <td>1.0</td>\n",
              "      <td>3</td>\n",
              "      <td>Heikkinen, Miss. Laina</td>\n",
              "      <td>female</td>\n",
              "      <td>26.0</td>\n",
              "      <td>0</td>\n",
              "      <td>0</td>\n",
              "      <td>STON/O2. 3101282</td>\n",
              "      <td>7.9250</td>\n",
              "      <td>NaN</td>\n",
              "      <td>S</td>\n",
              "    </tr>\n",
              "    <tr>\n",
              "      <th>3</th>\n",
              "      <td>4</td>\n",
              "      <td>1.0</td>\n",
              "      <td>1</td>\n",
              "      <td>Futrelle, Mrs. Jacques Heath (Lily May Peel)</td>\n",
              "      <td>female</td>\n",
              "      <td>35.0</td>\n",
              "      <td>1</td>\n",
              "      <td>0</td>\n",
              "      <td>113803</td>\n",
              "      <td>53.1000</td>\n",
              "      <td>C123</td>\n",
              "      <td>S</td>\n",
              "    </tr>\n",
              "    <tr>\n",
              "      <th>4</th>\n",
              "      <td>5</td>\n",
              "      <td>0.0</td>\n",
              "      <td>3</td>\n",
              "      <td>Allen, Mr. William Henry</td>\n",
              "      <td>male</td>\n",
              "      <td>35.0</td>\n",
              "      <td>0</td>\n",
              "      <td>0</td>\n",
              "      <td>373450</td>\n",
              "      <td>8.0500</td>\n",
              "      <td>NaN</td>\n",
              "      <td>S</td>\n",
              "    </tr>\n",
              "  </tbody>\n",
              "</table>\n",
              "</div>"
            ],
            "text/plain": [
              "   PassengerId  Survived  Pclass  ...     Fare Cabin  Embarked\n",
              "0            1       0.0       3  ...   7.2500   NaN         S\n",
              "1            2       1.0       1  ...  71.2833   C85         C\n",
              "2            3       1.0       3  ...   7.9250   NaN         S\n",
              "3            4       1.0       1  ...  53.1000  C123         S\n",
              "4            5       0.0       3  ...   8.0500   NaN         S\n",
              "\n",
              "[5 rows x 12 columns]"
            ]
          },
          "metadata": {
            "tags": []
          },
          "execution_count": 5
        }
      ]
    },
    {
      "cell_type": "code",
      "metadata": {
        "colab": {
          "base_uri": "https://localhost:8080/",
          "height": 287
        },
        "id": "hvf-05J7Ee7D",
        "outputId": "a7aead35-bdf9-4f00-fd1f-d6144cb26491"
      },
      "source": [
        "df.describe()"
      ],
      "execution_count": 6,
      "outputs": [
        {
          "output_type": "execute_result",
          "data": {
            "text/html": [
              "<div>\n",
              "<style scoped>\n",
              "    .dataframe tbody tr th:only-of-type {\n",
              "        vertical-align: middle;\n",
              "    }\n",
              "\n",
              "    .dataframe tbody tr th {\n",
              "        vertical-align: top;\n",
              "    }\n",
              "\n",
              "    .dataframe thead th {\n",
              "        text-align: right;\n",
              "    }\n",
              "</style>\n",
              "<table border=\"1\" class=\"dataframe\">\n",
              "  <thead>\n",
              "    <tr style=\"text-align: right;\">\n",
              "      <th></th>\n",
              "      <th>PassengerId</th>\n",
              "      <th>Survived</th>\n",
              "      <th>Pclass</th>\n",
              "      <th>Age</th>\n",
              "      <th>SibSp</th>\n",
              "      <th>Parch</th>\n",
              "      <th>Fare</th>\n",
              "    </tr>\n",
              "  </thead>\n",
              "  <tbody>\n",
              "    <tr>\n",
              "      <th>count</th>\n",
              "      <td>1309.000000</td>\n",
              "      <td>891.000000</td>\n",
              "      <td>1309.000000</td>\n",
              "      <td>1046.000000</td>\n",
              "      <td>1309.000000</td>\n",
              "      <td>1309.000000</td>\n",
              "      <td>1308.000000</td>\n",
              "    </tr>\n",
              "    <tr>\n",
              "      <th>mean</th>\n",
              "      <td>655.000000</td>\n",
              "      <td>0.383838</td>\n",
              "      <td>2.294882</td>\n",
              "      <td>29.881138</td>\n",
              "      <td>0.498854</td>\n",
              "      <td>0.385027</td>\n",
              "      <td>33.295479</td>\n",
              "    </tr>\n",
              "    <tr>\n",
              "      <th>std</th>\n",
              "      <td>378.020061</td>\n",
              "      <td>0.486592</td>\n",
              "      <td>0.837836</td>\n",
              "      <td>14.413493</td>\n",
              "      <td>1.041658</td>\n",
              "      <td>0.865560</td>\n",
              "      <td>51.758668</td>\n",
              "    </tr>\n",
              "    <tr>\n",
              "      <th>min</th>\n",
              "      <td>1.000000</td>\n",
              "      <td>0.000000</td>\n",
              "      <td>1.000000</td>\n",
              "      <td>0.170000</td>\n",
              "      <td>0.000000</td>\n",
              "      <td>0.000000</td>\n",
              "      <td>0.000000</td>\n",
              "    </tr>\n",
              "    <tr>\n",
              "      <th>25%</th>\n",
              "      <td>328.000000</td>\n",
              "      <td>0.000000</td>\n",
              "      <td>2.000000</td>\n",
              "      <td>21.000000</td>\n",
              "      <td>0.000000</td>\n",
              "      <td>0.000000</td>\n",
              "      <td>7.895800</td>\n",
              "    </tr>\n",
              "    <tr>\n",
              "      <th>50%</th>\n",
              "      <td>655.000000</td>\n",
              "      <td>0.000000</td>\n",
              "      <td>3.000000</td>\n",
              "      <td>28.000000</td>\n",
              "      <td>0.000000</td>\n",
              "      <td>0.000000</td>\n",
              "      <td>14.454200</td>\n",
              "    </tr>\n",
              "    <tr>\n",
              "      <th>75%</th>\n",
              "      <td>982.000000</td>\n",
              "      <td>1.000000</td>\n",
              "      <td>3.000000</td>\n",
              "      <td>39.000000</td>\n",
              "      <td>1.000000</td>\n",
              "      <td>0.000000</td>\n",
              "      <td>31.275000</td>\n",
              "    </tr>\n",
              "    <tr>\n",
              "      <th>max</th>\n",
              "      <td>1309.000000</td>\n",
              "      <td>1.000000</td>\n",
              "      <td>3.000000</td>\n",
              "      <td>80.000000</td>\n",
              "      <td>8.000000</td>\n",
              "      <td>9.000000</td>\n",
              "      <td>512.329200</td>\n",
              "    </tr>\n",
              "  </tbody>\n",
              "</table>\n",
              "</div>"
            ],
            "text/plain": [
              "       PassengerId    Survived  ...        Parch         Fare\n",
              "count  1309.000000  891.000000  ...  1309.000000  1308.000000\n",
              "mean    655.000000    0.383838  ...     0.385027    33.295479\n",
              "std     378.020061    0.486592  ...     0.865560    51.758668\n",
              "min       1.000000    0.000000  ...     0.000000     0.000000\n",
              "25%     328.000000    0.000000  ...     0.000000     7.895800\n",
              "50%     655.000000    0.000000  ...     0.000000    14.454200\n",
              "75%     982.000000    1.000000  ...     0.000000    31.275000\n",
              "max    1309.000000    1.000000  ...     9.000000   512.329200\n",
              "\n",
              "[8 rows x 7 columns]"
            ]
          },
          "metadata": {
            "tags": []
          },
          "execution_count": 6
        }
      ]
    },
    {
      "cell_type": "code",
      "metadata": {
        "colab": {
          "base_uri": "https://localhost:8080/",
          "height": 167
        },
        "id": "1D4-UCeFFQ4o",
        "outputId": "38766424-61fa-4bdd-9d78-fd9244bb0f25"
      },
      "source": [
        "# Describe for string/categorical features\n",
        "df.describe(include='object')"
      ],
      "execution_count": 7,
      "outputs": [
        {
          "output_type": "execute_result",
          "data": {
            "text/html": [
              "<div>\n",
              "<style scoped>\n",
              "    .dataframe tbody tr th:only-of-type {\n",
              "        vertical-align: middle;\n",
              "    }\n",
              "\n",
              "    .dataframe tbody tr th {\n",
              "        vertical-align: top;\n",
              "    }\n",
              "\n",
              "    .dataframe thead th {\n",
              "        text-align: right;\n",
              "    }\n",
              "</style>\n",
              "<table border=\"1\" class=\"dataframe\">\n",
              "  <thead>\n",
              "    <tr style=\"text-align: right;\">\n",
              "      <th></th>\n",
              "      <th>Name</th>\n",
              "      <th>Sex</th>\n",
              "      <th>Ticket</th>\n",
              "      <th>Cabin</th>\n",
              "      <th>Embarked</th>\n",
              "    </tr>\n",
              "  </thead>\n",
              "  <tbody>\n",
              "    <tr>\n",
              "      <th>count</th>\n",
              "      <td>1309</td>\n",
              "      <td>1309</td>\n",
              "      <td>1309</td>\n",
              "      <td>295</td>\n",
              "      <td>1307</td>\n",
              "    </tr>\n",
              "    <tr>\n",
              "      <th>unique</th>\n",
              "      <td>1307</td>\n",
              "      <td>2</td>\n",
              "      <td>929</td>\n",
              "      <td>186</td>\n",
              "      <td>3</td>\n",
              "    </tr>\n",
              "    <tr>\n",
              "      <th>top</th>\n",
              "      <td>Kelly, Mr. James</td>\n",
              "      <td>male</td>\n",
              "      <td>CA. 2343</td>\n",
              "      <td>C23 C25 C27</td>\n",
              "      <td>S</td>\n",
              "    </tr>\n",
              "    <tr>\n",
              "      <th>freq</th>\n",
              "      <td>2</td>\n",
              "      <td>843</td>\n",
              "      <td>11</td>\n",
              "      <td>6</td>\n",
              "      <td>914</td>\n",
              "    </tr>\n",
              "  </tbody>\n",
              "</table>\n",
              "</div>"
            ],
            "text/plain": [
              "                    Name   Sex    Ticket        Cabin Embarked\n",
              "count               1309  1309      1309          295     1307\n",
              "unique              1307     2       929          186        3\n",
              "top     Kelly, Mr. James  male  CA. 2343  C23 C25 C27        S\n",
              "freq                   2   843        11            6      914"
            ]
          },
          "metadata": {
            "tags": []
          },
          "execution_count": 7
        }
      ]
    },
    {
      "cell_type": "code",
      "metadata": {
        "colab": {
          "base_uri": "https://localhost:8080/"
        },
        "id": "7ntnhEjHGspt",
        "outputId": "d3498f1b-a0e3-4d55-aa25-4f3126b3db72"
      },
      "source": [
        "df.info()"
      ],
      "execution_count": 8,
      "outputs": [
        {
          "output_type": "stream",
          "text": [
            "<class 'pandas.core.frame.DataFrame'>\n",
            "RangeIndex: 1309 entries, 0 to 1308\n",
            "Data columns (total 12 columns):\n",
            " #   Column       Non-Null Count  Dtype  \n",
            "---  ------       --------------  -----  \n",
            " 0   PassengerId  1309 non-null   int64  \n",
            " 1   Survived     891 non-null    float64\n",
            " 2   Pclass       1309 non-null   int64  \n",
            " 3   Name         1309 non-null   object \n",
            " 4   Sex          1309 non-null   object \n",
            " 5   Age          1046 non-null   float64\n",
            " 6   SibSp        1309 non-null   int64  \n",
            " 7   Parch        1309 non-null   int64  \n",
            " 8   Ticket       1309 non-null   object \n",
            " 9   Fare         1308 non-null   float64\n",
            " 10  Cabin        295 non-null    object \n",
            " 11  Embarked     1307 non-null   object \n",
            "dtypes: float64(3), int64(4), object(5)\n",
            "memory usage: 122.8+ KB\n"
          ],
          "name": "stdout"
        }
      ]
    },
    {
      "cell_type": "code",
      "metadata": {
        "colab": {
          "base_uri": "https://localhost:8080/"
        },
        "id": "QpqZzsFFzOq7",
        "outputId": "24334560-0819-4760-e03f-98e8c7ba0ca7"
      },
      "source": [
        "# Num unique values in each column\n",
        "df.nunique()"
      ],
      "execution_count": 9,
      "outputs": [
        {
          "output_type": "execute_result",
          "data": {
            "text/plain": [
              "PassengerId    1309\n",
              "Survived          2\n",
              "Pclass            3\n",
              "Name           1307\n",
              "Sex               2\n",
              "Age              98\n",
              "SibSp             7\n",
              "Parch             8\n",
              "Ticket          929\n",
              "Fare            281\n",
              "Cabin           186\n",
              "Embarked          3\n",
              "dtype: int64"
            ]
          },
          "metadata": {
            "tags": []
          },
          "execution_count": 9
        }
      ]
    },
    {
      "cell_type": "markdown",
      "metadata": {
        "id": "p7EkI0SG9zN9"
      },
      "source": [
        "# Exploration"
      ]
    },
    {
      "cell_type": "markdown",
      "metadata": {
        "id": "W0Ddm3RE9oAt"
      },
      "source": [
        "## Correlations"
      ]
    },
    {
      "cell_type": "code",
      "metadata": {
        "colab": {
          "base_uri": "https://localhost:8080/"
        },
        "id": "5aoIWEGizeiq",
        "outputId": "1b84191d-606f-428a-eae4-389ebb3bd967"
      },
      "source": [
        "# Print the \"pearson\" correlation values for each column vs \"Survived\"\n",
        "corr_mat = df.corr()\n",
        "corr_mat['Survived'].sort_values(ascending=False)"
      ],
      "execution_count": 10,
      "outputs": [
        {
          "output_type": "execute_result",
          "data": {
            "text/plain": [
              "Survived       1.000000\n",
              "Fare           0.257307\n",
              "Parch          0.081629\n",
              "PassengerId   -0.005007\n",
              "SibSp         -0.035322\n",
              "Age           -0.077221\n",
              "Pclass        -0.338481\n",
              "Name: Survived, dtype: float64"
            ]
          },
          "metadata": {
            "tags": []
          },
          "execution_count": 10
        }
      ]
    },
    {
      "cell_type": "code",
      "metadata": {
        "colab": {
          "base_uri": "https://localhost:8080/",
          "height": 320
        },
        "id": "aLk7X2nOzgKa",
        "outputId": "10c7ae58-1f56-40b6-e0b1-aeac98e8889d"
      },
      "source": [
        "# Visualise the correlation values - Light and dark colours are most correlated\n",
        "corr_mat = df.corr()\n",
        "mask = np.zeros_like(corr_mat)\n",
        "mask[np.triu_indices_from(mask)] = True\n",
        "sns.heatmap(corr_mat,vmax=1,vmin=-1,annot=True, fmt=\".2f\",cmap='Blues');"
      ],
      "execution_count": 11,
      "outputs": [
        {
          "output_type": "display_data",
          "data": {
            "image/png": "[encoded data removed]",
            "text/plain": [
              "<Figure size 432x288 with 2 Axes>"
            ]
          },
          "metadata": {
            "tags": [],
            "needs_background": "light"
          }
        }
      ]
    },
    {
      "cell_type": "markdown",
      "metadata": {
        "id": "LNr2lRhu2OEE"
      },
      "source": [
        "Correlation with target variable:\n",
        "- Pclass has a strong -ve correlation with Survived (lower class number means better chance of survival)\n",
        "- Fare has a strong +ve correlation with Survived (more expensive tickets increased the survival probability)\n",
        "- Age is slightly -ve correlated (younger people more likely to survive\n",
        "\n",
        "Colinearity of other features:\n",
        "- Pclass and Fare are highly correlated, makes sense for ticket class to relate to price\n",
        "- SibSp and Parch are highly correlated also, again makes sense for people with big families onboard to have high parent/child numbers and also high numbers of siblings/spouses. "
      ]
    },
    {
      "cell_type": "markdown",
      "metadata": {
        "id": "rMkXmOHf9sAF"
      },
      "source": [
        "## Distributions"
      ]
    },
    {
      "cell_type": "code",
      "metadata": {
        "colab": {
          "base_uri": "https://localhost:8080/",
          "height": 444
        },
        "id": "6QIEoLeyzXpk",
        "outputId": "35521912-e1a8-4010-b387-c9699c0cc08a"
      },
      "source": [
        "# Check dirstributions of each feature\n",
        "df.hist(bins=50, figsize=(10,7));"
      ],
      "execution_count": 12,
      "outputs": [
        {
          "output_type": "display_data",
          "data": {
            "image/png": "[encoded data removed]",
            "text/plain": [
              "<Figure size 720x504 with 9 Axes>"
            ]
          },
          "metadata": {
            "tags": [],
            "needs_background": "light"
          }
        }
      ]
    },
    {
      "cell_type": "markdown",
      "metadata": {
        "id": "DQrVjpIN3ky8"
      },
      "source": [
        "- PassengerId is uniform (makes sense if everyone has unique ID)\n",
        "- Survived is binary (this is the target variable)\n",
        "- Pclass is fairly random, can be made categorical\n",
        "- Age is normally distributed\n",
        "- SibSp is exponential, can be made categorical\n",
        "- Parch is exponential, can be made categorical\n",
        "- Fare is exponential"
      ]
    },
    {
      "cell_type": "markdown",
      "metadata": {
        "id": "fO-KGLY895Po"
      },
      "source": [
        "## Data types"
      ]
    },
    {
      "cell_type": "code",
      "metadata": {
        "id": "vsy_ZT9N4SQv"
      },
      "source": [
        "# Set the data types for each feature\n",
        "# df.Pclass = df.Pclass.astype('category')"
      ],
      "execution_count": 13,
      "outputs": []
    },
    {
      "cell_type": "markdown",
      "metadata": {
        "id": "hC_zYN-b98kA"
      },
      "source": [
        "## Missing data"
      ]
    },
    {
      "cell_type": "code",
      "metadata": {
        "colab": {
          "base_uri": "https://localhost:8080/"
        },
        "id": "BfZm2q9WExEq",
        "outputId": "6c018260-0ae0-4969-fbfd-db01d45a18a1"
      },
      "source": [
        "def display_missing(df):    \n",
        "    for col in df.columns.tolist():          \n",
        "        print(f'{col:<15} column missing values: {df[col].isnull().sum()}')\n",
        "    print('\\n')\n",
        "    \n",
        "display_missing(df)"
      ],
      "execution_count": 14,
      "outputs": [
        {
          "output_type": "stream",
          "text": [
            "PassengerId     column missing values: 0\n",
            "Survived        column missing values: 418\n",
            "Pclass          column missing values: 0\n",
            "Name            column missing values: 0\n",
            "Sex             column missing values: 0\n",
            "Age             column missing values: 263\n",
            "SibSp           column missing values: 0\n",
            "Parch           column missing values: 0\n",
            "Ticket          column missing values: 0\n",
            "Fare            column missing values: 1\n",
            "Cabin           column missing values: 1014\n",
            "Embarked        column missing values: 2\n",
            "\n",
            "\n"
          ],
          "name": "stdout"
        }
      ]
    },
    {
      "cell_type": "markdown",
      "metadata": {
        "id": "5zx2qtI2-Ejx"
      },
      "source": [
        "- Survived has 418 missing, but these are all from the testing (submission) dataset which was appended to the training data.\n",
        "- Age has 263 missing, that's a lot.  Dataset is small, so can't just drop these, will need to impute.\n",
        "- Fare has one missing value.\n",
        "- Cabin has 1014 missing values.  That's massive\n",
        "- Embarked has 2 columns missing.  Will try to impute, if not then drop"
      ]
    },
    {
      "cell_type": "markdown",
      "metadata": {
        "id": "3ej2T_4j-jdv"
      },
      "source": [
        "# Cleaning and feature engineering"
      ]
    },
    {
      "cell_type": "markdown",
      "metadata": {
        "id": "7ohlbCI3-xAc"
      },
      "source": [
        "## Add name title"
      ]
    },
    {
      "cell_type": "code",
      "metadata": {
        "id": "pTtm8B_cFzyk"
      },
      "source": [
        "# Define a function to do string compare\n",
        "def substrings_in_string(big_string, substrings):\n",
        "    for substring in substrings:\n",
        "        #print(substring, big_string)\n",
        "        if big_string is np.nan:\n",
        "            return np.nan\n",
        "        if substring in big_string:\n",
        "            return substring\n",
        "    print(big_string)\n",
        "    return np.nan"
      ],
      "execution_count": 15,
      "outputs": []
    },
    {
      "cell_type": "code",
      "metadata": {
        "trusted": true,
        "id": "JpXH5-zCHFSL"
      },
      "source": [
        "# Use this block of code to iterate through the whole Name column,  printing any \n",
        "# names it couldn't match. Check the unmatched names and manually add a title to \n",
        "# the titles list.  Should output nothing if all names matched.\n",
        "titles = ['Mr.','Mrs.','Miss.','Master','Don.','Dona.',\n",
        "          'Rev.','Dr.','Mme.','Ms.','Major.',\n",
        "          'Lady.','Sir.','Mlle.','Col','Capt.',\n",
        "          'Countess.','Jonkheer.']\n",
        "\n",
        "for thisName in df['Name']:\n",
        "  substrings_in_string(thisName,titles)"
      ],
      "execution_count": 16,
      "outputs": []
    },
    {
      "cell_type": "code",
      "metadata": {
        "trusted": true,
        "colab": {
          "base_uri": "https://localhost:8080/"
        },
        "id": "Ry35I351HFSL",
        "outputId": "c84e56a9-f2bd-42cf-d4cd-41a501d57418"
      },
      "source": [
        "def add_titles(df):\n",
        "  df['Title'] = df['Name'].map(lambda x: substrings_in_string(x, titles))\n",
        "  df.Title = df.Title.astype('category')\n",
        "  return df\n",
        "\n",
        "df = add_titles(df)\n",
        "\n",
        "#Check first 10 names converted OK\n",
        "for i in range(1,10):\n",
        "  name = df.Name.iloc[i]\n",
        "  print(f'{name:<55}...extracted: {df.Title.iloc[i]}')"
      ],
      "execution_count": 17,
      "outputs": [
        {
          "output_type": "stream",
          "text": [
            "Cumings, Mrs. John Bradley (Florence Briggs Thayer)    ...extracted: Mrs.\n",
            "Heikkinen, Miss. Laina                                 ...extracted: Miss.\n",
            "Futrelle, Mrs. Jacques Heath (Lily May Peel)           ...extracted: Mrs.\n",
            "Allen, Mr. William Henry                               ...extracted: Mr.\n",
            "Moran, Mr. James                                       ...extracted: Mr.\n",
            "McCarthy, Mr. Timothy J                                ...extracted: Mr.\n",
            "Palsson, Master. Gosta Leonard                         ...extracted: Master\n",
            "Johnson, Mrs. Oscar W (Elisabeth Vilhelmina Berg)      ...extracted: Mrs.\n",
            "Nasser, Mrs. Nicholas (Adele Achem)                    ...extracted: Mrs.\n"
          ],
          "name": "stdout"
        }
      ]
    },
    {
      "cell_type": "markdown",
      "metadata": {
        "id": "e1oQP7wAHcLV"
      },
      "source": [
        "Looks successful, created this as an add_titles() function"
      ]
    },
    {
      "cell_type": "markdown",
      "metadata": {
        "id": "23D--O5en0bP"
      },
      "source": [
        "### For interest"
      ]
    },
    {
      "cell_type": "code",
      "metadata": {
        "trusted": true,
        "id": "jbf3JdvCBQ_6",
        "colab": {
          "base_uri": "https://localhost:8080/"
        },
        "outputId": "92ab4c54-6a9a-4bd7-ca71-5df84404ebe8"
      },
      "source": [
        "# How many in each title category\n",
        "df.groupby(['Title'])['Survived'].mean().sort_values(ascending=False)"
      ],
      "execution_count": 18,
      "outputs": [
        {
          "output_type": "execute_result",
          "data": {
            "text/plain": [
              "Title\n",
              "Sir.         1.000000\n",
              "Lady.        1.000000\n",
              "Ms.          1.000000\n",
              "Countess.    1.000000\n",
              "Mme.         1.000000\n",
              "Mlle.        1.000000\n",
              "Mrs.         0.792000\n",
              "Miss.        0.697802\n",
              "Master       0.575000\n",
              "Major.       0.500000\n",
              "Col          0.500000\n",
              "Dr.          0.428571\n",
              "Mr.          0.156673\n",
              "Rev.         0.000000\n",
              "Jonkheer.    0.000000\n",
              "Don.         0.000000\n",
              "Capt.        0.000000\n",
              "Dona.             NaN\n",
              "Name: Survived, dtype: float64"
            ]
          },
          "metadata": {
            "tags": []
          },
          "execution_count": 18
        }
      ]
    },
    {
      "cell_type": "markdown",
      "metadata": {
        "id": "s1R2XEUfJ_uz"
      },
      "source": [
        "## Fix missing Age\n",
        "This will be tricky to impute nicely. Could simply impute with a mean/median for every missing value, but median age could be strongly connected to categories like Sex, SibSp, etc\n",
        "\n",
        "I think it will be more successful if we group the dataset up and insert median of each category."
      ]
    },
    {
      "cell_type": "code",
      "metadata": {
        "colab": {
          "base_uri": "https://localhost:8080/"
        },
        "id": "bNnV_Su9HGIZ",
        "outputId": "42f48590-5d00-40d7-dcb2-d0888b8dbe8f"
      },
      "source": [
        "# Printing the correlation values against Age.\n",
        "df.corr()['Age'].abs().sort_values(ascending=False)"
      ],
      "execution_count": 19,
      "outputs": [
        {
          "output_type": "execute_result",
          "data": {
            "text/plain": [
              "Age            1.000000\n",
              "Pclass         0.408106\n",
              "SibSp          0.243699\n",
              "Fare           0.178740\n",
              "Parch          0.150917\n",
              "Survived       0.077221\n",
              "PassengerId    0.028814\n",
              "Name: Age, dtype: float64"
            ]
          },
          "metadata": {
            "tags": []
          },
          "execution_count": 19
        }
      ]
    },
    {
      "cell_type": "markdown",
      "metadata": {
        "id": "evqg2HmnJuIF"
      },
      "source": [
        "Age is strongly correllated with numerical features like Pclass, SibSp"
      ]
    },
    {
      "cell_type": "code",
      "metadata": {
        "colab": {
          "base_uri": "https://localhost:8080/",
          "height": 317
        },
        "id": "ORgaOf9uMQyj",
        "outputId": "7c25507f-e82d-4fbd-be1a-771ee791debb"
      },
      "source": [
        "# Median age for each num of siblings / spouses, alongside count\n",
        "piv = pd.pivot_table(data=df, index='SibSp', aggfunc={'Age':[('median',np.median),('count',len)]})\n",
        "piv.reindex([('Age', 'median'),('Age',  'count')], axis=1)"
      ],
      "execution_count": 20,
      "outputs": [
        {
          "output_type": "execute_result",
          "data": {
            "text/html": [
              "<div>\n",
              "<style scoped>\n",
              "    .dataframe tbody tr th:only-of-type {\n",
              "        vertical-align: middle;\n",
              "    }\n",
              "\n",
              "    .dataframe tbody tr th {\n",
              "        vertical-align: top;\n",
              "    }\n",
              "\n",
              "    .dataframe thead tr th {\n",
              "        text-align: left;\n",
              "    }\n",
              "\n",
              "    .dataframe thead tr:last-of-type th {\n",
              "        text-align: right;\n",
              "    }\n",
              "</style>\n",
              "<table border=\"1\" class=\"dataframe\">\n",
              "  <thead>\n",
              "    <tr>\n",
              "      <th></th>\n",
              "      <th colspan=\"2\" halign=\"left\">Age</th>\n",
              "    </tr>\n",
              "    <tr>\n",
              "      <th></th>\n",
              "      <th>median</th>\n",
              "      <th>count</th>\n",
              "    </tr>\n",
              "    <tr>\n",
              "      <th>SibSp</th>\n",
              "      <th></th>\n",
              "      <th></th>\n",
              "    </tr>\n",
              "  </thead>\n",
              "  <tbody>\n",
              "    <tr>\n",
              "      <th>0</th>\n",
              "      <td>28.0</td>\n",
              "      <td>891.0</td>\n",
              "    </tr>\n",
              "    <tr>\n",
              "      <th>1</th>\n",
              "      <td>30.0</td>\n",
              "      <td>319.0</td>\n",
              "    </tr>\n",
              "    <tr>\n",
              "      <th>2</th>\n",
              "      <td>21.5</td>\n",
              "      <td>42.0</td>\n",
              "    </tr>\n",
              "    <tr>\n",
              "      <th>3</th>\n",
              "      <td>14.5</td>\n",
              "      <td>20.0</td>\n",
              "    </tr>\n",
              "    <tr>\n",
              "      <th>4</th>\n",
              "      <td>7.0</td>\n",
              "      <td>22.0</td>\n",
              "    </tr>\n",
              "    <tr>\n",
              "      <th>5</th>\n",
              "      <td>10.5</td>\n",
              "      <td>6.0</td>\n",
              "    </tr>\n",
              "    <tr>\n",
              "      <th>8</th>\n",
              "      <td>14.5</td>\n",
              "      <td>9.0</td>\n",
              "    </tr>\n",
              "  </tbody>\n",
              "</table>\n",
              "</div>"
            ],
            "text/plain": [
              "         Age       \n",
              "      median  count\n",
              "SibSp              \n",
              "0       28.0  891.0\n",
              "1       30.0  319.0\n",
              "2       21.5   42.0\n",
              "3       14.5   20.0\n",
              "4        7.0   22.0\n",
              "5       10.5    6.0\n",
              "8       14.5    9.0"
            ]
          },
          "metadata": {
            "tags": []
          },
          "execution_count": 20
        }
      ]
    },
    {
      "cell_type": "markdown",
      "metadata": {
        "id": "aLgRD7trIo3n"
      },
      "source": [
        "So people with fewer siblings onboard tended to be older, seems intuitive.  But there are very few people in the high Sibsp categories.  So this will not give a lot of statistical significance to those median values.\n",
        "\n",
        "Instead let's try the same with Pclass (which was strongly correlated with Age)\n"
      ]
    },
    {
      "cell_type": "code",
      "metadata": {
        "id": "5A_ntN27Oh8W",
        "colab": {
          "base_uri": "https://localhost:8080/",
          "height": 197
        },
        "outputId": "ec1972ce-c561-4424-a823-4e0580800963"
      },
      "source": [
        "# Median age for each ticket class, alongside count\n",
        "piv = pd.pivot_table(data=df, index='Pclass', aggfunc={'Age':[('median',np.median),('count',len)]})\n",
        "piv.reindex([('Age', 'median'),('Age',  'count')], axis=1)"
      ],
      "execution_count": 21,
      "outputs": [
        {
          "output_type": "execute_result",
          "data": {
            "text/html": [
              "<div>\n",
              "<style scoped>\n",
              "    .dataframe tbody tr th:only-of-type {\n",
              "        vertical-align: middle;\n",
              "    }\n",
              "\n",
              "    .dataframe tbody tr th {\n",
              "        vertical-align: top;\n",
              "    }\n",
              "\n",
              "    .dataframe thead tr th {\n",
              "        text-align: left;\n",
              "    }\n",
              "\n",
              "    .dataframe thead tr:last-of-type th {\n",
              "        text-align: right;\n",
              "    }\n",
              "</style>\n",
              "<table border=\"1\" class=\"dataframe\">\n",
              "  <thead>\n",
              "    <tr>\n",
              "      <th></th>\n",
              "      <th colspan=\"2\" halign=\"left\">Age</th>\n",
              "    </tr>\n",
              "    <tr>\n",
              "      <th></th>\n",
              "      <th>median</th>\n",
              "      <th>count</th>\n",
              "    </tr>\n",
              "    <tr>\n",
              "      <th>Pclass</th>\n",
              "      <th></th>\n",
              "      <th></th>\n",
              "    </tr>\n",
              "  </thead>\n",
              "  <tbody>\n",
              "    <tr>\n",
              "      <th>1</th>\n",
              "      <td>39.0</td>\n",
              "      <td>323.0</td>\n",
              "    </tr>\n",
              "    <tr>\n",
              "      <th>2</th>\n",
              "      <td>29.0</td>\n",
              "      <td>277.0</td>\n",
              "    </tr>\n",
              "    <tr>\n",
              "      <th>3</th>\n",
              "      <td>24.0</td>\n",
              "      <td>709.0</td>\n",
              "    </tr>\n",
              "  </tbody>\n",
              "</table>\n",
              "</div>"
            ],
            "text/plain": [
              "          Age       \n",
              "       median  count\n",
              "Pclass              \n",
              "1        39.0  323.0\n",
              "2        29.0  277.0\n",
              "3        24.0  709.0"
            ]
          },
          "metadata": {
            "tags": []
          },
          "execution_count": 21
        }
      ]
    },
    {
      "cell_type": "markdown",
      "metadata": {
        "id": "KJ6kXa5WOjtU"
      },
      "source": [
        "There is data about Sex, let's try looking at whether Sex is linked to age distributions"
      ]
    },
    {
      "cell_type": "code",
      "metadata": {
        "colab": {
          "base_uri": "https://localhost:8080/",
          "height": 403
        },
        "id": "P5g3AId7I1Aq",
        "outputId": "d155ef56-cff4-4492-bcba-d851ebce2f82"
      },
      "source": [
        "fig, axs = plt.subplots(1,2)\n",
        "fig.set_figwidth(10,18)\n",
        "sns.histplot(ax=axs[0],data=df, x='Age', hue='Sex', kde=True);\n",
        "sns.boxplot(ax=axs[1],data=df, y='Age', x='Sex');\n",
        "\n",
        "df.groupby(['Sex']).describe()['Age']"
      ],
      "execution_count": 22,
      "outputs": [
        {
          "output_type": "execute_result",
          "data": {
            "text/html": [
              "<div>\n",
              "<style scoped>\n",
              "    .dataframe tbody tr th:only-of-type {\n",
              "        vertical-align: middle;\n",
              "    }\n",
              "\n",
              "    .dataframe tbody tr th {\n",
              "        vertical-align: top;\n",
              "    }\n",
              "\n",
              "    .dataframe thead th {\n",
              "        text-align: right;\n",
              "    }\n",
              "</style>\n",
              "<table border=\"1\" class=\"dataframe\">\n",
              "  <thead>\n",
              "    <tr style=\"text-align: right;\">\n",
              "      <th></th>\n",
              "      <th>count</th>\n",
              "      <th>mean</th>\n",
              "      <th>std</th>\n",
              "      <th>min</th>\n",
              "      <th>25%</th>\n",
              "      <th>50%</th>\n",
              "      <th>75%</th>\n",
              "      <th>max</th>\n",
              "    </tr>\n",
              "    <tr>\n",
              "      <th>Sex</th>\n",
              "      <th></th>\n",
              "      <th></th>\n",
              "      <th></th>\n",
              "      <th></th>\n",
              "      <th></th>\n",
              "      <th></th>\n",
              "      <th></th>\n",
              "      <th></th>\n",
              "    </tr>\n",
              "  </thead>\n",
              "  <tbody>\n",
              "    <tr>\n",
              "      <th>female</th>\n",
              "      <td>388.0</td>\n",
              "      <td>28.687088</td>\n",
              "      <td>14.576962</td>\n",
              "      <td>0.17</td>\n",
              "      <td>19.0</td>\n",
              "      <td>27.0</td>\n",
              "      <td>38.0</td>\n",
              "      <td>76.0</td>\n",
              "    </tr>\n",
              "    <tr>\n",
              "      <th>male</th>\n",
              "      <td>658.0</td>\n",
              "      <td>30.585228</td>\n",
              "      <td>14.280581</td>\n",
              "      <td>0.33</td>\n",
              "      <td>21.0</td>\n",
              "      <td>28.0</td>\n",
              "      <td>39.0</td>\n",
              "      <td>80.0</td>\n",
              "    </tr>\n",
              "  </tbody>\n",
              "</table>\n",
              "</div>"
            ],
            "text/plain": [
              "        count       mean        std   min   25%   50%   75%   max\n",
              "Sex                                                              \n",
              "female  388.0  28.687088  14.576962  0.17  19.0  27.0  38.0  76.0\n",
              "male    658.0  30.585228  14.280581  0.33  21.0  28.0  39.0  80.0"
            ]
          },
          "metadata": {
            "tags": []
          },
          "execution_count": 22
        },
        {
          "output_type": "display_data",
          "data": {
            "image/png": "[encoded data removed]",
            "text/plain": [
              "<Figure size 720x288 with 2 Axes>"
            ]
          },
          "metadata": {
            "tags": [],
            "needs_background": "light"
          }
        }
      ]
    },
    {
      "cell_type": "markdown",
      "metadata": {
        "id": "DsWjhjgLKDE9"
      },
      "source": [
        "Sex category doesn't realy correlate with Age very strongly on it's own, but:\n",
        "- Females are generally younger in this dataset, though median/50% quartile is only 1 year less.\n",
        "- All quartiles are lower in age, median is lower too.\n",
        "\n",
        "---\n",
        "\n",
        "So let's pick both categories and group the dataset by these together, Sex and ticket class."
      ]
    },
    {
      "cell_type": "code",
      "metadata": {
        "colab": {
          "base_uri": "https://localhost:8080/",
          "height": 287
        },
        "id": "QmjeJYiFOT-J",
        "outputId": "f0224e2f-b4ec-4a59-b0ef-d71e4a01e600"
      },
      "source": [
        "pd.pivot_table(data=df, index=['Sex','Pclass'], aggfunc={'Age':[('median',np.median),('count',len)]})"
      ],
      "execution_count": 23,
      "outputs": [
        {
          "output_type": "execute_result",
          "data": {
            "text/html": [
              "<div>\n",
              "<style scoped>\n",
              "    .dataframe tbody tr th:only-of-type {\n",
              "        vertical-align: middle;\n",
              "    }\n",
              "\n",
              "    .dataframe tbody tr th {\n",
              "        vertical-align: top;\n",
              "    }\n",
              "\n",
              "    .dataframe thead tr th {\n",
              "        text-align: left;\n",
              "    }\n",
              "\n",
              "    .dataframe thead tr:last-of-type th {\n",
              "        text-align: right;\n",
              "    }\n",
              "</style>\n",
              "<table border=\"1\" class=\"dataframe\">\n",
              "  <thead>\n",
              "    <tr>\n",
              "      <th></th>\n",
              "      <th></th>\n",
              "      <th colspan=\"2\" halign=\"left\">Age</th>\n",
              "    </tr>\n",
              "    <tr>\n",
              "      <th></th>\n",
              "      <th></th>\n",
              "      <th>count</th>\n",
              "      <th>median</th>\n",
              "    </tr>\n",
              "    <tr>\n",
              "      <th>Sex</th>\n",
              "      <th>Pclass</th>\n",
              "      <th></th>\n",
              "      <th></th>\n",
              "    </tr>\n",
              "  </thead>\n",
              "  <tbody>\n",
              "    <tr>\n",
              "      <th rowspan=\"3\" valign=\"top\">female</th>\n",
              "      <th>1</th>\n",
              "      <td>144.0</td>\n",
              "      <td>36.0</td>\n",
              "    </tr>\n",
              "    <tr>\n",
              "      <th>2</th>\n",
              "      <td>106.0</td>\n",
              "      <td>28.0</td>\n",
              "    </tr>\n",
              "    <tr>\n",
              "      <th>3</th>\n",
              "      <td>216.0</td>\n",
              "      <td>22.0</td>\n",
              "    </tr>\n",
              "    <tr>\n",
              "      <th rowspan=\"3\" valign=\"top\">male</th>\n",
              "      <th>1</th>\n",
              "      <td>179.0</td>\n",
              "      <td>42.0</td>\n",
              "    </tr>\n",
              "    <tr>\n",
              "      <th>2</th>\n",
              "      <td>171.0</td>\n",
              "      <td>29.5</td>\n",
              "    </tr>\n",
              "    <tr>\n",
              "      <th>3</th>\n",
              "      <td>493.0</td>\n",
              "      <td>25.0</td>\n",
              "    </tr>\n",
              "  </tbody>\n",
              "</table>\n",
              "</div>"
            ],
            "text/plain": [
              "                 Age       \n",
              "               count median\n",
              "Sex    Pclass              \n",
              "female 1       144.0   36.0\n",
              "       2       106.0   28.0\n",
              "       3       216.0   22.0\n",
              "male   1       179.0   42.0\n",
              "       2       171.0   29.5\n",
              "       3       493.0   25.0"
            ]
          },
          "metadata": {
            "tags": []
          },
          "execution_count": 23
        }
      ]
    },
    {
      "cell_type": "markdown",
      "metadata": {
        "id": "bAtUsO4PMBxX"
      },
      "source": [
        "That looks promising, so there's a bit more distinction between ticket groups of\n",
        "\n",
        "Also, each of these groups has over 100 instances, so statistical significance is decent.  Let's write a function to impute on this basis."
      ]
    },
    {
      "cell_type": "code",
      "metadata": {
        "colab": {
          "base_uri": "https://localhost:8080/",
          "height": 287
        },
        "id": "tjFFoVilKLZR",
        "outputId": "e79bd490-89fe-4295-88a5-e5f04b98055c"
      },
      "source": [
        "def fill_ages(df):\n",
        "  # Apply a lambda function to fill the nans of each group.\n",
        "  df['Age'] = df.groupby(['Sex', 'Pclass'])['Age'].apply(lambda x: x.fillna(x.median()))\n",
        "  return df\n",
        "\n",
        "df = fill_ages(df)\n",
        "\n",
        "# As a check, reprint the median of each group in the modified df, it shouldn't have changed.\n",
        "pd.pivot_table(data=df, index=['Sex','Pclass'], aggfunc={'Age':[('median',np.median),('count',len)]})"
      ],
      "execution_count": 24,
      "outputs": [
        {
          "output_type": "execute_result",
          "data": {
            "text/html": [
              "<div>\n",
              "<style scoped>\n",
              "    .dataframe tbody tr th:only-of-type {\n",
              "        vertical-align: middle;\n",
              "    }\n",
              "\n",
              "    .dataframe tbody tr th {\n",
              "        vertical-align: top;\n",
              "    }\n",
              "\n",
              "    .dataframe thead tr th {\n",
              "        text-align: left;\n",
              "    }\n",
              "\n",
              "    .dataframe thead tr:last-of-type th {\n",
              "        text-align: right;\n",
              "    }\n",
              "</style>\n",
              "<table border=\"1\" class=\"dataframe\">\n",
              "  <thead>\n",
              "    <tr>\n",
              "      <th></th>\n",
              "      <th></th>\n",
              "      <th colspan=\"2\" halign=\"left\">Age</th>\n",
              "    </tr>\n",
              "    <tr>\n",
              "      <th></th>\n",
              "      <th></th>\n",
              "      <th>count</th>\n",
              "      <th>median</th>\n",
              "    </tr>\n",
              "    <tr>\n",
              "      <th>Sex</th>\n",
              "      <th>Pclass</th>\n",
              "      <th></th>\n",
              "      <th></th>\n",
              "    </tr>\n",
              "  </thead>\n",
              "  <tbody>\n",
              "    <tr>\n",
              "      <th rowspan=\"3\" valign=\"top\">female</th>\n",
              "      <th>1</th>\n",
              "      <td>144.0</td>\n",
              "      <td>36.0</td>\n",
              "    </tr>\n",
              "    <tr>\n",
              "      <th>2</th>\n",
              "      <td>106.0</td>\n",
              "      <td>28.0</td>\n",
              "    </tr>\n",
              "    <tr>\n",
              "      <th>3</th>\n",
              "      <td>216.0</td>\n",
              "      <td>22.0</td>\n",
              "    </tr>\n",
              "    <tr>\n",
              "      <th rowspan=\"3\" valign=\"top\">male</th>\n",
              "      <th>1</th>\n",
              "      <td>179.0</td>\n",
              "      <td>42.0</td>\n",
              "    </tr>\n",
              "    <tr>\n",
              "      <th>2</th>\n",
              "      <td>171.0</td>\n",
              "      <td>29.5</td>\n",
              "    </tr>\n",
              "    <tr>\n",
              "      <th>3</th>\n",
              "      <td>493.0</td>\n",
              "      <td>25.0</td>\n",
              "    </tr>\n",
              "  </tbody>\n",
              "</table>\n",
              "</div>"
            ],
            "text/plain": [
              "                 Age       \n",
              "               count median\n",
              "Sex    Pclass              \n",
              "female 1       144.0   36.0\n",
              "       2       106.0   28.0\n",
              "       3       216.0   22.0\n",
              "male   1       179.0   42.0\n",
              "       2       171.0   29.5\n",
              "       3       493.0   25.0"
            ]
          },
          "metadata": {
            "tags": []
          },
          "execution_count": 24
        }
      ]
    },
    {
      "cell_type": "markdown",
      "metadata": {
        "id": "LnAiazEnKZfb"
      },
      "source": [
        "Check status of missing values now"
      ]
    },
    {
      "cell_type": "code",
      "metadata": {
        "colab": {
          "base_uri": "https://localhost:8080/"
        },
        "id": "UDzEW6-TKcXR",
        "outputId": "053d1ccb-0a06-4511-9cf9-73a29d78712e"
      },
      "source": [
        "display_missing(df)"
      ],
      "execution_count": 25,
      "outputs": [
        {
          "output_type": "stream",
          "text": [
            "PassengerId     column missing values: 0\n",
            "Survived        column missing values: 418\n",
            "Pclass          column missing values: 0\n",
            "Name            column missing values: 0\n",
            "Sex             column missing values: 0\n",
            "Age             column missing values: 0\n",
            "SibSp           column missing values: 0\n",
            "Parch           column missing values: 0\n",
            "Ticket          column missing values: 0\n",
            "Fare            column missing values: 1\n",
            "Cabin           column missing values: 1014\n",
            "Embarked        column missing values: 2\n",
            "Title           column missing values: 0\n",
            "\n",
            "\n"
          ],
          "name": "stdout"
        }
      ]
    },
    {
      "cell_type": "markdown",
      "metadata": {
        "id": "0enEVLoVSB3M"
      },
      "source": [
        "So Cabin still has loads of missing data, let's look at that next"
      ]
    },
    {
      "cell_type": "markdown",
      "metadata": {
        "id": "0sRHNoz3KY6D"
      },
      "source": [
        "## Add Deck category from Cabin\n",
        "Extract the deck number feature from the Cabin name and use it to bin up the Cabins into Deck categories, which will be easy to train a model with.\n",
        "\n",
        "Maybe people certain decks were more likely to get into a lifeboat.\n",
        "\n",
        "With so many missing records of \"Cabin\", I will just assign them a \"missing\" category when I bin them into Deck categories."
      ]
    },
    {
      "cell_type": "code",
      "metadata": {
        "trusted": true,
        "id": "x9Ngy8ScKz4a"
      },
      "source": [
        "# Use this block of code to iterate through the whole Cabin column, printing any \n",
        "# cabin numbers it couldn't match. Check the unmatched cabins and manually add a \n",
        "# Deck category to the decks list. Should output nothing if all cabins matched.\n",
        "decks = ['A','B','C','D','E','F','G','T']\n",
        "for thisCabin in df['Cabin']:\n",
        "    substrings_in_string(thisCabin,decks)"
      ],
      "execution_count": 26,
      "outputs": []
    },
    {
      "cell_type": "code",
      "metadata": {
        "trusted": true,
        "colab": {
          "base_uri": "https://localhost:8080/",
          "height": 278
        },
        "id": "eRvPEM73Kz4l",
        "outputId": "877bba20-e06d-4206-bbf6-a206a7b47a27"
      },
      "source": [
        "def add_decks(df):\n",
        "  # Group by Deck, print probability of survival for each\n",
        "  df['Deck'] = df['Cabin'].map(lambda x: substrings_in_string(x, decks))\n",
        "  # Insert 'M' for nan values\n",
        "  df['Deck'] = df['Deck'].fillna('M')\n",
        "  return df\n",
        "\n",
        "df = add_decks(df)\n",
        "\n",
        "# Plot the probability of survival based on deck\n",
        "order_list = df.groupby(['Deck']).mean()['Survived'].sort_values(ascending=False).index\n",
        "sns.barplot(data=df,x='Deck',y='Survived',estimator=np.mean,palette='Blues',order=order_list);"
      ],
      "execution_count": 27,
      "outputs": [
        {
          "output_type": "display_data",
          "data": {
            "image/png": "[encoded data removed]",
            "text/plain": [
              "<Figure size 432x288 with 1 Axes>"
            ]
          },
          "metadata": {
            "tags": [],
            "needs_background": "light"
          }
        }
      ]
    },
    {
      "cell_type": "markdown",
      "metadata": {
        "id": "ouM37BeMKz4k"
      },
      "source": [
        "- Deck D, E, B all have close to 75% survival rates.\n",
        "- A lot of veriability in survival on deck G.\n",
        "- Nobody on deck T survived."
      ]
    },
    {
      "cell_type": "markdown",
      "metadata": {
        "id": "i29afH8EKz4m"
      },
      "source": [
        "### For interest\n",
        "Break this down by sex also.  So Sex is a great predictor of survival, especially coupled with Deck."
      ]
    },
    {
      "cell_type": "code",
      "metadata": {
        "trusted": true,
        "colab": {
          "base_uri": "https://localhost:8080/"
        },
        "id": "g3_yQYfeKz4m",
        "outputId": "9c6bf0bd-4c19-4510-ebe1-d3a12afb970f"
      },
      "source": [
        "df.groupby(['Sex','Deck']).mean()['Survived'].sort_values(ascending=False)"
      ],
      "execution_count": 28,
      "outputs": [
        {
          "output_type": "execute_result",
          "data": {
            "text/plain": [
              "Sex     Deck\n",
              "female  F       1.000000\n",
              "        D       1.000000\n",
              "        B       1.000000\n",
              "        A       1.000000\n",
              "        E       0.937500\n",
              "        C       0.888889\n",
              "        M       0.654378\n",
              "male    E       0.588235\n",
              "female  G       0.500000\n",
              "male    D       0.466667\n",
              "        A       0.428571\n",
              "        B       0.400000\n",
              "        F       0.375000\n",
              "        C       0.343750\n",
              "        M       0.136170\n",
              "        T       0.000000\n",
              "Name: Survived, dtype: float64"
            ]
          },
          "metadata": {
            "tags": []
          },
          "execution_count": 28
        }
      ]
    },
    {
      "cell_type": "markdown",
      "metadata": {
        "id": "oTjvgHR2Kz4m"
      },
      "source": [
        "Now looking at how survival chance rises with ticket class.  1st Class has much higher chance of survival"
      ]
    },
    {
      "cell_type": "code",
      "metadata": {
        "trusted": true,
        "colab": {
          "base_uri": "https://localhost:8080/"
        },
        "id": "8vM1swMCKz4n",
        "outputId": "c8efbf65-8c79-4ced-e961-6cf633cad56f"
      },
      "source": [
        "df.groupby(['Pclass'],dropna=False).mean()['Survived']"
      ],
      "execution_count": 29,
      "outputs": [
        {
          "output_type": "execute_result",
          "data": {
            "text/plain": [
              "Pclass\n",
              "1    0.629630\n",
              "2    0.472826\n",
              "3    0.242363\n",
              "Name: Survived, dtype: float64"
            ]
          },
          "metadata": {
            "tags": []
          },
          "execution_count": 29
        }
      ]
    },
    {
      "cell_type": "markdown",
      "metadata": {
        "id": "PG_fl1J9Kz4n"
      },
      "source": [
        "Again Sex and Pclass here are great predictors, strong relationships are apparent in predicting survival rate."
      ]
    },
    {
      "cell_type": "code",
      "metadata": {
        "trusted": true,
        "colab": {
          "base_uri": "https://localhost:8080/"
        },
        "id": "HqIsmgmjKz4n",
        "outputId": "7215f09a-4d41-4ec1-8e17-2a962184ac35"
      },
      "source": [
        "df.groupby(['Sex','Pclass'],dropna=False).mean()['Survived']"
      ],
      "execution_count": 30,
      "outputs": [
        {
          "output_type": "execute_result",
          "data": {
            "text/plain": [
              "Sex     Pclass\n",
              "female  1         0.968085\n",
              "        2         0.921053\n",
              "        3         0.500000\n",
              "male    1         0.368852\n",
              "        2         0.157407\n",
              "        3         0.135447\n",
              "Name: Survived, dtype: float64"
            ]
          },
          "metadata": {
            "tags": []
          },
          "execution_count": 30
        }
      ]
    },
    {
      "cell_type": "markdown",
      "metadata": {
        "id": "30g9wujyKz4n"
      },
      "source": [
        "For info. Only one guy was in deck T, didn't survive"
      ]
    },
    {
      "cell_type": "code",
      "metadata": {
        "trusted": true,
        "colab": {
          "base_uri": "https://localhost:8080/",
          "height": 147
        },
        "id": "NblbEOxdKz4o",
        "outputId": "457a26c1-f83e-4644-9eb8-2b21cb5bc060"
      },
      "source": [
        "df[df['Deck'] == 'T']"
      ],
      "execution_count": 31,
      "outputs": [
        {
          "output_type": "execute_result",
          "data": {
            "text/html": [
              "<div>\n",
              "<style scoped>\n",
              "    .dataframe tbody tr th:only-of-type {\n",
              "        vertical-align: middle;\n",
              "    }\n",
              "\n",
              "    .dataframe tbody tr th {\n",
              "        vertical-align: top;\n",
              "    }\n",
              "\n",
              "    .dataframe thead th {\n",
              "        text-align: right;\n",
              "    }\n",
              "</style>\n",
              "<table border=\"1\" class=\"dataframe\">\n",
              "  <thead>\n",
              "    <tr style=\"text-align: right;\">\n",
              "      <th></th>\n",
              "      <th>PassengerId</th>\n",
              "      <th>Survived</th>\n",
              "      <th>Pclass</th>\n",
              "      <th>Name</th>\n",
              "      <th>Sex</th>\n",
              "      <th>Age</th>\n",
              "      <th>SibSp</th>\n",
              "      <th>Parch</th>\n",
              "      <th>Ticket</th>\n",
              "      <th>Fare</th>\n",
              "      <th>Cabin</th>\n",
              "      <th>Embarked</th>\n",
              "      <th>Title</th>\n",
              "      <th>Deck</th>\n",
              "    </tr>\n",
              "  </thead>\n",
              "  <tbody>\n",
              "    <tr>\n",
              "      <th>339</th>\n",
              "      <td>340</td>\n",
              "      <td>0.0</td>\n",
              "      <td>1</td>\n",
              "      <td>Blackwell, Mr. Stephen Weart</td>\n",
              "      <td>male</td>\n",
              "      <td>45.0</td>\n",
              "      <td>0</td>\n",
              "      <td>0</td>\n",
              "      <td>113784</td>\n",
              "      <td>35.5</td>\n",
              "      <td>T</td>\n",
              "      <td>S</td>\n",
              "      <td>Mr.</td>\n",
              "      <td>T</td>\n",
              "    </tr>\n",
              "  </tbody>\n",
              "</table>\n",
              "</div>"
            ],
            "text/plain": [
              "     PassengerId  Survived  Pclass  ... Embarked Title  Deck\n",
              "339          340       0.0       1  ...        S   Mr.     T\n",
              "\n",
              "[1 rows x 14 columns]"
            ]
          },
          "metadata": {
            "tags": []
          },
          "execution_count": 31
        }
      ]
    },
    {
      "cell_type": "markdown",
      "metadata": {
        "id": "a2yc1vDnK-L-"
      },
      "source": [
        "## Fix missing Embarked values"
      ]
    },
    {
      "cell_type": "code",
      "metadata": {
        "trusted": true,
        "colab": {
          "base_uri": "https://localhost:8080/",
          "height": 244
        },
        "id": "vEQhVLO_K-Xa",
        "outputId": "7c103aed-5400-4c55-e19f-c74619052faa"
      },
      "source": [
        "df[df['Embarked'].isna() == True]"
      ],
      "execution_count": 32,
      "outputs": [
        {
          "output_type": "execute_result",
          "data": {
            "text/html": [
              "<div>\n",
              "<style scoped>\n",
              "    .dataframe tbody tr th:only-of-type {\n",
              "        vertical-align: middle;\n",
              "    }\n",
              "\n",
              "    .dataframe tbody tr th {\n",
              "        vertical-align: top;\n",
              "    }\n",
              "\n",
              "    .dataframe thead th {\n",
              "        text-align: right;\n",
              "    }\n",
              "</style>\n",
              "<table border=\"1\" class=\"dataframe\">\n",
              "  <thead>\n",
              "    <tr style=\"text-align: right;\">\n",
              "      <th></th>\n",
              "      <th>PassengerId</th>\n",
              "      <th>Survived</th>\n",
              "      <th>Pclass</th>\n",
              "      <th>Name</th>\n",
              "      <th>Sex</th>\n",
              "      <th>Age</th>\n",
              "      <th>SibSp</th>\n",
              "      <th>Parch</th>\n",
              "      <th>Ticket</th>\n",
              "      <th>Fare</th>\n",
              "      <th>Cabin</th>\n",
              "      <th>Embarked</th>\n",
              "      <th>Title</th>\n",
              "      <th>Deck</th>\n",
              "    </tr>\n",
              "  </thead>\n",
              "  <tbody>\n",
              "    <tr>\n",
              "      <th>61</th>\n",
              "      <td>62</td>\n",
              "      <td>1.0</td>\n",
              "      <td>1</td>\n",
              "      <td>Icard, Miss. Amelie</td>\n",
              "      <td>female</td>\n",
              "      <td>38.0</td>\n",
              "      <td>0</td>\n",
              "      <td>0</td>\n",
              "      <td>113572</td>\n",
              "      <td>80.0</td>\n",
              "      <td>B28</td>\n",
              "      <td>NaN</td>\n",
              "      <td>Miss.</td>\n",
              "      <td>B</td>\n",
              "    </tr>\n",
              "    <tr>\n",
              "      <th>829</th>\n",
              "      <td>830</td>\n",
              "      <td>1.0</td>\n",
              "      <td>1</td>\n",
              "      <td>Stone, Mrs. George Nelson (Martha Evelyn)</td>\n",
              "      <td>female</td>\n",
              "      <td>62.0</td>\n",
              "      <td>0</td>\n",
              "      <td>0</td>\n",
              "      <td>113572</td>\n",
              "      <td>80.0</td>\n",
              "      <td>B28</td>\n",
              "      <td>NaN</td>\n",
              "      <td>Mrs.</td>\n",
              "      <td>B</td>\n",
              "    </tr>\n",
              "  </tbody>\n",
              "</table>\n",
              "</div>"
            ],
            "text/plain": [
              "     PassengerId  Survived  Pclass  ... Embarked  Title  Deck\n",
              "61            62       1.0       1  ...      NaN  Miss.     B\n",
              "829          830       1.0       1  ...      NaN   Mrs.     B\n",
              "\n",
              "[2 rows x 14 columns]"
            ]
          },
          "metadata": {
            "tags": []
          },
          "execution_count": 32
        }
      ]
    },
    {
      "cell_type": "code",
      "metadata": {
        "trusted": true,
        "colab": {
          "base_uri": "https://localhost:8080/"
        },
        "id": "xg1QDtguK-Xb",
        "outputId": "538f9778-f1d8-4817-e4ba-af34d3ed3b7a"
      },
      "source": [
        "# Guide I'm following googled the names and worked out they embarked from Southampton 'S'!\n",
        "# Fillna using this info\n",
        "df['Embarked'] = df['Embarked'].fillna('S')\n",
        " \n",
        "# Check nans left in dataset\n",
        "display_missing(df)"
      ],
      "execution_count": 33,
      "outputs": [
        {
          "output_type": "stream",
          "text": [
            "PassengerId     column missing values: 0\n",
            "Survived        column missing values: 418\n",
            "Pclass          column missing values: 0\n",
            "Name            column missing values: 0\n",
            "Sex             column missing values: 0\n",
            "Age             column missing values: 0\n",
            "SibSp           column missing values: 0\n",
            "Parch           column missing values: 0\n",
            "Ticket          column missing values: 0\n",
            "Fare            column missing values: 1\n",
            "Cabin           column missing values: 1014\n",
            "Embarked        column missing values: 0\n",
            "Title           column missing values: 0\n",
            "Deck            column missing values: 0\n",
            "\n",
            "\n"
          ],
          "name": "stdout"
        }
      ]
    },
    {
      "cell_type": "markdown",
      "metadata": {
        "id": "hnfIvnxMNSR8"
      },
      "source": [
        "Missing values remain in Fare.  Don't think these are worth worrying about.  Will drop these 2 rows."
      ]
    },
    {
      "cell_type": "markdown",
      "metadata": {
        "id": "iSrlN932BQ_1"
      },
      "source": [
        "## Fix nan values in Embarked column"
      ]
    },
    {
      "cell_type": "code",
      "metadata": {
        "trusted": true,
        "id": "IZLe89vlBQ_1",
        "colab": {
          "base_uri": "https://localhost:8080/",
          "height": 67
        },
        "outputId": "e92f06af-797f-4089-8dc8-c8eb82436477"
      },
      "source": [
        "df[df['Embarked'].isna() == True]"
      ],
      "execution_count": 34,
      "outputs": [
        {
          "output_type": "execute_result",
          "data": {
            "text/html": [
              "<div>\n",
              "<style scoped>\n",
              "    .dataframe tbody tr th:only-of-type {\n",
              "        vertical-align: middle;\n",
              "    }\n",
              "\n",
              "    .dataframe tbody tr th {\n",
              "        vertical-align: top;\n",
              "    }\n",
              "\n",
              "    .dataframe thead th {\n",
              "        text-align: right;\n",
              "    }\n",
              "</style>\n",
              "<table border=\"1\" class=\"dataframe\">\n",
              "  <thead>\n",
              "    <tr style=\"text-align: right;\">\n",
              "      <th></th>\n",
              "      <th>PassengerId</th>\n",
              "      <th>Survived</th>\n",
              "      <th>Pclass</th>\n",
              "      <th>Name</th>\n",
              "      <th>Sex</th>\n",
              "      <th>Age</th>\n",
              "      <th>SibSp</th>\n",
              "      <th>Parch</th>\n",
              "      <th>Ticket</th>\n",
              "      <th>Fare</th>\n",
              "      <th>Cabin</th>\n",
              "      <th>Embarked</th>\n",
              "      <th>Title</th>\n",
              "      <th>Deck</th>\n",
              "    </tr>\n",
              "  </thead>\n",
              "  <tbody>\n",
              "  </tbody>\n",
              "</table>\n",
              "</div>"
            ],
            "text/plain": [
              "Empty DataFrame\n",
              "Columns: [PassengerId, Survived, Pclass, Name, Sex, Age, SibSp, Parch, Ticket, Fare, Cabin, Embarked, Title, Deck]\n",
              "Index: []"
            ]
          },
          "metadata": {
            "tags": []
          },
          "execution_count": 34
        }
      ]
    },
    {
      "cell_type": "code",
      "metadata": {
        "trusted": true,
        "id": "fWI_22M-BQ_2"
      },
      "source": [
        "# Guide I'm following googled the names and worked out they embarked from Southampton 'S'\n",
        "# Fillna using this info\n",
        "df['Embarked'] = df['Embarked'].fillna('S')"
      ],
      "execution_count": 35,
      "outputs": []
    },
    {
      "cell_type": "code",
      "metadata": {
        "colab": {
          "base_uri": "https://localhost:8080/"
        },
        "id": "nP64d-jrod-K",
        "outputId": "3dd183ce-9a75-436e-b10a-42bf39726aad"
      },
      "source": [
        "display_missing(df)"
      ],
      "execution_count": 36,
      "outputs": [
        {
          "output_type": "stream",
          "text": [
            "PassengerId     column missing values: 0\n",
            "Survived        column missing values: 418\n",
            "Pclass          column missing values: 0\n",
            "Name            column missing values: 0\n",
            "Sex             column missing values: 0\n",
            "Age             column missing values: 0\n",
            "SibSp           column missing values: 0\n",
            "Parch           column missing values: 0\n",
            "Ticket          column missing values: 0\n",
            "Fare            column missing values: 1\n",
            "Cabin           column missing values: 1014\n",
            "Embarked        column missing values: 0\n",
            "Title           column missing values: 0\n",
            "Deck            column missing values: 0\n",
            "\n",
            "\n"
          ],
          "name": "stdout"
        }
      ]
    },
    {
      "cell_type": "markdown",
      "metadata": {
        "id": "puLyFi3QBQ_3"
      },
      "source": [
        "## Add family size\n",
        "Add family size column"
      ]
    },
    {
      "cell_type": "code",
      "metadata": {
        "trusted": true,
        "id": "1nO5s5iJBQ_3",
        "colab": {
          "base_uri": "https://localhost:8080/",
          "height": 484
        },
        "outputId": "041b4349-eb7e-4693-b123-40c263262c15"
      },
      "source": [
        "df['familysize'] = df['Parch'] + df['SibSp'] + 1\n",
        "df.head()"
      ],
      "execution_count": 37,
      "outputs": [
        {
          "output_type": "execute_result",
          "data": {
            "text/html": [
              "<div>\n",
              "<style scoped>\n",
              "    .dataframe tbody tr th:only-of-type {\n",
              "        vertical-align: middle;\n",
              "    }\n",
              "\n",
              "    .dataframe tbody tr th {\n",
              "        vertical-align: top;\n",
              "    }\n",
              "\n",
              "    .dataframe thead th {\n",
              "        text-align: right;\n",
              "    }\n",
              "</style>\n",
              "<table border=\"1\" class=\"dataframe\">\n",
              "  <thead>\n",
              "    <tr style=\"text-align: right;\">\n",
              "      <th></th>\n",
              "      <th>PassengerId</th>\n",
              "      <th>Survived</th>\n",
              "      <th>Pclass</th>\n",
              "      <th>Name</th>\n",
              "      <th>Sex</th>\n",
              "      <th>Age</th>\n",
              "      <th>SibSp</th>\n",
              "      <th>Parch</th>\n",
              "      <th>Ticket</th>\n",
              "      <th>Fare</th>\n",
              "      <th>Cabin</th>\n",
              "      <th>Embarked</th>\n",
              "      <th>Title</th>\n",
              "      <th>Deck</th>\n",
              "      <th>familysize</th>\n",
              "    </tr>\n",
              "  </thead>\n",
              "  <tbody>\n",
              "    <tr>\n",
              "      <th>0</th>\n",
              "      <td>1</td>\n",
              "      <td>0.0</td>\n",
              "      <td>3</td>\n",
              "      <td>Braund, Mr. Owen Harris</td>\n",
              "      <td>male</td>\n",
              "      <td>22.0</td>\n",
              "      <td>1</td>\n",
              "      <td>0</td>\n",
              "      <td>A/5 21171</td>\n",
              "      <td>7.2500</td>\n",
              "      <td>NaN</td>\n",
              "      <td>S</td>\n",
              "      <td>Mr.</td>\n",
              "      <td>M</td>\n",
              "      <td>2</td>\n",
              "    </tr>\n",
              "    <tr>\n",
              "      <th>1</th>\n",
              "      <td>2</td>\n",
              "      <td>1.0</td>\n",
              "      <td>1</td>\n",
              "      <td>Cumings, Mrs. John Bradley (Florence Briggs Th...</td>\n",
              "      <td>female</td>\n",
              "      <td>38.0</td>\n",
              "      <td>1</td>\n",
              "      <td>0</td>\n",
              "      <td>PC 17599</td>\n",
              "      <td>71.2833</td>\n",
              "      <td>C85</td>\n",
              "      <td>C</td>\n",
              "      <td>Mrs.</td>\n",
              "      <td>C</td>\n",
              "      <td>2</td>\n",
              "    </tr>\n",
              "    <tr>\n",
              "      <th>2</th>\n",
              "      <td>3</td>\n",
              "      <td>1.0</td>\n",
              "      <td>3</td>\n",
              "      <td>Heikkinen, Miss. Laina</td>\n",
              "      <td>female</td>\n",
              "      <td>26.0</td>\n",
              "      <td>0</td>\n",
              "      <td>0</td>\n",
              "      <td>STON/O2. 3101282</td>\n",
              "      <td>7.9250</td>\n",
              "      <td>NaN</td>\n",
              "      <td>S</td>\n",
              "      <td>Miss.</td>\n",
              "      <td>M</td>\n",
              "      <td>1</td>\n",
              "    </tr>\n",
              "    <tr>\n",
              "      <th>3</th>\n",
              "      <td>4</td>\n",
              "      <td>1.0</td>\n",
              "      <td>1</td>\n",
              "      <td>Futrelle, Mrs. Jacques Heath (Lily May Peel)</td>\n",
              "      <td>female</td>\n",
              "      <td>35.0</td>\n",
              "      <td>1</td>\n",
              "      <td>0</td>\n",
              "      <td>113803</td>\n",
              "      <td>53.1000</td>\n",
              "      <td>C123</td>\n",
              "      <td>S</td>\n",
              "      <td>Mrs.</td>\n",
              "      <td>C</td>\n",
              "      <td>2</td>\n",
              "    </tr>\n",
              "    <tr>\n",
              "      <th>4</th>\n",
              "      <td>5</td>\n",
              "      <td>0.0</td>\n",
              "      <td>3</td>\n",
              "      <td>Allen, Mr. William Henry</td>\n",
              "      <td>male</td>\n",
              "      <td>35.0</td>\n",
              "      <td>0</td>\n",
              "      <td>0</td>\n",
              "      <td>373450</td>\n",
              "      <td>8.0500</td>\n",
              "      <td>NaN</td>\n",
              "      <td>S</td>\n",
              "      <td>Mr.</td>\n",
              "      <td>M</td>\n",
              "      <td>1</td>\n",
              "    </tr>\n",
              "  </tbody>\n",
              "</table>\n",
              "</div>"
            ],
            "text/plain": [
              "   PassengerId  Survived  Pclass  ...  Title Deck  familysize\n",
              "0            1       0.0       3  ...    Mr.    M           2\n",
              "1            2       1.0       1  ...   Mrs.    C           2\n",
              "2            3       1.0       3  ...  Miss.    M           1\n",
              "3            4       1.0       1  ...   Mrs.    C           2\n",
              "4            5       0.0       3  ...    Mr.    M           1\n",
              "\n",
              "[5 rows x 15 columns]"
            ]
          },
          "metadata": {
            "tags": []
          },
          "execution_count": 37
        }
      ]
    },
    {
      "cell_type": "markdown",
      "metadata": {
        "id": "rXvE6K0yBQ_5"
      },
      "source": [
        "## Bin Ticket frequency features"
      ]
    },
    {
      "cell_type": "code",
      "metadata": {
        "trusted": true,
        "id": "Q1Gtob6XBQ_5",
        "colab": {
          "base_uri": "https://localhost:8080/",
          "height": 280
        },
        "outputId": "cfd017df-f0dc-43b9-a0dd-0ae69767a9ab"
      },
      "source": [
        "# Add Ticket frequency feature as there's otherwise too many unique values in the \n",
        "# Ticket column.  Frequency should tell if more than one person travelled on the same\n",
        "# ticket number, indicating they were in a group.  Similar to familysize feature we added\n",
        "df['Ticket_Frequency'] = df.groupby('Ticket')['Ticket'].transform('count')\n",
        "df.head()\n",
        "\n",
        "# Plot hist\n",
        "ax1 = plt.axes()\n",
        "sns.histplot(df[df['Survived']==1]['Ticket_Frequency'], label='Survived', color='#e74c3c', ax=ax1)\n",
        "sns.histplot(df[df['Survived']==0]['Ticket_Frequency'], label='Not Survived', color='#2ecc71', ax=ax1)\n",
        "ax1.legend(loc='upper right', prop={'size': 10})\n",
        "plt.show()"
      ],
      "execution_count": 38,
      "outputs": [
        {
          "output_type": "display_data",
          "data": {
            "image/png": "[encoded data removed]",
            "text/plain": [
              "<Figure size 432x288 with 1 Axes>"
            ]
          },
          "metadata": {
            "tags": [],
            "needs_background": "light"
          }
        }
      ]
    },
    {
      "cell_type": "markdown",
      "metadata": {
        "id": "m3PjKqzo7dO0"
      },
      "source": [
        "# Model building"
      ]
    },
    {
      "cell_type": "code",
      "metadata": {
        "id": "gVMq1BKI8Jsv"
      },
      "source": [
        "from sklearn.model_selection import train_test_split, cross_val_score\n",
        "from sklearn.preprocessing import StandardScaler, OrdinalEncoder, OneHotEncoder, LabelEncoder\n",
        "from sklearn.impute import SimpleImputer\n",
        "from sklearn.metrics import accuracy_score, plot_confusion_matrix, f1_score \n",
        "from sklearn.metrics import plot_roc_curve, roc_auc_score, precision_score, recall_score\n",
        "from sklearn.metrics import precision_recall_fscore_support, plot_precision_recall_curve\n",
        "from sklearn.model_selection import GridSearchCV, RandomizedSearchCV\n",
        "\n",
        "from sklearn.pipeline import Pipeline\n",
        "from sklearn.compose import ColumnTransformer\n",
        "from sklearn.svm import SVC\n",
        "from sklearn.linear_model import SGDClassifier\n",
        "from sklearn.linear_model import LogisticRegression\n",
        "from sklearn.tree import DecisionTreeClassifier\n",
        "from sklearn.ensemble import RandomForestClassifier\n",
        "from sklearn.dummy import DummyClassifier"
      ],
      "execution_count": 106,
      "outputs": []
    },
    {
      "cell_type": "code",
      "metadata": {
        "id": "5pVum_KyuSSU"
      },
      "source": [
        "# Select the Features to model and \n",
        "X_all = df[['Title','Deck','Fare','Sex']]\n",
        "y_all = df['Survived']\n",
        " \n",
        "y = y_all[:rows_to_split]\n",
        "X = X_all[:rows_to_split]\n",
        "y_subm = y_all[rows_to_split:]\n",
        "X_subm = X_all[rows_to_split:]\n",
        " \n",
        "X_train, X_test, y_train, y_test = train_test_split(X, y, test_size=0.2, random_state=42)"
      ],
      "execution_count": 43,
      "outputs": []
    },
    {
      "cell_type": "code",
      "metadata": {
        "id": "FccvIPlm8LbG",
        "colab": {
          "base_uri": "https://localhost:8080/"
        },
        "outputId": "7d200dc6-26fc-4fbe-d2bc-0df6ef7266a0"
      },
      "source": [
        "# Train a dummy classifier\n",
        "dummy_clf = DummyClassifier(strategy='most_frequent')\n",
        "dummy_clf.fit(X_train, y_train)\n",
        " \n",
        "dummy_score = accuracy_score(y_train,dummy_clf.predict(X_train[['Fare','Title','Sex','Deck']]))\n",
        "print(f'Dummy/null accuracy: {dummy_score:.3f}')"
      ],
      "execution_count": 44,
      "outputs": [
        {
          "output_type": "stream",
          "text": [
            "Dummy/null accuracy: 0.624\n"
          ],
          "name": "stdout"
        }
      ]
    },
    {
      "cell_type": "markdown",
      "metadata": {
        "id": "xdKk93rxuqZS"
      },
      "source": [
        "## Basic Logistic Regression"
      ]
    },
    {
      "cell_type": "code",
      "metadata": {
        "id": "_LtjRhYG7jAt"
      },
      "source": [
        "# Define a model pipeline\n",
        "num_features = ['Fare']\n",
        "num_transformer = Pipeline([('imputer', SimpleImputer(strategy='median')),\n",
        "                            ('scaler', StandardScaler())])\n",
        " \n",
        "cat_features = ['Title','Deck','Sex']\n",
        "cat_transformer = OneHotEncoder(sparse=False,handle_unknown='ignore')\n",
        " \n",
        "preprocessor = ColumnTransformer([('cats', cat_transformer, cat_features),\n",
        "                                  ('nums', num_transformer, num_features)])\n",
        " \n",
        "logreg_clf = Pipeline([('preprocessor', preprocessor),\n",
        "                       ('model', LogisticRegression())])"
      ],
      "execution_count": 45,
      "outputs": []
    },
    {
      "cell_type": "code",
      "metadata": {
        "id": "15gqstjk9Jxe",
        "colab": {
          "base_uri": "https://localhost:8080/"
        },
        "outputId": "fbf2ff46-bb37-4c84-c74e-f2bc498fbec1"
      },
      "source": [
        "# Train the model\n",
        "tic = time.perf_counter()\n",
        "logreg_clf.fit(X_train,y_train);\n",
        "print(f'time to fit model: {time.perf_counter()-tic:.3f} sec')"
      ],
      "execution_count": 58,
      "outputs": [
        {
          "output_type": "stream",
          "text": [
            "time to fit model: 0.051 sec\n"
          ],
          "name": "stdout"
        }
      ]
    },
    {
      "cell_type": "markdown",
      "metadata": {
        "id": "ScG2-C4gz2Ic"
      },
      "source": [
        "### Accuracy"
      ]
    },
    {
      "cell_type": "code",
      "metadata": {
        "colab": {
          "base_uri": "https://localhost:8080/"
        },
        "id": "FltrDJuVrCir",
        "outputId": "297e1b80-bb21-4dd8-f660-43258f516ee5"
      },
      "source": [
        "# Accuracy on train and test datasets\n",
        "y_train_pred = logreg_clf.predict(X_train)\n",
        "y_test_pred = logreg_clf.predict(X_test)\n",
        "\n",
        "acc_train = accuracy_score(y_train,y_train_pred)\n",
        "acc_test = accuracy_score(y_test,y_test_pred)\n",
        "print(f'Accuracy on train set: {acc_train:.3f}')\n",
        "print(f'Accuracy on test set:  {acc_test:.3f}')"
      ],
      "execution_count": 91,
      "outputs": [
        {
          "output_type": "stream",
          "text": [
            "Accuracy on train set: 0.796\n",
            "Accuracy on test set:  0.788\n"
          ],
          "name": "stdout"
        }
      ]
    },
    {
      "cell_type": "markdown",
      "metadata": {
        "id": "mB-66jznz5hE"
      },
      "source": [
        "### Cross validate\n",
        "Get an indication of if model is overfitting or not."
      ]
    },
    {
      "cell_type": "code",
      "metadata": {
        "colab": {
          "base_uri": "https://localhost:8080/"
        },
        "id": "1dWcjGVppYXm",
        "outputId": "b5127658-3af5-4ccb-a3aa-82a240439581"
      },
      "source": [
        "# Cross validate over full labelled training data\n",
        "cv_scores = cross_val_score(logreg_clf,X,y)\n",
        "print(f'CV scores: {cv_scores}')\n",
        "print(f'mean:  {cv_scores.mean():.3f}')\n",
        "print(f'stdev: {cv_scores.std():.3f}')"
      ],
      "execution_count": 48,
      "outputs": [
        {
          "output_type": "stream",
          "text": [
            "CV scores: [0.77094972 0.78651685 0.76966292 0.75842697 0.79775281]\n",
            "mean:  0.777\n",
            "stdev: 0.014\n"
          ],
          "name": "stdout"
        }
      ]
    },
    {
      "cell_type": "markdown",
      "metadata": {
        "id": "Tmv-NjmB0Jqv"
      },
      "source": [
        "### Confusion matrix"
      ]
    },
    {
      "cell_type": "code",
      "metadata": {
        "colab": {
          "base_uri": "https://localhost:8080/",
          "height": 278
        },
        "id": "7xxH1VCbvGvb",
        "outputId": "7d793f4e-aaa4-4975-9123-81fbd73a55df"
      },
      "source": [
        "# Confusion matrix\n",
        "plot_confusion_matrix(logreg_clf, X_test, y_test, values_format='d');"
      ],
      "execution_count": 68,
      "outputs": [
        {
          "output_type": "display_data",
          "data": {
            "image/png": "[encoded data removed]",
            "text/plain": [
              "<Figure size 432x288 with 2 Axes>"
            ]
          },
          "metadata": {
            "tags": [],
            "needs_background": "light"
          }
        }
      ]
    },
    {
      "cell_type": "markdown",
      "metadata": {
        "id": "fqs5NJVZ24d1"
      },
      "source": [
        "### Precision, Recall, F1, ROC-AUC\n",
        "Precision = true_pos / (true_pos + false_pos)\n",
        "\n",
        "Recall = true_pos / (true_pos + false_neg)"
      ]
    },
    {
      "cell_type": "code",
      "metadata": {
        "colab": {
          "base_uri": "https://localhost:8080/",
          "height": 314
        },
        "id": "-PopXMuW2fyw",
        "outputId": "2bf27525-ed89-44df-f29c-7bbc7050939a"
      },
      "source": [
        "# Precision Recall curve\n",
        "plot_precision_recall_curve(logreg_clf, X_test, y_test);\n",
        "precision = precision_score(y_test, y_test_pred)\n",
        "recall = recall_score(y_test, y_test_pred)\n",
        "print(f'Precision score: {precision:.3f}')\n",
        "print(f'Recall score:    {recall:.3f}')"
      ],
      "execution_count": 100,
      "outputs": [
        {
          "output_type": "stream",
          "text": [
            "Precision score: 0.743\n",
            "Recall score:    0.743\n"
          ],
          "name": "stdout"
        },
        {
          "output_type": "display_data",
          "data": {
            "image/png": "[encoded data removed]",
            "text/plain": [
              "<Figure size 432x288 with 1 Axes>"
            ]
          },
          "metadata": {
            "tags": [],
            "needs_background": "light"
          }
        }
      ]
    },
    {
      "cell_type": "code",
      "metadata": {
        "colab": {
          "base_uri": "https://localhost:8080/"
        },
        "id": "Q2rae6Bp4esk",
        "outputId": "9f278157-7a99-4993-a55f-0cffc9632219"
      },
      "source": [
        "f1 = f1_score(y_test, y_test_pred)\n",
        "print(f'F1 score: {f1:.3f}')"
      ],
      "execution_count": 95,
      "outputs": [
        {
          "output_type": "stream",
          "text": [
            "F1 score: 0.743\n"
          ],
          "name": "stdout"
        }
      ]
    },
    {
      "cell_type": "code",
      "metadata": {
        "colab": {
          "base_uri": "https://localhost:8080/",
          "height": 278
        },
        "id": "kCzFaIh923vc",
        "outputId": "6187c6c7-6207-46c8-cb0b-9291b0da1287"
      },
      "source": [
        "# ROC curve\n",
        "plot_roc_curve(logreg_clf, X_test, y_test);"
      ],
      "execution_count": 90,
      "outputs": [
        {
          "output_type": "display_data",
          "data": {
            "image/png": "[encoded data removed]",
            "text/plain": [
              "<Figure size 432x288 with 1 Axes>"
            ]
          },
          "metadata": {
            "tags": [],
            "needs_background": "light"
          }
        }
      ]
    },
    {
      "cell_type": "code",
      "metadata": {
        "colab": {
          "base_uri": "https://localhost:8080/"
        },
        "id": "eYaXaOIl3jif",
        "outputId": "b01de73a-fd59-4fb9-f3e2-f183d3dd0f1a"
      },
      "source": [
        "auc = roc_auc_score(y_test, y_test_pred)\n",
        "print(f'ROC AUC score: {auc:.3f}')"
      ],
      "execution_count": 93,
      "outputs": [
        {
          "output_type": "stream",
          "text": [
            "ROC AUC score: 0.781\n"
          ],
          "name": "stdout"
        }
      ]
    },
    {
      "cell_type": "code",
      "metadata": {
        "colab": {
          "base_uri": "https://localhost:8080/"
        },
        "id": "d_6QfW7c4sW1",
        "outputId": "32d21424-a9f9-49cc-ea03-296866ed0e24"
      },
      "source": [
        "# Generate a little report\n",
        "print(f'Accuracy on test set:  {acc_test:.3f}')\n",
        "\n",
        "print(f'Precision score:       {precision:.3f}')\n",
        "print(f'Recall score:          {recall:.3f}')\n",
        "print(f'F1 score:              {f1:.3f}')\n",
        "print(f'ROC AUC score:         {auc:.3f}\\n')\n",
        "\n",
        "print(f'CV scores: {cv_scores}')\n",
        "print(f'mean:  {cv_scores.mean():.3f}')\n",
        "print(f'stdev: {cv_scores.std():.3f}')\n"
      ],
      "execution_count": 103,
      "outputs": [
        {
          "output_type": "stream",
          "text": [
            "Accuracy on test set:  0.788\n",
            "Precision score:       0.743\n",
            "Recall score:          0.743\n",
            "F1 score:              0.743\n",
            "ROC AUC score:         0.781\n",
            "\n",
            "CV scores: [0.77094972 0.78651685 0.76966292 0.75842697 0.79775281]\n",
            "mean:  0.777\n",
            "stdev: 0.014\n"
          ],
          "name": "stdout"
        }
      ]
    },
    {
      "cell_type": "markdown",
      "metadata": {
        "id": "bZDUhfVD8h_i"
      },
      "source": [
        "## Grid Search"
      ]
    },
    {
      "cell_type": "code",
      "metadata": {
        "id": "w8uZSa-98ohP"
      },
      "source": [
        "param_grid = {'model__C':[0.001,0.003,0.01,0.03,0.1,0.3,1,3,10,30]}\n",
        "grid = GridSearchCV(logreg_clf, param_grid, verbose=2)"
      ],
      "execution_count": 118,
      "outputs": []
    },
    {
      "cell_type": "code",
      "metadata": {
        "colab": {
          "base_uri": "https://localhost:8080/"
        },
        "id": "VIMzMLy99yQ-",
        "outputId": "779c6684-7509-4cc4-c245-8c97933e61ec"
      },
      "source": [
        "grid.fit(X_train,y_train)"
      ],
      "execution_count": 119,
      "outputs": [
        {
          "output_type": "stream",
          "text": [
            "Fitting 5 folds for each of 10 candidates, totalling 50 fits\n",
            "[CV] model__C=0.001 ..................................................\n",
            "[CV] ................................... model__C=0.001, total=   0.0s\n",
            "[CV] model__C=0.001 ..................................................\n",
            "[CV] ................................... model__C=0.001, total=   0.0s\n",
            "[CV] model__C=0.001 ..................................................\n",
            "[CV] ................................... model__C=0.001, total=   0.0s\n",
            "[CV] model__C=0.001 ..................................................\n",
            "[CV] ................................... model__C=0.001, total=   0.0s\n",
            "[CV] model__C=0.001 ..................................................\n",
            "[CV] ................................... model__C=0.001, total=   0.0s\n",
            "[CV] model__C=0.003 ..................................................\n"
          ],
          "name": "stdout"
        },
        {
          "output_type": "stream",
          "text": [
            "[Parallel(n_jobs=1)]: Using backend SequentialBackend with 1 concurrent workers.\n",
            "[Parallel(n_jobs=1)]: Done   1 out of   1 | elapsed:    0.0s remaining:    0.0s\n"
          ],
          "name": "stderr"
        },
        {
          "output_type": "stream",
          "text": [
            "[CV] ................................... model__C=0.003, total=   0.0s\n",
            "[CV] model__C=0.003 ..................................................\n",
            "[CV] ................................... model__C=0.003, total=   0.0s\n",
            "[CV] model__C=0.003 ..................................................\n",
            "[CV] ................................... model__C=0.003, total=   0.0s\n",
            "[CV] model__C=0.003 ..................................................\n",
            "[CV] ................................... model__C=0.003, total=   0.0s\n",
            "[CV] model__C=0.003 ..................................................\n",
            "[CV] ................................... model__C=0.003, total=   0.0s\n",
            "[CV] model__C=0.01 ...................................................\n",
            "[CV] .................................... model__C=0.01, total=   0.0s\n",
            "[CV] model__C=0.01 ...................................................\n",
            "[CV] .................................... model__C=0.01, total=   0.0s\n",
            "[CV] model__C=0.01 ...................................................\n",
            "[CV] .................................... model__C=0.01, total=   0.0s\n",
            "[CV] model__C=0.01 ...................................................\n",
            "[CV] .................................... model__C=0.01, total=   0.0s\n",
            "[CV] model__C=0.01 ...................................................\n",
            "[CV] .................................... model__C=0.01, total=   0.0s\n",
            "[CV] model__C=0.03 ...................................................\n",
            "[CV] .................................... model__C=0.03, total=   0.0s\n",
            "[CV] model__C=0.03 ...................................................\n",
            "[CV] .................................... model__C=0.03, total=   0.0s\n",
            "[CV] model__C=0.03 ...................................................\n",
            "[CV] .................................... model__C=0.03, total=   0.0s\n",
            "[CV] model__C=0.03 ...................................................\n",
            "[CV] .................................... model__C=0.03, total=   0.0s\n",
            "[CV] model__C=0.03 ...................................................\n",
            "[CV] .................................... model__C=0.03, total=   0.0s\n",
            "[CV] model__C=0.1 ....................................................\n",
            "[CV] ..................................... model__C=0.1, total=   0.0s\n",
            "[CV] model__C=0.1 ....................................................\n",
            "[CV] ..................................... model__C=0.1, total=   0.0s\n",
            "[CV] model__C=0.1 ....................................................\n",
            "[CV] ..................................... model__C=0.1, total=   0.0s\n",
            "[CV] model__C=0.1 ....................................................\n",
            "[CV] ..................................... model__C=0.1, total=   0.0s\n",
            "[CV] model__C=0.1 ....................................................\n",
            "[CV] ..................................... model__C=0.1, total=   0.1s\n",
            "[CV] model__C=0.3 ....................................................\n",
            "[CV] ..................................... model__C=0.3, total=   0.0s\n",
            "[CV] model__C=0.3 ....................................................\n",
            "[CV] ..................................... model__C=0.3, total=   0.0s\n",
            "[CV] model__C=0.3 ....................................................\n",
            "[CV] ..................................... model__C=0.3, total=   0.0s\n",
            "[CV] model__C=0.3 ....................................................\n",
            "[CV] ..................................... model__C=0.3, total=   0.0s\n",
            "[CV] model__C=0.3 ....................................................\n",
            "[CV] ..................................... model__C=0.3, total=   0.1s\n",
            "[CV] model__C=1 ......................................................\n",
            "[CV] ....................................... model__C=1, total=   0.0s\n",
            "[CV] model__C=1 ......................................................\n",
            "[CV] ....................................... model__C=1, total=   0.0s\n",
            "[CV] model__C=1 ......................................................\n",
            "[CV] ....................................... model__C=1, total=   0.0s\n",
            "[CV] model__C=1 ......................................................\n",
            "[CV] ....................................... model__C=1, total=   0.0s\n",
            "[CV] model__C=1 ......................................................\n",
            "[CV] ....................................... model__C=1, total=   0.0s\n",
            "[CV] model__C=3 ......................................................\n",
            "[CV] ....................................... model__C=3, total=   0.1s\n",
            "[CV] model__C=3 ......................................................\n",
            "[CV] ....................................... model__C=3, total=   0.1s\n",
            "[CV] model__C=3 ......................................................\n",
            "[CV] ....................................... model__C=3, total=   0.1s\n",
            "[CV] model__C=3 ......................................................\n",
            "[CV] ....................................... model__C=3, total=   0.1s\n",
            "[CV] model__C=3 ......................................................\n",
            "[CV] ....................................... model__C=3, total=   0.1s\n",
            "[CV] model__C=10 .....................................................\n"
          ],
          "name": "stdout"
        },
        {
          "output_type": "stream",
          "text": [
            "/usr/local/lib/python3.7/dist-packages/sklearn/linear_model/_logistic.py:940: ConvergenceWarning: lbfgs failed to converge (status=1):\n",
            "STOP: TOTAL NO. of ITERATIONS REACHED LIMIT.\n",
            "\n",
            "Increase the number of iterations (max_iter) or scale the data as shown in:\n",
            "    https://scikit-learn.org/stable/modules/preprocessing.html\n",
            "Please also refer to the documentation for alternative solver options:\n",
            "    https://scikit-learn.org/stable/modules/linear_model.html#logistic-regression\n",
            "  extra_warning_msg=_LOGISTIC_SOLVER_CONVERGENCE_MSG)\n",
            "/usr/local/lib/python3.7/dist-packages/sklearn/linear_model/_logistic.py:940: ConvergenceWarning: lbfgs failed to converge (status=1):\n",
            "STOP: TOTAL NO. of ITERATIONS REACHED LIMIT.\n",
            "\n",
            "Increase the number of iterations (max_iter) or scale the data as shown in:\n",
            "    https://scikit-learn.org/stable/modules/preprocessing.html\n",
            "Please also refer to the documentation for alternative solver options:\n",
            "    https://scikit-learn.org/stable/modules/linear_model.html#logistic-regression\n",
            "  extra_warning_msg=_LOGISTIC_SOLVER_CONVERGENCE_MSG)\n",
            "/usr/local/lib/python3.7/dist-packages/sklearn/linear_model/_logistic.py:940: ConvergenceWarning: lbfgs failed to converge (status=1):\n",
            "STOP: TOTAL NO. of ITERATIONS REACHED LIMIT.\n",
            "\n",
            "Increase the number of iterations (max_iter) or scale the data as shown in:\n",
            "    https://scikit-learn.org/stable/modules/preprocessing.html\n",
            "Please also refer to the documentation for alternative solver options:\n",
            "    https://scikit-learn.org/stable/modules/linear_model.html#logistic-regression\n",
            "  extra_warning_msg=_LOGISTIC_SOLVER_CONVERGENCE_MSG)\n"
          ],
          "name": "stderr"
        },
        {
          "output_type": "stream",
          "text": [
            "[CV] ...................................... model__C=10, total=   0.1s\n",
            "[CV] model__C=10 .....................................................\n",
            "[CV] ...................................... model__C=10, total=   0.1s\n",
            "[CV] model__C=10 .....................................................\n",
            "[CV] ...................................... model__C=10, total=   0.1s\n",
            "[CV] model__C=10 .....................................................\n",
            "[CV] ...................................... model__C=10, total=   0.1s\n",
            "[CV] model__C=10 .....................................................\n",
            "[CV] ...................................... model__C=10, total=   0.1s\n",
            "[CV] model__C=30 .....................................................\n",
            "[CV] ...................................... model__C=30, total=   0.1s\n",
            "[CV] model__C=30 .....................................................\n"
          ],
          "name": "stdout"
        },
        {
          "output_type": "stream",
          "text": [
            "/usr/local/lib/python3.7/dist-packages/sklearn/linear_model/_logistic.py:940: ConvergenceWarning: lbfgs failed to converge (status=1):\n",
            "STOP: TOTAL NO. of ITERATIONS REACHED LIMIT.\n",
            "\n",
            "Increase the number of iterations (max_iter) or scale the data as shown in:\n",
            "    https://scikit-learn.org/stable/modules/preprocessing.html\n",
            "Please also refer to the documentation for alternative solver options:\n",
            "    https://scikit-learn.org/stable/modules/linear_model.html#logistic-regression\n",
            "  extra_warning_msg=_LOGISTIC_SOLVER_CONVERGENCE_MSG)\n",
            "/usr/local/lib/python3.7/dist-packages/sklearn/linear_model/_logistic.py:940: ConvergenceWarning: lbfgs failed to converge (status=1):\n",
            "STOP: TOTAL NO. of ITERATIONS REACHED LIMIT.\n",
            "\n",
            "Increase the number of iterations (max_iter) or scale the data as shown in:\n",
            "    https://scikit-learn.org/stable/modules/preprocessing.html\n",
            "Please also refer to the documentation for alternative solver options:\n",
            "    https://scikit-learn.org/stable/modules/linear_model.html#logistic-regression\n",
            "  extra_warning_msg=_LOGISTIC_SOLVER_CONVERGENCE_MSG)\n",
            "/usr/local/lib/python3.7/dist-packages/sklearn/linear_model/_logistic.py:940: ConvergenceWarning: lbfgs failed to converge (status=1):\n",
            "STOP: TOTAL NO. of ITERATIONS REACHED LIMIT.\n",
            "\n",
            "Increase the number of iterations (max_iter) or scale the data as shown in:\n",
            "    https://scikit-learn.org/stable/modules/preprocessing.html\n",
            "Please also refer to the documentation for alternative solver options:\n",
            "    https://scikit-learn.org/stable/modules/linear_model.html#logistic-regression\n",
            "  extra_warning_msg=_LOGISTIC_SOLVER_CONVERGENCE_MSG)\n"
          ],
          "name": "stderr"
        },
        {
          "output_type": "stream",
          "text": [
            "[CV] ...................................... model__C=30, total=   0.1s\n",
            "[CV] model__C=30 .....................................................\n",
            "[CV] ...................................... model__C=30, total=   0.1s\n",
            "[CV] model__C=30 .....................................................\n",
            "[CV] ...................................... model__C=30, total=   0.1s\n",
            "[CV] model__C=30 .....................................................\n"
          ],
          "name": "stdout"
        },
        {
          "output_type": "stream",
          "text": [
            "/usr/local/lib/python3.7/dist-packages/sklearn/linear_model/_logistic.py:940: ConvergenceWarning: lbfgs failed to converge (status=1):\n",
            "STOP: TOTAL NO. of ITERATIONS REACHED LIMIT.\n",
            "\n",
            "Increase the number of iterations (max_iter) or scale the data as shown in:\n",
            "    https://scikit-learn.org/stable/modules/preprocessing.html\n",
            "Please also refer to the documentation for alternative solver options:\n",
            "    https://scikit-learn.org/stable/modules/linear_model.html#logistic-regression\n",
            "  extra_warning_msg=_LOGISTIC_SOLVER_CONVERGENCE_MSG)\n",
            "/usr/local/lib/python3.7/dist-packages/sklearn/linear_model/_logistic.py:940: ConvergenceWarning: lbfgs failed to converge (status=1):\n",
            "STOP: TOTAL NO. of ITERATIONS REACHED LIMIT.\n",
            "\n",
            "Increase the number of iterations (max_iter) or scale the data as shown in:\n",
            "    https://scikit-learn.org/stable/modules/preprocessing.html\n",
            "Please also refer to the documentation for alternative solver options:\n",
            "    https://scikit-learn.org/stable/modules/linear_model.html#logistic-regression\n",
            "  extra_warning_msg=_LOGISTIC_SOLVER_CONVERGENCE_MSG)\n",
            "/usr/local/lib/python3.7/dist-packages/sklearn/linear_model/_logistic.py:940: ConvergenceWarning: lbfgs failed to converge (status=1):\n",
            "STOP: TOTAL NO. of ITERATIONS REACHED LIMIT.\n",
            "\n",
            "Increase the number of iterations (max_iter) or scale the data as shown in:\n",
            "    https://scikit-learn.org/stable/modules/preprocessing.html\n",
            "Please also refer to the documentation for alternative solver options:\n",
            "    https://scikit-learn.org/stable/modules/linear_model.html#logistic-regression\n",
            "  extra_warning_msg=_LOGISTIC_SOLVER_CONVERGENCE_MSG)\n",
            "[Parallel(n_jobs=1)]: Done  50 out of  50 | elapsed:    2.4s finished\n"
          ],
          "name": "stderr"
        },
        {
          "output_type": "stream",
          "text": [
            "[CV] ...................................... model__C=30, total=   0.1s\n"
          ],
          "name": "stdout"
        },
        {
          "output_type": "execute_result",
          "data": {
            "text/plain": [
              "GridSearchCV(cv=None, error_score=nan,\n",
              "             estimator=Pipeline(memory=None,\n",
              "                                steps=[('preprocessor',\n",
              "                                        ColumnTransformer(n_jobs=None,\n",
              "                                                          remainder='drop',\n",
              "                                                          sparse_threshold=0.3,\n",
              "                                                          transformer_weights=None,\n",
              "                                                          transformers=[('cats',\n",
              "                                                                         OneHotEncoder(categories='auto',\n",
              "                                                                                       drop=None,\n",
              "                                                                                       dtype=<class 'numpy.float64'>,\n",
              "                                                                                       handle_unknown='ignore',\n",
              "                                                                                       sparse=False),\n",
              "                                                                         ['Title',\n",
              "                                                                          'Deck',\n",
              "                                                                          'Sex']),\n",
              "                                                                        ('nums',\n",
              "                                                                         Pip...\n",
              "                                                           intercept_scaling=1,\n",
              "                                                           l1_ratio=None,\n",
              "                                                           max_iter=100,\n",
              "                                                           multi_class='auto',\n",
              "                                                           n_jobs=None,\n",
              "                                                           penalty='l2',\n",
              "                                                           random_state=None,\n",
              "                                                           solver='lbfgs',\n",
              "                                                           tol=0.0001,\n",
              "                                                           verbose=0,\n",
              "                                                           warm_start=False))],\n",
              "                                verbose=False),\n",
              "             iid='deprecated', n_jobs=None,\n",
              "             param_grid={'model__C': [0.001, 0.003, 0.01, 0.03, 0.1, 0.3, 1, 3,\n",
              "                                      10, 30]},\n",
              "             pre_dispatch='2*n_jobs', refit=True, return_train_score=False,\n",
              "             scoring=None, verbose=2)"
            ]
          },
          "metadata": {
            "tags": []
          },
          "execution_count": 119
        }
      ]
    },
    {
      "cell_type": "code",
      "metadata": {
        "colab": {
          "base_uri": "https://localhost:8080/"
        },
        "id": "Nq6jm-jI-Jk1",
        "outputId": "d7a503f1-fead-4495-af3e-cba38fff3c92"
      },
      "source": [
        "grid.cv_results_['mean_test_score']"
      ],
      "execution_count": 124,
      "outputs": [
        {
          "output_type": "execute_result",
          "data": {
            "text/plain": [
              "array([0.62782429, 0.68540333, 0.773791  , 0.78786566, 0.79067271,\n",
              "       0.79208116, 0.77943465, 0.78227125, 0.77805575, 0.7766473 ])"
            ]
          },
          "metadata": {
            "tags": []
          },
          "execution_count": 124
        }
      ]
    },
    {
      "cell_type": "markdown",
      "metadata": {
        "id": "y1FLLXx6u0bM"
      },
      "source": [
        "## Test the best model on X_test"
      ]
    },
    {
      "cell_type": "code",
      "metadata": {
        "colab": {
          "base_uri": "https://localhost:8080/"
        },
        "id": "xEt1DZW6dZkf",
        "outputId": "67df3f9a-25cc-4505-fe5c-a8b842541343"
      },
      "source": [
        "# y_subm_pred = logreg_clf.predict(X_subm);\n",
        "# print(y_subm_pred.sum(), len(y_subm))"
      ],
      "execution_count": 49,
      "outputs": [
        {
          "output_type": "stream",
          "text": [
            "162.0 418\n"
          ],
          "name": "stdout"
        }
      ]
    }
  ]
}