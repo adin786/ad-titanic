{
  "nbformat": 4,
  "nbformat_minor": 0,
  "metadata": {
    "colab": {
      "name": "titanic.ipynb",
      "provenance": [],
      "collapsed_sections": [
        "i29afH8EKz4m"
      ],
      "toc_visible": true,
      "mount_file_id": "1JtI177tQSCbdvqGZepd3N9XNuwTAhgVx",
      "authorship_tag": "ABX9TyP9SG4tWdPDWWlG50y6ZCDE",
      "include_colab_link": true
    },
    "kernelspec": {
      "name": "python3",
      "display_name": "Python 3"
    },
    "language_info": {
      "name": "python"
    }
  },
  "cells": [
    {
      "cell_type": "markdown",
      "metadata": {
        "id": "view-in-github",
        "colab_type": "text"
      },
      "source": [
        "<a href=\"https://colab.research.google.com/github/adin786/ad-titanic/blob/main/titanic.ipynb\" target=\"_parent\"><img src=\"https://colab.research.google.com/assets/colab-badge.svg\" alt=\"Open In Colab\"/></a>"
      ]
    },
    {
      "cell_type": "markdown",
      "metadata": {
        "id": "H95naoxEEbML"
      },
      "source": [
        "# Titanic survivor prediction\n",
        "Based on Kaggle titanic dataset and competition:\n",
        "https://www.kaggle.com/c/titanic\n",
        "\n",
        "The objective is to load, clean, explore the titanic passenger data and build a classification model to predict whether an individual was likely to survive or not.\n",
        "\n",
        "I followed along with and took inspiration from [this notebook](https://www.kaggle.com/gunesevitan/titanic-advanced-feature-engineering-tutorial#2.-Feature-Engineering)"
      ]
    },
    {
      "cell_type": "code",
      "metadata": {
        "colab": {
          "base_uri": "https://localhost:8080/"
        },
        "id": "h5ddb521_Eta",
        "outputId": "07c412e3-e2f9-4770-e1f9-c1e0b6ffb46a"
      },
      "source": [
        "# Initialise things in Kaggle\n",
        "import numpy as np # linear algebra\n",
        "import pandas as pd # data processing, CSV file I/O (e.g. pd.read_csv)\n",
        "import matplotlib.pyplot as plt\n",
        "import seaborn as sns\n",
        "import os\n",
        "import string\n",
        "import time\n",
        " \n",
        "path = os.path.join('drive','MyDrive','Data','titanic')\n",
        "for dirname, _, filenames in os.walk(path):\n",
        "    for filename in filenames:\n",
        "        print(os.path.join(dirname, filename))"
      ],
      "execution_count": null,
      "outputs": [
        {
          "output_type": "stream",
          "text": [
            "drive/MyDrive/Data/titanic/gender_submission.csv\n",
            "drive/MyDrive/Data/titanic/test.csv\n",
            "drive/MyDrive/Data/titanic/train.csv\n"
          ],
          "name": "stdout"
        }
      ]
    },
    {
      "cell_type": "markdown",
      "metadata": {
        "id": "6kQ_ls3__qou"
      },
      "source": [
        "# Load data"
      ]
    },
    {
      "cell_type": "code",
      "metadata": {
        "colab": {
          "base_uri": "https://localhost:8080/"
        },
        "id": "ylkhGPoUEZYP",
        "outputId": "433834d8-8b92-454b-f923-280c00535243"
      },
      "source": [
        "# Load the training and testing data\n",
        "df_train = pd.read_csv(os.path.join(path,'train.csv'))\n",
        "df_test = pd.read_csv(os.path.join(path,'test.csv'))\n",
        "print(f'Training set shape: {df_train.shape}')\n",
        "print(f'Testing  set shape: {df_test.shape}')"
      ],
      "execution_count": null,
      "outputs": [
        {
          "output_type": "stream",
          "text": [
            "Training set shape: (891, 12)\n",
            "Testing  set shape: (418, 11)\n"
          ],
          "name": "stdout"
        }
      ]
    },
    {
      "cell_type": "code",
      "metadata": {
        "colab": {
          "base_uri": "https://localhost:8080/"
        },
        "id": "crtdI0bf_u-X",
        "outputId": "c9e46265-5a48-4d05-e97f-e787f4a9524b"
      },
      "source": [
        "for col in df_train.columns:\n",
        "  if col in df_test.columns:\n",
        "    print(f'{col:<15} in both')\n",
        "  else:\n",
        "    print(f'{col:<15} in training set but not in test set')"
      ],
      "execution_count": null,
      "outputs": [
        {
          "output_type": "stream",
          "text": [
            "PassengerId     in both\n",
            "Survived        in training set but not in test set\n",
            "Pclass          in both\n",
            "Name            in both\n",
            "Sex             in both\n",
            "Age             in both\n",
            "SibSp           in both\n",
            "Parch           in both\n",
            "Ticket          in both\n",
            "Fare            in both\n",
            "Cabin           in both\n",
            "Embarked        in both\n"
          ],
          "name": "stdout"
        }
      ]
    },
    {
      "cell_type": "markdown",
      "metadata": {
        "id": "6xsEnQfp_VDs"
      },
      "source": [
        "Testing data is the data my model is to be evaluated over and submitted to Kaggle.\n",
        "\n",
        "It needs to be prepared in an identical way to the training data.  While I am messing around and building features etc, it is a good idea to append the datasets. When it comes to model training I will then split them back out into separate dataframes so I only train on the \n",
        "\n",
        "**Note:** Only difference is one less column in the test set. There are no \"Survived\" values, so this will introduce 418 NaNs to that column.  "
      ]
    },
    {
      "cell_type": "code",
      "metadata": {
        "colab": {
          "base_uri": "https://localhost:8080/"
        },
        "id": "FR3LrrbE_Rer",
        "outputId": "13950457-6c37-42d3-95db-40b56360b87d"
      },
      "source": [
        "# Save a number of rows to split by later, this just lets us do same preprocessing on both together\n",
        "rows_to_split = len(df_train)\n",
        "df = df_train.append(df_test, ignore_index=True)\n",
        "print(f'Full dataframe for processing: {df.shape}')"
      ],
      "execution_count": null,
      "outputs": [
        {
          "output_type": "stream",
          "text": [
            "Full dataframe for processing: (1309, 12)\n"
          ],
          "name": "stdout"
        }
      ]
    },
    {
      "cell_type": "markdown",
      "metadata": {
        "id": "HjYDoSiV9gAH"
      },
      "source": [
        "## Data summary"
      ]
    },
    {
      "cell_type": "code",
      "metadata": {
        "colab": {
          "base_uri": "https://localhost:8080/",
          "height": 197
        },
        "id": "6Z3zQ-Sg9exL",
        "outputId": "b2f8359f-6d98-405c-edec-3d73c3772e74"
      },
      "source": [
        "df.head()"
      ],
      "execution_count": null,
      "outputs": [
        {
          "output_type": "execute_result",
          "data": {
            "text/html": [
              "<div>\n",
              "<style scoped>\n",
              "    .dataframe tbody tr th:only-of-type {\n",
              "        vertical-align: middle;\n",
              "    }\n",
              "\n",
              "    .dataframe tbody tr th {\n",
              "        vertical-align: top;\n",
              "    }\n",
              "\n",
              "    .dataframe thead th {\n",
              "        text-align: right;\n",
              "    }\n",
              "</style>\n",
              "<table border=\"1\" class=\"dataframe\">\n",
              "  <thead>\n",
              "    <tr style=\"text-align: right;\">\n",
              "      <th></th>\n",
              "      <th>PassengerId</th>\n",
              "      <th>Survived</th>\n",
              "      <th>Pclass</th>\n",
              "      <th>Name</th>\n",
              "      <th>Sex</th>\n",
              "      <th>Age</th>\n",
              "      <th>SibSp</th>\n",
              "      <th>Parch</th>\n",
              "      <th>Ticket</th>\n",
              "      <th>Fare</th>\n",
              "      <th>Cabin</th>\n",
              "      <th>Embarked</th>\n",
              "    </tr>\n",
              "  </thead>\n",
              "  <tbody>\n",
              "    <tr>\n",
              "      <th>0</th>\n",
              "      <td>1</td>\n",
              "      <td>0.0</td>\n",
              "      <td>3</td>\n",
              "      <td>Braund, Mr. Owen Harris</td>\n",
              "      <td>male</td>\n",
              "      <td>22.0</td>\n",
              "      <td>1</td>\n",
              "      <td>0</td>\n",
              "      <td>A/5 21171</td>\n",
              "      <td>7.2500</td>\n",
              "      <td>NaN</td>\n",
              "      <td>S</td>\n",
              "    </tr>\n",
              "    <tr>\n",
              "      <th>1</th>\n",
              "      <td>2</td>\n",
              "      <td>1.0</td>\n",
              "      <td>1</td>\n",
              "      <td>Cumings, Mrs. John Bradley (Florence Briggs Th...</td>\n",
              "      <td>female</td>\n",
              "      <td>38.0</td>\n",
              "      <td>1</td>\n",
              "      <td>0</td>\n",
              "      <td>PC 17599</td>\n",
              "      <td>71.2833</td>\n",
              "      <td>C85</td>\n",
              "      <td>C</td>\n",
              "    </tr>\n",
              "    <tr>\n",
              "      <th>2</th>\n",
              "      <td>3</td>\n",
              "      <td>1.0</td>\n",
              "      <td>3</td>\n",
              "      <td>Heikkinen, Miss. Laina</td>\n",
              "      <td>female</td>\n",
              "      <td>26.0</td>\n",
              "      <td>0</td>\n",
              "      <td>0</td>\n",
              "      <td>STON/O2. 3101282</td>\n",
              "      <td>7.9250</td>\n",
              "      <td>NaN</td>\n",
              "      <td>S</td>\n",
              "    </tr>\n",
              "    <tr>\n",
              "      <th>3</th>\n",
              "      <td>4</td>\n",
              "      <td>1.0</td>\n",
              "      <td>1</td>\n",
              "      <td>Futrelle, Mrs. Jacques Heath (Lily May Peel)</td>\n",
              "      <td>female</td>\n",
              "      <td>35.0</td>\n",
              "      <td>1</td>\n",
              "      <td>0</td>\n",
              "      <td>113803</td>\n",
              "      <td>53.1000</td>\n",
              "      <td>C123</td>\n",
              "      <td>S</td>\n",
              "    </tr>\n",
              "    <tr>\n",
              "      <th>4</th>\n",
              "      <td>5</td>\n",
              "      <td>0.0</td>\n",
              "      <td>3</td>\n",
              "      <td>Allen, Mr. William Henry</td>\n",
              "      <td>male</td>\n",
              "      <td>35.0</td>\n",
              "      <td>0</td>\n",
              "      <td>0</td>\n",
              "      <td>373450</td>\n",
              "      <td>8.0500</td>\n",
              "      <td>NaN</td>\n",
              "      <td>S</td>\n",
              "    </tr>\n",
              "  </tbody>\n",
              "</table>\n",
              "</div>"
            ],
            "text/plain": [
              "   PassengerId  Survived  Pclass  ...     Fare Cabin  Embarked\n",
              "0            1       0.0       3  ...   7.2500   NaN         S\n",
              "1            2       1.0       1  ...  71.2833   C85         C\n",
              "2            3       1.0       3  ...   7.9250   NaN         S\n",
              "3            4       1.0       1  ...  53.1000  C123         S\n",
              "4            5       0.0       3  ...   8.0500   NaN         S\n",
              "\n",
              "[5 rows x 12 columns]"
            ]
          },
          "metadata": {
            "tags": []
          },
          "execution_count": 5
        }
      ]
    },
    {
      "cell_type": "code",
      "metadata": {
        "colab": {
          "base_uri": "https://localhost:8080/",
          "height": 287
        },
        "id": "hvf-05J7Ee7D",
        "outputId": "40512278-8c9a-40b2-a1cf-aee26f60f26c"
      },
      "source": [
        "df.describe()"
      ],
      "execution_count": null,
      "outputs": [
        {
          "output_type": "execute_result",
          "data": {
            "text/html": [
              "<div>\n",
              "<style scoped>\n",
              "    .dataframe tbody tr th:only-of-type {\n",
              "        vertical-align: middle;\n",
              "    }\n",
              "\n",
              "    .dataframe tbody tr th {\n",
              "        vertical-align: top;\n",
              "    }\n",
              "\n",
              "    .dataframe thead th {\n",
              "        text-align: right;\n",
              "    }\n",
              "</style>\n",
              "<table border=\"1\" class=\"dataframe\">\n",
              "  <thead>\n",
              "    <tr style=\"text-align: right;\">\n",
              "      <th></th>\n",
              "      <th>PassengerId</th>\n",
              "      <th>Survived</th>\n",
              "      <th>Pclass</th>\n",
              "      <th>Age</th>\n",
              "      <th>SibSp</th>\n",
              "      <th>Parch</th>\n",
              "      <th>Fare</th>\n",
              "    </tr>\n",
              "  </thead>\n",
              "  <tbody>\n",
              "    <tr>\n",
              "      <th>count</th>\n",
              "      <td>1309.000000</td>\n",
              "      <td>891.000000</td>\n",
              "      <td>1309.000000</td>\n",
              "      <td>1046.000000</td>\n",
              "      <td>1309.000000</td>\n",
              "      <td>1309.000000</td>\n",
              "      <td>1308.000000</td>\n",
              "    </tr>\n",
              "    <tr>\n",
              "      <th>mean</th>\n",
              "      <td>655.000000</td>\n",
              "      <td>0.383838</td>\n",
              "      <td>2.294882</td>\n",
              "      <td>29.881138</td>\n",
              "      <td>0.498854</td>\n",
              "      <td>0.385027</td>\n",
              "      <td>33.295479</td>\n",
              "    </tr>\n",
              "    <tr>\n",
              "      <th>std</th>\n",
              "      <td>378.020061</td>\n",
              "      <td>0.486592</td>\n",
              "      <td>0.837836</td>\n",
              "      <td>14.413493</td>\n",
              "      <td>1.041658</td>\n",
              "      <td>0.865560</td>\n",
              "      <td>51.758668</td>\n",
              "    </tr>\n",
              "    <tr>\n",
              "      <th>min</th>\n",
              "      <td>1.000000</td>\n",
              "      <td>0.000000</td>\n",
              "      <td>1.000000</td>\n",
              "      <td>0.170000</td>\n",
              "      <td>0.000000</td>\n",
              "      <td>0.000000</td>\n",
              "      <td>0.000000</td>\n",
              "    </tr>\n",
              "    <tr>\n",
              "      <th>25%</th>\n",
              "      <td>328.000000</td>\n",
              "      <td>0.000000</td>\n",
              "      <td>2.000000</td>\n",
              "      <td>21.000000</td>\n",
              "      <td>0.000000</td>\n",
              "      <td>0.000000</td>\n",
              "      <td>7.895800</td>\n",
              "    </tr>\n",
              "    <tr>\n",
              "      <th>50%</th>\n",
              "      <td>655.000000</td>\n",
              "      <td>0.000000</td>\n",
              "      <td>3.000000</td>\n",
              "      <td>28.000000</td>\n",
              "      <td>0.000000</td>\n",
              "      <td>0.000000</td>\n",
              "      <td>14.454200</td>\n",
              "    </tr>\n",
              "    <tr>\n",
              "      <th>75%</th>\n",
              "      <td>982.000000</td>\n",
              "      <td>1.000000</td>\n",
              "      <td>3.000000</td>\n",
              "      <td>39.000000</td>\n",
              "      <td>1.000000</td>\n",
              "      <td>0.000000</td>\n",
              "      <td>31.275000</td>\n",
              "    </tr>\n",
              "    <tr>\n",
              "      <th>max</th>\n",
              "      <td>1309.000000</td>\n",
              "      <td>1.000000</td>\n",
              "      <td>3.000000</td>\n",
              "      <td>80.000000</td>\n",
              "      <td>8.000000</td>\n",
              "      <td>9.000000</td>\n",
              "      <td>512.329200</td>\n",
              "    </tr>\n",
              "  </tbody>\n",
              "</table>\n",
              "</div>"
            ],
            "text/plain": [
              "       PassengerId    Survived  ...        Parch         Fare\n",
              "count  1309.000000  891.000000  ...  1309.000000  1308.000000\n",
              "mean    655.000000    0.383838  ...     0.385027    33.295479\n",
              "std     378.020061    0.486592  ...     0.865560    51.758668\n",
              "min       1.000000    0.000000  ...     0.000000     0.000000\n",
              "25%     328.000000    0.000000  ...     0.000000     7.895800\n",
              "50%     655.000000    0.000000  ...     0.000000    14.454200\n",
              "75%     982.000000    1.000000  ...     0.000000    31.275000\n",
              "max    1309.000000    1.000000  ...     9.000000   512.329200\n",
              "\n",
              "[8 rows x 7 columns]"
            ]
          },
          "metadata": {
            "tags": []
          },
          "execution_count": 6
        }
      ]
    },
    {
      "cell_type": "code",
      "metadata": {
        "colab": {
          "base_uri": "https://localhost:8080/",
          "height": 167
        },
        "id": "1D4-UCeFFQ4o",
        "outputId": "190cc7cc-f93f-4cd9-e76d-28e377737104"
      },
      "source": [
        "# Describe for string/categorical features\n",
        "df.describe(include='object')"
      ],
      "execution_count": null,
      "outputs": [
        {
          "output_type": "execute_result",
          "data": {
            "text/html": [
              "<div>\n",
              "<style scoped>\n",
              "    .dataframe tbody tr th:only-of-type {\n",
              "        vertical-align: middle;\n",
              "    }\n",
              "\n",
              "    .dataframe tbody tr th {\n",
              "        vertical-align: top;\n",
              "    }\n",
              "\n",
              "    .dataframe thead th {\n",
              "        text-align: right;\n",
              "    }\n",
              "</style>\n",
              "<table border=\"1\" class=\"dataframe\">\n",
              "  <thead>\n",
              "    <tr style=\"text-align: right;\">\n",
              "      <th></th>\n",
              "      <th>Name</th>\n",
              "      <th>Sex</th>\n",
              "      <th>Ticket</th>\n",
              "      <th>Cabin</th>\n",
              "      <th>Embarked</th>\n",
              "    </tr>\n",
              "  </thead>\n",
              "  <tbody>\n",
              "    <tr>\n",
              "      <th>count</th>\n",
              "      <td>1309</td>\n",
              "      <td>1309</td>\n",
              "      <td>1309</td>\n",
              "      <td>295</td>\n",
              "      <td>1307</td>\n",
              "    </tr>\n",
              "    <tr>\n",
              "      <th>unique</th>\n",
              "      <td>1307</td>\n",
              "      <td>2</td>\n",
              "      <td>929</td>\n",
              "      <td>186</td>\n",
              "      <td>3</td>\n",
              "    </tr>\n",
              "    <tr>\n",
              "      <th>top</th>\n",
              "      <td>Kelly, Mr. James</td>\n",
              "      <td>male</td>\n",
              "      <td>CA. 2343</td>\n",
              "      <td>C23 C25 C27</td>\n",
              "      <td>S</td>\n",
              "    </tr>\n",
              "    <tr>\n",
              "      <th>freq</th>\n",
              "      <td>2</td>\n",
              "      <td>843</td>\n",
              "      <td>11</td>\n",
              "      <td>6</td>\n",
              "      <td>914</td>\n",
              "    </tr>\n",
              "  </tbody>\n",
              "</table>\n",
              "</div>"
            ],
            "text/plain": [
              "                    Name   Sex    Ticket        Cabin Embarked\n",
              "count               1309  1309      1309          295     1307\n",
              "unique              1307     2       929          186        3\n",
              "top     Kelly, Mr. James  male  CA. 2343  C23 C25 C27        S\n",
              "freq                   2   843        11            6      914"
            ]
          },
          "metadata": {
            "tags": []
          },
          "execution_count": 7
        }
      ]
    },
    {
      "cell_type": "code",
      "metadata": {
        "colab": {
          "base_uri": "https://localhost:8080/"
        },
        "id": "7ntnhEjHGspt",
        "outputId": "5d14a977-fcd2-448f-e772-c2bb0d9083ba"
      },
      "source": [
        "df.info()"
      ],
      "execution_count": null,
      "outputs": [
        {
          "output_type": "stream",
          "text": [
            "<class 'pandas.core.frame.DataFrame'>\n",
            "RangeIndex: 1309 entries, 0 to 1308\n",
            "Data columns (total 12 columns):\n",
            " #   Column       Non-Null Count  Dtype  \n",
            "---  ------       --------------  -----  \n",
            " 0   PassengerId  1309 non-null   int64  \n",
            " 1   Survived     891 non-null    float64\n",
            " 2   Pclass       1309 non-null   int64  \n",
            " 3   Name         1309 non-null   object \n",
            " 4   Sex          1309 non-null   object \n",
            " 5   Age          1046 non-null   float64\n",
            " 6   SibSp        1309 non-null   int64  \n",
            " 7   Parch        1309 non-null   int64  \n",
            " 8   Ticket       1309 non-null   object \n",
            " 9   Fare         1308 non-null   float64\n",
            " 10  Cabin        295 non-null    object \n",
            " 11  Embarked     1307 non-null   object \n",
            "dtypes: float64(3), int64(4), object(5)\n",
            "memory usage: 122.8+ KB\n"
          ],
          "name": "stdout"
        }
      ]
    },
    {
      "cell_type": "code",
      "metadata": {
        "colab": {
          "base_uri": "https://localhost:8080/"
        },
        "id": "QpqZzsFFzOq7",
        "outputId": "1f3950a1-e6e1-48a7-b94e-a0975fab60da"
      },
      "source": [
        "# Num unique values in each column\n",
        "df.nunique()"
      ],
      "execution_count": null,
      "outputs": [
        {
          "output_type": "execute_result",
          "data": {
            "text/plain": [
              "PassengerId    1309\n",
              "Survived          2\n",
              "Pclass            3\n",
              "Name           1307\n",
              "Sex               2\n",
              "Age              98\n",
              "SibSp             7\n",
              "Parch             8\n",
              "Ticket          929\n",
              "Fare            281\n",
              "Cabin           186\n",
              "Embarked          3\n",
              "dtype: int64"
            ]
          },
          "metadata": {
            "tags": []
          },
          "execution_count": 9
        }
      ]
    },
    {
      "cell_type": "markdown",
      "metadata": {
        "id": "p7EkI0SG9zN9"
      },
      "source": [
        "# Exploration"
      ]
    },
    {
      "cell_type": "markdown",
      "metadata": {
        "id": "W0Ddm3RE9oAt"
      },
      "source": [
        "## Correlations"
      ]
    },
    {
      "cell_type": "code",
      "metadata": {
        "colab": {
          "base_uri": "https://localhost:8080/"
        },
        "id": "5aoIWEGizeiq",
        "outputId": "662557f8-7df8-4e60-b6a7-b03ac49a10e7"
      },
      "source": [
        "# Print the \"pearson\" correlation values for each column vs \"Survived\"\n",
        "corr_mat = df.corr()\n",
        "corr_mat['Survived'].sort_values(ascending=False)"
      ],
      "execution_count": null,
      "outputs": [
        {
          "output_type": "execute_result",
          "data": {
            "text/plain": [
              "Survived       1.000000\n",
              "Fare           0.257307\n",
              "Parch          0.081629\n",
              "PassengerId   -0.005007\n",
              "SibSp         -0.035322\n",
              "Age           -0.077221\n",
              "Pclass        -0.338481\n",
              "Name: Survived, dtype: float64"
            ]
          },
          "metadata": {
            "tags": []
          },
          "execution_count": 10
        }
      ]
    },
    {
      "cell_type": "code",
      "metadata": {
        "colab": {
          "base_uri": "https://localhost:8080/",
          "height": 320
        },
        "id": "aLk7X2nOzgKa",
        "outputId": "4d101302-7f50-4619-eaa2-6440cc9a349b"
      },
      "source": [
        "# Visualise the correlation values - Light and dark colours are most correlated\n",
        "corr_mat = df.corr()\n",
        "mask = np.zeros_like(corr_mat)\n",
        "mask[np.triu_indices_from(mask)] = True\n",
        "sns.heatmap(corr_mat,vmax=1,vmin=-1,annot=True, fmt=\".2f\",cmap='Blues');"
      ],
      "execution_count": null,
      "outputs": [
        {
          "output_type": "display_data",
          "data": {
            "image/png": "[encoded data removed]",
            "text/plain": [
              "<Figure size 432x288 with 2 Axes>"
            ]
          },
          "metadata": {
            "tags": [],
            "needs_background": "light"
          }
        }
      ]
    },
    {
      "cell_type": "markdown",
      "metadata": {
        "id": "LNr2lRhu2OEE"
      },
      "source": [
        "Correlation with target variable:\n",
        "- Pclass has a strong -ve correlation with Survived (lower class number means better chance of survival)\n",
        "- Fare has a strong +ve correlation with Survived (more expensive tickets increased the survival probability)\n",
        "- Age is slightly -ve correlated (younger people more likely to survive\n",
        "\n",
        "Colinearity of other features:\n",
        "- Pclass and Fare are highly correlated, makes sense for ticket class to relate to price\n",
        "- SibSp and Parch are highly correlated also, again makes sense for people with big families onboard to have high parent/child numbers and also high numbers of siblings/spouses. "
      ]
    },
    {
      "cell_type": "markdown",
      "metadata": {
        "id": "rMkXmOHf9sAF"
      },
      "source": [
        "## Distributions"
      ]
    },
    {
      "cell_type": "code",
      "metadata": {
        "colab": {
          "base_uri": "https://localhost:8080/",
          "height": 444
        },
        "id": "6QIEoLeyzXpk",
        "outputId": "957d99ae-0a8b-4e56-bb75-04c4f2a2451d"
      },
      "source": [
        "# Check dirstributions of each feature\n",
        "df.hist(bins=50, figsize=(10,7));"
      ],
      "execution_count": null,
      "outputs": [
        {
          "output_type": "display_data",
          "data": {
            "image/png": "[encoded data removed]",
            "text/plain": [
              "<Figure size 720x504 with 9 Axes>"
            ]
          },
          "metadata": {
            "tags": [],
            "needs_background": "light"
          }
        }
      ]
    },
    {
      "cell_type": "markdown",
      "metadata": {
        "id": "DQrVjpIN3ky8"
      },
      "source": [
        "- PassengerId is uniform (makes sense if everyone has unique ID)\n",
        "- Survived is binary (this is the target variable)\n",
        "- Pclass is fairly random, can be made categorical\n",
        "- Age is normally distributed\n",
        "- SibSp is exponential, can be made categorical\n",
        "- Parch is exponential, can be made categorical\n",
        "- Fare is exponential"
      ]
    },
    {
      "cell_type": "markdown",
      "metadata": {
        "id": "fO-KGLY895Po"
      },
      "source": [
        "## Data types"
      ]
    },
    {
      "cell_type": "code",
      "metadata": {
        "id": "vsy_ZT9N4SQv"
      },
      "source": [
        "# Set the data types for each feature\n",
        "# df.Pclass = df.Pclass.astype('category')"
      ],
      "execution_count": null,
      "outputs": []
    },
    {
      "cell_type": "markdown",
      "metadata": {
        "id": "hC_zYN-b98kA"
      },
      "source": [
        "## Missing data"
      ]
    },
    {
      "cell_type": "code",
      "metadata": {
        "colab": {
          "base_uri": "https://localhost:8080/"
        },
        "id": "BfZm2q9WExEq",
        "outputId": "677059c8-6f7f-4deb-ee95-33cbce49fbf4"
      },
      "source": [
        "def display_missing(df):    \n",
        "    for col in df.columns.tolist():          \n",
        "        print(f'{col:<15} column missing values: {df[col].isnull().sum()}')\n",
        "    print('\\n')\n",
        "    \n",
        "display_missing(df)"
      ],
      "execution_count": null,
      "outputs": [
        {
          "output_type": "stream",
          "text": [
            "PassengerId     column missing values: 0\n",
            "Survived        column missing values: 418\n",
            "Pclass          column missing values: 0\n",
            "Name            column missing values: 0\n",
            "Sex             column missing values: 0\n",
            "Age             column missing values: 263\n",
            "SibSp           column missing values: 0\n",
            "Parch           column missing values: 0\n",
            "Ticket          column missing values: 0\n",
            "Fare            column missing values: 1\n",
            "Cabin           column missing values: 1014\n",
            "Embarked        column missing values: 2\n",
            "\n",
            "\n"
          ],
          "name": "stdout"
        }
      ]
    },
    {
      "cell_type": "markdown",
      "metadata": {
        "id": "5zx2qtI2-Ejx"
      },
      "source": [
        "- Survived has 418 missing, but these are all from the testing (submission) dataset which was appended to the training data.\n",
        "- Age has 263 missing, that's a lot.  Dataset is small, so can't just drop these, will need to impute.\n",
        "- Fare has one missing value.\n",
        "- Cabin has 1014 missing values.  That's massive\n",
        "- Embarked has 2 columns missing.  Will try to impute, if not then drop"
      ]
    },
    {
      "cell_type": "markdown",
      "metadata": {
        "id": "3ej2T_4j-jdv"
      },
      "source": [
        "# Cleaning and feature engineering"
      ]
    },
    {
      "cell_type": "markdown",
      "metadata": {
        "id": "7ohlbCI3-xAc"
      },
      "source": [
        "## Add name title"
      ]
    },
    {
      "cell_type": "code",
      "metadata": {
        "id": "pTtm8B_cFzyk"
      },
      "source": [
        "# Define a function to do string compare\n",
        "def substrings_in_string(big_string, substrings):\n",
        "    for substring in substrings:\n",
        "        #print(substring, big_string)\n",
        "        if big_string is np.nan:\n",
        "            return np.nan\n",
        "        if substring in big_string:\n",
        "            return substring\n",
        "    print(big_string)\n",
        "    return np.nan"
      ],
      "execution_count": null,
      "outputs": []
    },
    {
      "cell_type": "code",
      "metadata": {
        "trusted": true,
        "id": "JpXH5-zCHFSL"
      },
      "source": [
        "# Use this block of code to iterate through the whole Name column,  printing any \n",
        "# names it couldn't match. Check the unmatched names and manually add a title to \n",
        "# the titles list.  Should output nothing if all names matched.\n",
        "titles = ['Mr.','Mrs.','Miss.','Master','Don.','Dona.',\n",
        "          'Rev.','Dr.','Mme.','Ms.','Major.',\n",
        "          'Lady.','Sir.','Mlle.','Col','Capt.',\n",
        "          'Countess.','Jonkheer.']\n",
        "\n",
        "for thisName in df['Name']:\n",
        "  substrings_in_string(thisName,titles)"
      ],
      "execution_count": null,
      "outputs": []
    },
    {
      "cell_type": "code",
      "metadata": {
        "trusted": true,
        "colab": {
          "base_uri": "https://localhost:8080/"
        },
        "id": "Ry35I351HFSL",
        "outputId": "51b66ceb-23c0-43fc-9485-cceada4cc2fb"
      },
      "source": [
        "def add_titles(df):\n",
        "  df['Title'] = df['Name'].map(lambda x: substrings_in_string(x, titles))\n",
        "  df.Title = df.Title.astype('category')\n",
        "  return df\n",
        "\n",
        "df = add_titles(df)\n",
        "\n",
        "#Check first 10 names converted OK\n",
        "for i in range(1,10):\n",
        "  name = df.Name.iloc[i]\n",
        "  print(f'{name:<55}...extracted: {df.Title.iloc[i]}')"
      ],
      "execution_count": null,
      "outputs": [
        {
          "output_type": "stream",
          "text": [
            "Cumings, Mrs. John Bradley (Florence Briggs Thayer)    ...extracted: Mrs.\n",
            "Heikkinen, Miss. Laina                                 ...extracted: Miss.\n",
            "Futrelle, Mrs. Jacques Heath (Lily May Peel)           ...extracted: Mrs.\n",
            "Allen, Mr. William Henry                               ...extracted: Mr.\n",
            "Moran, Mr. James                                       ...extracted: Mr.\n",
            "McCarthy, Mr. Timothy J                                ...extracted: Mr.\n",
            "Palsson, Master. Gosta Leonard                         ...extracted: Master\n",
            "Johnson, Mrs. Oscar W (Elisabeth Vilhelmina Berg)      ...extracted: Mrs.\n",
            "Nasser, Mrs. Nicholas (Adele Achem)                    ...extracted: Mrs.\n"
          ],
          "name": "stdout"
        }
      ]
    },
    {
      "cell_type": "markdown",
      "metadata": {
        "id": "e1oQP7wAHcLV"
      },
      "source": [
        "Looks successful, created this as an add_titles() function"
      ]
    },
    {
      "cell_type": "markdown",
      "metadata": {
        "id": "23D--O5en0bP"
      },
      "source": [
        "### For interest"
      ]
    },
    {
      "cell_type": "code",
      "metadata": {
        "trusted": true,
        "id": "jbf3JdvCBQ_6",
        "colab": {
          "base_uri": "https://localhost:8080/"
        },
        "outputId": "70a9c520-f628-45c1-9c8d-384f539a6cd1"
      },
      "source": [
        "# How many in each title category\n",
        "df.groupby(['Title'])['Survived'].mean().sort_values(ascending=False)"
      ],
      "execution_count": null,
      "outputs": [
        {
          "output_type": "execute_result",
          "data": {
            "text/plain": [
              "Title\n",
              "Sir.         1.000000\n",
              "Lady.        1.000000\n",
              "Ms.          1.000000\n",
              "Countess.    1.000000\n",
              "Mme.         1.000000\n",
              "Mlle.        1.000000\n",
              "Mrs.         0.792000\n",
              "Miss.        0.697802\n",
              "Master       0.575000\n",
              "Major.       0.500000\n",
              "Col          0.500000\n",
              "Dr.          0.428571\n",
              "Mr.          0.156673\n",
              "Rev.         0.000000\n",
              "Jonkheer.    0.000000\n",
              "Don.         0.000000\n",
              "Capt.        0.000000\n",
              "Dona.             NaN\n",
              "Name: Survived, dtype: float64"
            ]
          },
          "metadata": {
            "tags": []
          },
          "execution_count": 18
        }
      ]
    },
    {
      "cell_type": "markdown",
      "metadata": {
        "id": "s1R2XEUfJ_uz"
      },
      "source": [
        "## Fix missing Age\n",
        "This will be tricky to impute nicely. Could simply impute with a mean/median for every missing value, but median age could be strongly connected to categories like Sex, SibSp, etc\n",
        "\n",
        "I think it will be more successful if we group the dataset up and insert median of each category."
      ]
    },
    {
      "cell_type": "code",
      "metadata": {
        "colab": {
          "base_uri": "https://localhost:8080/"
        },
        "id": "bNnV_Su9HGIZ",
        "outputId": "946dcfce-9dd0-468e-f85f-4cf8d68d1417"
      },
      "source": [
        "# Printing the correlation values against Age.\n",
        "df.corr()['Age'].abs().sort_values(ascending=False)"
      ],
      "execution_count": null,
      "outputs": [
        {
          "output_type": "execute_result",
          "data": {
            "text/plain": [
              "Age            1.000000\n",
              "Pclass         0.408106\n",
              "SibSp          0.243699\n",
              "Fare           0.178740\n",
              "Parch          0.150917\n",
              "Survived       0.077221\n",
              "PassengerId    0.028814\n",
              "Name: Age, dtype: float64"
            ]
          },
          "metadata": {
            "tags": []
          },
          "execution_count": 19
        }
      ]
    },
    {
      "cell_type": "markdown",
      "metadata": {
        "id": "evqg2HmnJuIF"
      },
      "source": [
        "Age is strongly correllated with numerical features like Pclass, SibSp"
      ]
    },
    {
      "cell_type": "code",
      "metadata": {
        "colab": {
          "base_uri": "https://localhost:8080/",
          "height": 317
        },
        "id": "ORgaOf9uMQyj",
        "outputId": "a601125d-97cf-4700-a5ac-9d1204886cea"
      },
      "source": [
        "# Median age for each num of siblings / spouses, alongside count\n",
        "piv = pd.pivot_table(data=df, index='SibSp', aggfunc={'Age':[('median',np.median),('count',len)]})\n",
        "piv.reindex([('Age', 'median'),('Age',  'count')], axis=1)"
      ],
      "execution_count": null,
      "outputs": [
        {
          "output_type": "execute_result",
          "data": {
            "text/html": [
              "<div>\n",
              "<style scoped>\n",
              "    .dataframe tbody tr th:only-of-type {\n",
              "        vertical-align: middle;\n",
              "    }\n",
              "\n",
              "    .dataframe tbody tr th {\n",
              "        vertical-align: top;\n",
              "    }\n",
              "\n",
              "    .dataframe thead tr th {\n",
              "        text-align: left;\n",
              "    }\n",
              "\n",
              "    .dataframe thead tr:last-of-type th {\n",
              "        text-align: right;\n",
              "    }\n",
              "</style>\n",
              "<table border=\"1\" class=\"dataframe\">\n",
              "  <thead>\n",
              "    <tr>\n",
              "      <th></th>\n",
              "      <th colspan=\"2\" halign=\"left\">Age</th>\n",
              "    </tr>\n",
              "    <tr>\n",
              "      <th></th>\n",
              "      <th>median</th>\n",
              "      <th>count</th>\n",
              "    </tr>\n",
              "    <tr>\n",
              "      <th>SibSp</th>\n",
              "      <th></th>\n",
              "      <th></th>\n",
              "    </tr>\n",
              "  </thead>\n",
              "  <tbody>\n",
              "    <tr>\n",
              "      <th>0</th>\n",
              "      <td>28.0</td>\n",
              "      <td>891.0</td>\n",
              "    </tr>\n",
              "    <tr>\n",
              "      <th>1</th>\n",
              "      <td>30.0</td>\n",
              "      <td>319.0</td>\n",
              "    </tr>\n",
              "    <tr>\n",
              "      <th>2</th>\n",
              "      <td>21.5</td>\n",
              "      <td>42.0</td>\n",
              "    </tr>\n",
              "    <tr>\n",
              "      <th>3</th>\n",
              "      <td>14.5</td>\n",
              "      <td>20.0</td>\n",
              "    </tr>\n",
              "    <tr>\n",
              "      <th>4</th>\n",
              "      <td>7.0</td>\n",
              "      <td>22.0</td>\n",
              "    </tr>\n",
              "    <tr>\n",
              "      <th>5</th>\n",
              "      <td>10.5</td>\n",
              "      <td>6.0</td>\n",
              "    </tr>\n",
              "    <tr>\n",
              "      <th>8</th>\n",
              "      <td>14.5</td>\n",
              "      <td>9.0</td>\n",
              "    </tr>\n",
              "  </tbody>\n",
              "</table>\n",
              "</div>"
            ],
            "text/plain": [
              "         Age       \n",
              "      median  count\n",
              "SibSp              \n",
              "0       28.0  891.0\n",
              "1       30.0  319.0\n",
              "2       21.5   42.0\n",
              "3       14.5   20.0\n",
              "4        7.0   22.0\n",
              "5       10.5    6.0\n",
              "8       14.5    9.0"
            ]
          },
          "metadata": {
            "tags": []
          },
          "execution_count": 20
        }
      ]
    },
    {
      "cell_type": "markdown",
      "metadata": {
        "id": "aLgRD7trIo3n"
      },
      "source": [
        "So people with fewer siblings onboard tended to be older, seems intuitive.  But there are very few people in the high Sibsp categories.  So this will not give a lot of statistical significance to those median values.\n",
        "\n",
        "Instead let's try the same with Pclass (which was strongly correlated with Age)\n"
      ]
    },
    {
      "cell_type": "code",
      "metadata": {
        "id": "5A_ntN27Oh8W",
        "colab": {
          "base_uri": "https://localhost:8080/",
          "height": 197
        },
        "outputId": "dff1d613-4eba-4f7c-969f-c61535b0fd1e"
      },
      "source": [
        "# Median age for each ticket class, alongside count\n",
        "piv = pd.pivot_table(data=df, index='Pclass', aggfunc={'Age':[('median',np.median),('count',len)]})\n",
        "piv.reindex([('Age', 'median'),('Age',  'count')], axis=1)"
      ],
      "execution_count": null,
      "outputs": [
        {
          "output_type": "execute_result",
          "data": {
            "text/html": [
              "<div>\n",
              "<style scoped>\n",
              "    .dataframe tbody tr th:only-of-type {\n",
              "        vertical-align: middle;\n",
              "    }\n",
              "\n",
              "    .dataframe tbody tr th {\n",
              "        vertical-align: top;\n",
              "    }\n",
              "\n",
              "    .dataframe thead tr th {\n",
              "        text-align: left;\n",
              "    }\n",
              "\n",
              "    .dataframe thead tr:last-of-type th {\n",
              "        text-align: right;\n",
              "    }\n",
              "</style>\n",
              "<table border=\"1\" class=\"dataframe\">\n",
              "  <thead>\n",
              "    <tr>\n",
              "      <th></th>\n",
              "      <th colspan=\"2\" halign=\"left\">Age</th>\n",
              "    </tr>\n",
              "    <tr>\n",
              "      <th></th>\n",
              "      <th>median</th>\n",
              "      <th>count</th>\n",
              "    </tr>\n",
              "    <tr>\n",
              "      <th>Pclass</th>\n",
              "      <th></th>\n",
              "      <th></th>\n",
              "    </tr>\n",
              "  </thead>\n",
              "  <tbody>\n",
              "    <tr>\n",
              "      <th>1</th>\n",
              "      <td>39.0</td>\n",
              "      <td>323.0</td>\n",
              "    </tr>\n",
              "    <tr>\n",
              "      <th>2</th>\n",
              "      <td>29.0</td>\n",
              "      <td>277.0</td>\n",
              "    </tr>\n",
              "    <tr>\n",
              "      <th>3</th>\n",
              "      <td>24.0</td>\n",
              "      <td>709.0</td>\n",
              "    </tr>\n",
              "  </tbody>\n",
              "</table>\n",
              "</div>"
            ],
            "text/plain": [
              "          Age       \n",
              "       median  count\n",
              "Pclass              \n",
              "1        39.0  323.0\n",
              "2        29.0  277.0\n",
              "3        24.0  709.0"
            ]
          },
          "metadata": {
            "tags": []
          },
          "execution_count": 21
        }
      ]
    },
    {
      "cell_type": "markdown",
      "metadata": {
        "id": "KJ6kXa5WOjtU"
      },
      "source": [
        "There is data about Sex, let's try looking at whether Sex is linked to age distributions"
      ]
    },
    {
      "cell_type": "code",
      "metadata": {
        "colab": {
          "base_uri": "https://localhost:8080/",
          "height": 403
        },
        "id": "P5g3AId7I1Aq",
        "outputId": "6b2f735a-f8a6-49d5-b702-e917809e3b75"
      },
      "source": [
        "fig, axs = plt.subplots(1,2)\n",
        "fig.set_figwidth(10,18)\n",
        "sns.histplot(ax=axs[0],data=df, x='Age', hue='Sex', kde=True);\n",
        "sns.boxplot(ax=axs[1],data=df, y='Age', x='Sex');\n",
        "\n",
        "df.groupby(['Sex']).describe()['Age']"
      ],
      "execution_count": null,
      "outputs": [
        {
          "output_type": "execute_result",
          "data": {
            "text/html": [
              "<div>\n",
              "<style scoped>\n",
              "    .dataframe tbody tr th:only-of-type {\n",
              "        vertical-align: middle;\n",
              "    }\n",
              "\n",
              "    .dataframe tbody tr th {\n",
              "        vertical-align: top;\n",
              "    }\n",
              "\n",
              "    .dataframe thead th {\n",
              "        text-align: right;\n",
              "    }\n",
              "</style>\n",
              "<table border=\"1\" class=\"dataframe\">\n",
              "  <thead>\n",
              "    <tr style=\"text-align: right;\">\n",
              "      <th></th>\n",
              "      <th>count</th>\n",
              "      <th>mean</th>\n",
              "      <th>std</th>\n",
              "      <th>min</th>\n",
              "      <th>25%</th>\n",
              "      <th>50%</th>\n",
              "      <th>75%</th>\n",
              "      <th>max</th>\n",
              "    </tr>\n",
              "    <tr>\n",
              "      <th>Sex</th>\n",
              "      <th></th>\n",
              "      <th></th>\n",
              "      <th></th>\n",
              "      <th></th>\n",
              "      <th></th>\n",
              "      <th></th>\n",
              "      <th></th>\n",
              "      <th></th>\n",
              "    </tr>\n",
              "  </thead>\n",
              "  <tbody>\n",
              "    <tr>\n",
              "      <th>female</th>\n",
              "      <td>388.0</td>\n",
              "      <td>28.687088</td>\n",
              "      <td>14.576962</td>\n",
              "      <td>0.17</td>\n",
              "      <td>19.0</td>\n",
              "      <td>27.0</td>\n",
              "      <td>38.0</td>\n",
              "      <td>76.0</td>\n",
              "    </tr>\n",
              "    <tr>\n",
              "      <th>male</th>\n",
              "      <td>658.0</td>\n",
              "      <td>30.585228</td>\n",
              "      <td>14.280581</td>\n",
              "      <td>0.33</td>\n",
              "      <td>21.0</td>\n",
              "      <td>28.0</td>\n",
              "      <td>39.0</td>\n",
              "      <td>80.0</td>\n",
              "    </tr>\n",
              "  </tbody>\n",
              "</table>\n",
              "</div>"
            ],
            "text/plain": [
              "        count       mean        std   min   25%   50%   75%   max\n",
              "Sex                                                              \n",
              "female  388.0  28.687088  14.576962  0.17  19.0  27.0  38.0  76.0\n",
              "male    658.0  30.585228  14.280581  0.33  21.0  28.0  39.0  80.0"
            ]
          },
          "metadata": {
            "tags": []
          },
          "execution_count": 22
        },
        {
          "output_type": "display_data",
          "data": {
            "image/png": "[encoded data removed]",
            "text/plain": [
              "<Figure size 720x288 with 2 Axes>"
            ]
          },
          "metadata": {
            "tags": [],
            "needs_background": "light"
          }
        }
      ]
    },
    {
      "cell_type": "markdown",
      "metadata": {
        "id": "DsWjhjgLKDE9"
      },
      "source": [
        "Sex category doesn't realy correlate with Age very strongly on it's own, but:\n",
        "- Females are generally younger in this dataset, though median/50% quartile is only 1 year less.\n",
        "- All quartiles are lower in age, median is lower too.\n",
        "\n",
        "---\n",
        "\n",
        "So let's pick both categories and group the dataset by these together, Sex and ticket class."
      ]
    },
    {
      "cell_type": "code",
      "metadata": {
        "colab": {
          "base_uri": "https://localhost:8080/",
          "height": 287
        },
        "id": "QmjeJYiFOT-J",
        "outputId": "22cc451f-0953-4806-e960-038871c6692f"
      },
      "source": [
        "pd.pivot_table(data=df, index=['Sex','Pclass'], aggfunc={'Age':[('median',np.median),('count',len)]})"
      ],
      "execution_count": null,
      "outputs": [
        {
          "output_type": "execute_result",
          "data": {
            "text/html": [
              "<div>\n",
              "<style scoped>\n",
              "    .dataframe tbody tr th:only-of-type {\n",
              "        vertical-align: middle;\n",
              "    }\n",
              "\n",
              "    .dataframe tbody tr th {\n",
              "        vertical-align: top;\n",
              "    }\n",
              "\n",
              "    .dataframe thead tr th {\n",
              "        text-align: left;\n",
              "    }\n",
              "\n",
              "    .dataframe thead tr:last-of-type th {\n",
              "        text-align: right;\n",
              "    }\n",
              "</style>\n",
              "<table border=\"1\" class=\"dataframe\">\n",
              "  <thead>\n",
              "    <tr>\n",
              "      <th></th>\n",
              "      <th></th>\n",
              "      <th colspan=\"2\" halign=\"left\">Age</th>\n",
              "    </tr>\n",
              "    <tr>\n",
              "      <th></th>\n",
              "      <th></th>\n",
              "      <th>count</th>\n",
              "      <th>median</th>\n",
              "    </tr>\n",
              "    <tr>\n",
              "      <th>Sex</th>\n",
              "      <th>Pclass</th>\n",
              "      <th></th>\n",
              "      <th></th>\n",
              "    </tr>\n",
              "  </thead>\n",
              "  <tbody>\n",
              "    <tr>\n",
              "      <th rowspan=\"3\" valign=\"top\">female</th>\n",
              "      <th>1</th>\n",
              "      <td>144.0</td>\n",
              "      <td>36.0</td>\n",
              "    </tr>\n",
              "    <tr>\n",
              "      <th>2</th>\n",
              "      <td>106.0</td>\n",
              "      <td>28.0</td>\n",
              "    </tr>\n",
              "    <tr>\n",
              "      <th>3</th>\n",
              "      <td>216.0</td>\n",
              "      <td>22.0</td>\n",
              "    </tr>\n",
              "    <tr>\n",
              "      <th rowspan=\"3\" valign=\"top\">male</th>\n",
              "      <th>1</th>\n",
              "      <td>179.0</td>\n",
              "      <td>42.0</td>\n",
              "    </tr>\n",
              "    <tr>\n",
              "      <th>2</th>\n",
              "      <td>171.0</td>\n",
              "      <td>29.5</td>\n",
              "    </tr>\n",
              "    <tr>\n",
              "      <th>3</th>\n",
              "      <td>493.0</td>\n",
              "      <td>25.0</td>\n",
              "    </tr>\n",
              "  </tbody>\n",
              "</table>\n",
              "</div>"
            ],
            "text/plain": [
              "                 Age       \n",
              "               count median\n",
              "Sex    Pclass              \n",
              "female 1       144.0   36.0\n",
              "       2       106.0   28.0\n",
              "       3       216.0   22.0\n",
              "male   1       179.0   42.0\n",
              "       2       171.0   29.5\n",
              "       3       493.0   25.0"
            ]
          },
          "metadata": {
            "tags": []
          },
          "execution_count": 23
        }
      ]
    },
    {
      "cell_type": "markdown",
      "metadata": {
        "id": "bAtUsO4PMBxX"
      },
      "source": [
        "That looks promising, so there's a bit more distinction between ticket groups of\n",
        "\n",
        "Also, each of these groups has over 100 instances, so statistical significance is decent.  Let's write a function to impute on this basis."
      ]
    },
    {
      "cell_type": "code",
      "metadata": {
        "colab": {
          "base_uri": "https://localhost:8080/",
          "height": 287
        },
        "id": "tjFFoVilKLZR",
        "outputId": "310e1b4e-ef4b-4310-caa8-80da201ba75d"
      },
      "source": [
        "def fill_ages(df):\n",
        "  # Apply a lambda function to fill the nans of each group.\n",
        "  df['Age'] = df.groupby(['Sex', 'Pclass'])['Age'].apply(lambda x: x.fillna(x.median()))\n",
        "  return df\n",
        "\n",
        "df = fill_ages(df)\n",
        "\n",
        "# As a check, reprint the median of each group in the modified df, it shouldn't have changed.\n",
        "pd.pivot_table(data=df, index=['Sex','Pclass'], aggfunc={'Age':[('median',np.median),('count',len)]})"
      ],
      "execution_count": null,
      "outputs": [
        {
          "output_type": "execute_result",
          "data": {
            "text/html": [
              "<div>\n",
              "<style scoped>\n",
              "    .dataframe tbody tr th:only-of-type {\n",
              "        vertical-align: middle;\n",
              "    }\n",
              "\n",
              "    .dataframe tbody tr th {\n",
              "        vertical-align: top;\n",
              "    }\n",
              "\n",
              "    .dataframe thead tr th {\n",
              "        text-align: left;\n",
              "    }\n",
              "\n",
              "    .dataframe thead tr:last-of-type th {\n",
              "        text-align: right;\n",
              "    }\n",
              "</style>\n",
              "<table border=\"1\" class=\"dataframe\">\n",
              "  <thead>\n",
              "    <tr>\n",
              "      <th></th>\n",
              "      <th></th>\n",
              "      <th colspan=\"2\" halign=\"left\">Age</th>\n",
              "    </tr>\n",
              "    <tr>\n",
              "      <th></th>\n",
              "      <th></th>\n",
              "      <th>count</th>\n",
              "      <th>median</th>\n",
              "    </tr>\n",
              "    <tr>\n",
              "      <th>Sex</th>\n",
              "      <th>Pclass</th>\n",
              "      <th></th>\n",
              "      <th></th>\n",
              "    </tr>\n",
              "  </thead>\n",
              "  <tbody>\n",
              "    <tr>\n",
              "      <th rowspan=\"3\" valign=\"top\">female</th>\n",
              "      <th>1</th>\n",
              "      <td>144.0</td>\n",
              "      <td>36.0</td>\n",
              "    </tr>\n",
              "    <tr>\n",
              "      <th>2</th>\n",
              "      <td>106.0</td>\n",
              "      <td>28.0</td>\n",
              "    </tr>\n",
              "    <tr>\n",
              "      <th>3</th>\n",
              "      <td>216.0</td>\n",
              "      <td>22.0</td>\n",
              "    </tr>\n",
              "    <tr>\n",
              "      <th rowspan=\"3\" valign=\"top\">male</th>\n",
              "      <th>1</th>\n",
              "      <td>179.0</td>\n",
              "      <td>42.0</td>\n",
              "    </tr>\n",
              "    <tr>\n",
              "      <th>2</th>\n",
              "      <td>171.0</td>\n",
              "      <td>29.5</td>\n",
              "    </tr>\n",
              "    <tr>\n",
              "      <th>3</th>\n",
              "      <td>493.0</td>\n",
              "      <td>25.0</td>\n",
              "    </tr>\n",
              "  </tbody>\n",
              "</table>\n",
              "</div>"
            ],
            "text/plain": [
              "                 Age       \n",
              "               count median\n",
              "Sex    Pclass              \n",
              "female 1       144.0   36.0\n",
              "       2       106.0   28.0\n",
              "       3       216.0   22.0\n",
              "male   1       179.0   42.0\n",
              "       2       171.0   29.5\n",
              "       3       493.0   25.0"
            ]
          },
          "metadata": {
            "tags": []
          },
          "execution_count": 24
        }
      ]
    },
    {
      "cell_type": "markdown",
      "metadata": {
        "id": "LnAiazEnKZfb"
      },
      "source": [
        "Check status of missing values now"
      ]
    },
    {
      "cell_type": "code",
      "metadata": {
        "colab": {
          "base_uri": "https://localhost:8080/"
        },
        "id": "UDzEW6-TKcXR",
        "outputId": "4b77b766-299d-4823-f149-918f69cf6f87"
      },
      "source": [
        "display_missing(df)"
      ],
      "execution_count": null,
      "outputs": [
        {
          "output_type": "stream",
          "text": [
            "PassengerId     column missing values: 0\n",
            "Survived        column missing values: 418\n",
            "Pclass          column missing values: 0\n",
            "Name            column missing values: 0\n",
            "Sex             column missing values: 0\n",
            "Age             column missing values: 0\n",
            "SibSp           column missing values: 0\n",
            "Parch           column missing values: 0\n",
            "Ticket          column missing values: 0\n",
            "Fare            column missing values: 1\n",
            "Cabin           column missing values: 1014\n",
            "Embarked        column missing values: 2\n",
            "Title           column missing values: 0\n",
            "\n",
            "\n"
          ],
          "name": "stdout"
        }
      ]
    },
    {
      "cell_type": "markdown",
      "metadata": {
        "id": "0enEVLoVSB3M"
      },
      "source": [
        "So Cabin still has loads of missing data, let's look at that next"
      ]
    },
    {
      "cell_type": "markdown",
      "metadata": {
        "id": "0sRHNoz3KY6D"
      },
      "source": [
        "## Add Deck category from Cabin\n",
        "Extract the deck number feature from the Cabin name and use it to bin up the Cabins into Deck categories, which will be easy to train a model with.\n",
        "\n",
        "Maybe people certain decks were more likely to get into a lifeboat.\n",
        "\n",
        "With so many missing records of \"Cabin\", I will just assign them a \"missing\" category when I bin them into Deck categories."
      ]
    },
    {
      "cell_type": "code",
      "metadata": {
        "trusted": true,
        "id": "x9Ngy8ScKz4a"
      },
      "source": [
        "# Use this block of code to iterate through the whole Cabin column, printing any \n",
        "# cabin numbers it couldn't match. Check the unmatched cabins and manually add a \n",
        "# Deck category to the decks list. Should output nothing if all cabins matched.\n",
        "decks = ['A','B','C','D','E','F','G','T']\n",
        "for thisCabin in df['Cabin']:\n",
        "    substrings_in_string(thisCabin,decks)"
      ],
      "execution_count": null,
      "outputs": []
    },
    {
      "cell_type": "code",
      "metadata": {
        "trusted": true,
        "colab": {
          "base_uri": "https://localhost:8080/",
          "height": 278
        },
        "id": "eRvPEM73Kz4l",
        "outputId": "2e1a87eb-bc6b-48fb-869f-3b81e7376e3f"
      },
      "source": [
        "def add_decks(df):\n",
        "  # Group by Deck, print probability of survival for each\n",
        "  df['Deck'] = df['Cabin'].map(lambda x: substrings_in_string(x, decks))\n",
        "  # Insert 'M' for nan values\n",
        "  df['Deck'] = df['Deck'].fillna('M')\n",
        "  return df\n",
        "\n",
        "df = add_decks(df)\n",
        "\n",
        "# Plot the probability of survival based on deck\n",
        "order_list = df.groupby(['Deck']).mean()['Survived'].sort_values(ascending=False).index\n",
        "sns.barplot(data=df,x='Deck',y='Survived',estimator=np.mean,palette='Blues',order=order_list);"
      ],
      "execution_count": null,
      "outputs": [
        {
          "output_type": "display_data",
          "data": {
            "image/png": "[encoded data removed]",
            "text/plain": [
              "<Figure size 432x288 with 1 Axes>"
            ]
          },
          "metadata": {
            "tags": [],
            "needs_background": "light"
          }
        }
      ]
    },
    {
      "cell_type": "markdown",
      "metadata": {
        "id": "ouM37BeMKz4k"
      },
      "source": [
        "- Deck D, E, B all have close to 75% survival rates.\n",
        "- A lot of veriability in survival on deck G.\n",
        "- Nobody on deck T survived."
      ]
    },
    {
      "cell_type": "markdown",
      "metadata": {
        "id": "i29afH8EKz4m"
      },
      "source": [
        "### For interest\n",
        "Break this down by sex also.  So Sex is a great predictor of survival, especially coupled with Deck."
      ]
    },
    {
      "cell_type": "code",
      "metadata": {
        "trusted": true,
        "colab": {
          "base_uri": "https://localhost:8080/"
        },
        "id": "g3_yQYfeKz4m",
        "outputId": "c50f8b62-ab44-41de-ce7a-b5145e66039b"
      },
      "source": [
        "df.groupby(['Sex','Deck']).mean()['Survived'].sort_values(ascending=False)"
      ],
      "execution_count": null,
      "outputs": [
        {
          "output_type": "execute_result",
          "data": {
            "text/plain": [
              "Sex     Deck\n",
              "female  F       1.000000\n",
              "        D       1.000000\n",
              "        B       1.000000\n",
              "        A       1.000000\n",
              "        E       0.937500\n",
              "        C       0.888889\n",
              "        M       0.654378\n",
              "male    E       0.588235\n",
              "female  G       0.500000\n",
              "male    D       0.466667\n",
              "        A       0.428571\n",
              "        B       0.400000\n",
              "        F       0.375000\n",
              "        C       0.343750\n",
              "        M       0.136170\n",
              "        T       0.000000\n",
              "Name: Survived, dtype: float64"
            ]
          },
          "metadata": {
            "tags": []
          },
          "execution_count": 28
        }
      ]
    },
    {
      "cell_type": "markdown",
      "metadata": {
        "id": "oTjvgHR2Kz4m"
      },
      "source": [
        "Now looking at how survival chance rises with ticket class.  1st Class has much higher chance of survival"
      ]
    },
    {
      "cell_type": "code",
      "metadata": {
        "trusted": true,
        "colab": {
          "base_uri": "https://localhost:8080/"
        },
        "id": "8vM1swMCKz4n",
        "outputId": "d96f29d2-7f46-454c-95d3-a79b098a442b"
      },
      "source": [
        "df.groupby(['Pclass'],dropna=False).mean()['Survived']"
      ],
      "execution_count": null,
      "outputs": [
        {
          "output_type": "execute_result",
          "data": {
            "text/plain": [
              "Pclass\n",
              "1    0.629630\n",
              "2    0.472826\n",
              "3    0.242363\n",
              "Name: Survived, dtype: float64"
            ]
          },
          "metadata": {
            "tags": []
          },
          "execution_count": 29
        }
      ]
    },
    {
      "cell_type": "markdown",
      "metadata": {
        "id": "PG_fl1J9Kz4n"
      },
      "source": [
        "Again Sex and Pclass here are great predictors, strong relationships are apparent in predicting survival rate."
      ]
    },
    {
      "cell_type": "code",
      "metadata": {
        "trusted": true,
        "colab": {
          "base_uri": "https://localhost:8080/"
        },
        "id": "HqIsmgmjKz4n",
        "outputId": "e3d974bc-ea5d-4e33-83fd-d8c38d3e7c38"
      },
      "source": [
        "df.groupby(['Sex','Pclass'],dropna=False).mean()['Survived']"
      ],
      "execution_count": null,
      "outputs": [
        {
          "output_type": "execute_result",
          "data": {
            "text/plain": [
              "Sex     Pclass\n",
              "female  1         0.968085\n",
              "        2         0.921053\n",
              "        3         0.500000\n",
              "male    1         0.368852\n",
              "        2         0.157407\n",
              "        3         0.135447\n",
              "Name: Survived, dtype: float64"
            ]
          },
          "metadata": {
            "tags": []
          },
          "execution_count": 30
        }
      ]
    },
    {
      "cell_type": "markdown",
      "metadata": {
        "id": "30g9wujyKz4n"
      },
      "source": [
        "For info. Only one guy was in deck T, didn't survive"
      ]
    },
    {
      "cell_type": "code",
      "metadata": {
        "trusted": true,
        "colab": {
          "base_uri": "https://localhost:8080/"
        },
        "id": "NblbEOxdKz4o",
        "outputId": "bde3218e-892d-4834-9939-82bf0cbf7478"
      },
      "source": [
        "df[df['Deck'] == 'T']"
      ],
      "execution_count": null,
      "outputs": [
        {
          "output_type": "execute_result",
          "data": {
            "text/html": [
              "<div>\n",
              "<style scoped>\n",
              "    .dataframe tbody tr th:only-of-type {\n",
              "        vertical-align: middle;\n",
              "    }\n",
              "\n",
              "    .dataframe tbody tr th {\n",
              "        vertical-align: top;\n",
              "    }\n",
              "\n",
              "    .dataframe thead th {\n",
              "        text-align: right;\n",
              "    }\n",
              "</style>\n",
              "<table border=\"1\" class=\"dataframe\">\n",
              "  <thead>\n",
              "    <tr style=\"text-align: right;\">\n",
              "      <th></th>\n",
              "      <th>PassengerId</th>\n",
              "      <th>Survived</th>\n",
              "      <th>Pclass</th>\n",
              "      <th>Name</th>\n",
              "      <th>Sex</th>\n",
              "      <th>Age</th>\n",
              "      <th>SibSp</th>\n",
              "      <th>Parch</th>\n",
              "      <th>Ticket</th>\n",
              "      <th>Fare</th>\n",
              "      <th>Cabin</th>\n",
              "      <th>Embarked</th>\n",
              "      <th>Title</th>\n",
              "      <th>Deck</th>\n",
              "    </tr>\n",
              "  </thead>\n",
              "  <tbody>\n",
              "    <tr>\n",
              "      <th>339</th>\n",
              "      <td>340</td>\n",
              "      <td>0.0</td>\n",
              "      <td>1</td>\n",
              "      <td>Blackwell, Mr. Stephen Weart</td>\n",
              "      <td>male</td>\n",
              "      <td>45.0</td>\n",
              "      <td>0</td>\n",
              "      <td>0</td>\n",
              "      <td>113784</td>\n",
              "      <td>35.5</td>\n",
              "      <td>T</td>\n",
              "      <td>S</td>\n",
              "      <td>Mr.</td>\n",
              "      <td>T</td>\n",
              "    </tr>\n",
              "  </tbody>\n",
              "</table>\n",
              "</div>"
            ],
            "text/plain": [
              "     PassengerId  Survived  Pclass  ... Embarked Title  Deck\n",
              "339          340       0.0       1  ...        S   Mr.     T\n",
              "\n",
              "[1 rows x 14 columns]"
            ]
          },
          "metadata": {
            "tags": []
          },
          "execution_count": 31
        }
      ]
    },
    {
      "cell_type": "markdown",
      "metadata": {
        "id": "a2yc1vDnK-L-"
      },
      "source": [
        "## Fix missing Embarked values"
      ]
    },
    {
      "cell_type": "code",
      "metadata": {
        "trusted": true,
        "colab": {
          "base_uri": "https://localhost:8080/",
          "height": 107
        },
        "id": "vEQhVLO_K-Xa",
        "outputId": "ed939009-0f83-44b6-8bd2-5041ac186791"
      },
      "source": [
        "df[df['Embarked'].isna() == True]"
      ],
      "execution_count": null,
      "outputs": [
        {
          "output_type": "execute_result",
          "data": {
            "text/html": [
              "<div>\n",
              "<style scoped>\n",
              "    .dataframe tbody tr th:only-of-type {\n",
              "        vertical-align: middle;\n",
              "    }\n",
              "\n",
              "    .dataframe tbody tr th {\n",
              "        vertical-align: top;\n",
              "    }\n",
              "\n",
              "    .dataframe thead th {\n",
              "        text-align: right;\n",
              "    }\n",
              "</style>\n",
              "<table border=\"1\" class=\"dataframe\">\n",
              "  <thead>\n",
              "    <tr style=\"text-align: right;\">\n",
              "      <th></th>\n",
              "      <th>PassengerId</th>\n",
              "      <th>Survived</th>\n",
              "      <th>Pclass</th>\n",
              "      <th>Name</th>\n",
              "      <th>Sex</th>\n",
              "      <th>Age</th>\n",
              "      <th>SibSp</th>\n",
              "      <th>Parch</th>\n",
              "      <th>Ticket</th>\n",
              "      <th>Fare</th>\n",
              "      <th>Cabin</th>\n",
              "      <th>Embarked</th>\n",
              "      <th>Title</th>\n",
              "      <th>Deck</th>\n",
              "    </tr>\n",
              "  </thead>\n",
              "  <tbody>\n",
              "    <tr>\n",
              "      <th>61</th>\n",
              "      <td>62</td>\n",
              "      <td>1.0</td>\n",
              "      <td>1</td>\n",
              "      <td>Icard, Miss. Amelie</td>\n",
              "      <td>female</td>\n",
              "      <td>38.0</td>\n",
              "      <td>0</td>\n",
              "      <td>0</td>\n",
              "      <td>113572</td>\n",
              "      <td>80.0</td>\n",
              "      <td>B28</td>\n",
              "      <td>NaN</td>\n",
              "      <td>Miss.</td>\n",
              "      <td>B</td>\n",
              "    </tr>\n",
              "    <tr>\n",
              "      <th>829</th>\n",
              "      <td>830</td>\n",
              "      <td>1.0</td>\n",
              "      <td>1</td>\n",
              "      <td>Stone, Mrs. George Nelson (Martha Evelyn)</td>\n",
              "      <td>female</td>\n",
              "      <td>62.0</td>\n",
              "      <td>0</td>\n",
              "      <td>0</td>\n",
              "      <td>113572</td>\n",
              "      <td>80.0</td>\n",
              "      <td>B28</td>\n",
              "      <td>NaN</td>\n",
              "      <td>Mrs.</td>\n",
              "      <td>B</td>\n",
              "    </tr>\n",
              "  </tbody>\n",
              "</table>\n",
              "</div>"
            ],
            "text/plain": [
              "     PassengerId  Survived  Pclass  ... Embarked  Title  Deck\n",
              "61            62       1.0       1  ...      NaN  Miss.     B\n",
              "829          830       1.0       1  ...      NaN   Mrs.     B\n",
              "\n",
              "[2 rows x 14 columns]"
            ]
          },
          "metadata": {
            "tags": []
          },
          "execution_count": 32
        }
      ]
    },
    {
      "cell_type": "code",
      "metadata": {
        "trusted": true,
        "colab": {
          "base_uri": "https://localhost:8080/"
        },
        "id": "xg1QDtguK-Xb",
        "outputId": "b1daaf77-b7f1-46c7-c7eb-9d8e0595b4e5"
      },
      "source": [
        "# Guide I'm following googled the names and worked out they embarked from Southampton 'S'!\n",
        "# Fillna using this info\n",
        "df['Embarked'] = df['Embarked'].fillna('S')\n",
        " \n",
        "# Check nans left in dataset\n",
        "display_missing(df)"
      ],
      "execution_count": null,
      "outputs": [
        {
          "output_type": "stream",
          "text": [
            "PassengerId     column missing values: 0\n",
            "Survived        column missing values: 418\n",
            "Pclass          column missing values: 0\n",
            "Name            column missing values: 0\n",
            "Sex             column missing values: 0\n",
            "Age             column missing values: 0\n",
            "SibSp           column missing values: 0\n",
            "Parch           column missing values: 0\n",
            "Ticket          column missing values: 0\n",
            "Fare            column missing values: 1\n",
            "Cabin           column missing values: 1014\n",
            "Embarked        column missing values: 0\n",
            "Title           column missing values: 0\n",
            "Deck            column missing values: 0\n",
            "\n",
            "\n"
          ],
          "name": "stdout"
        }
      ]
    },
    {
      "cell_type": "markdown",
      "metadata": {
        "id": "hnfIvnxMNSR8"
      },
      "source": [
        "Missing values remain in Fare.  Don't think these are worth worrying about.  Will drop these 2 rows."
      ]
    },
    {
      "cell_type": "markdown",
      "metadata": {
        "id": "iSrlN932BQ_1"
      },
      "source": [
        "## Fix nan values in Embarked column"
      ]
    },
    {
      "cell_type": "code",
      "metadata": {
        "trusted": true,
        "id": "IZLe89vlBQ_1",
        "colab": {
          "base_uri": "https://localhost:8080/",
          "height": 47
        },
        "outputId": "97386e3a-86ae-4f07-ad79-7170afac0e9f"
      },
      "source": [
        "df[df['Embarked'].isna() == True]"
      ],
      "execution_count": null,
      "outputs": [
        {
          "output_type": "execute_result",
          "data": {
            "text/html": [
              "<div>\n",
              "<style scoped>\n",
              "    .dataframe tbody tr th:only-of-type {\n",
              "        vertical-align: middle;\n",
              "    }\n",
              "\n",
              "    .dataframe tbody tr th {\n",
              "        vertical-align: top;\n",
              "    }\n",
              "\n",
              "    .dataframe thead th {\n",
              "        text-align: right;\n",
              "    }\n",
              "</style>\n",
              "<table border=\"1\" class=\"dataframe\">\n",
              "  <thead>\n",
              "    <tr style=\"text-align: right;\">\n",
              "      <th></th>\n",
              "      <th>PassengerId</th>\n",
              "      <th>Survived</th>\n",
              "      <th>Pclass</th>\n",
              "      <th>Name</th>\n",
              "      <th>Sex</th>\n",
              "      <th>Age</th>\n",
              "      <th>SibSp</th>\n",
              "      <th>Parch</th>\n",
              "      <th>Ticket</th>\n",
              "      <th>Fare</th>\n",
              "      <th>Cabin</th>\n",
              "      <th>Embarked</th>\n",
              "      <th>Title</th>\n",
              "      <th>Deck</th>\n",
              "    </tr>\n",
              "  </thead>\n",
              "  <tbody>\n",
              "  </tbody>\n",
              "</table>\n",
              "</div>"
            ],
            "text/plain": [
              "Empty DataFrame\n",
              "Columns: [PassengerId, Survived, Pclass, Name, Sex, Age, SibSp, Parch, Ticket, Fare, Cabin, Embarked, Title, Deck]\n",
              "Index: []"
            ]
          },
          "metadata": {
            "tags": []
          },
          "execution_count": 34
        }
      ]
    },
    {
      "cell_type": "code",
      "metadata": {
        "trusted": true,
        "id": "fWI_22M-BQ_2"
      },
      "source": [
        "# Guide I'm following googled the names and worked out they embarked from Southampton 'S'\n",
        "# Fillna using this info\n",
        "df['Embarked'] = df['Embarked'].fillna('S')"
      ],
      "execution_count": null,
      "outputs": []
    },
    {
      "cell_type": "code",
      "metadata": {
        "colab": {
          "base_uri": "https://localhost:8080/"
        },
        "id": "nP64d-jrod-K",
        "outputId": "2c6c9ac8-ee33-42c7-cc60-5922c0dbc2d5"
      },
      "source": [
        "display_missing(df)"
      ],
      "execution_count": null,
      "outputs": [
        {
          "output_type": "stream",
          "text": [
            "PassengerId     column missing values: 0\n",
            "Survived        column missing values: 418\n",
            "Pclass          column missing values: 0\n",
            "Name            column missing values: 0\n",
            "Sex             column missing values: 0\n",
            "Age             column missing values: 0\n",
            "SibSp           column missing values: 0\n",
            "Parch           column missing values: 0\n",
            "Ticket          column missing values: 0\n",
            "Fare            column missing values: 1\n",
            "Cabin           column missing values: 1014\n",
            "Embarked        column missing values: 0\n",
            "Title           column missing values: 0\n",
            "Deck            column missing values: 0\n",
            "\n",
            "\n"
          ],
          "name": "stdout"
        }
      ]
    },
    {
      "cell_type": "markdown",
      "metadata": {
        "id": "puLyFi3QBQ_3"
      },
      "source": [
        "## Add family size\n",
        "Add family size column"
      ]
    },
    {
      "cell_type": "code",
      "metadata": {
        "trusted": true,
        "id": "1nO5s5iJBQ_3",
        "colab": {
          "base_uri": "https://localhost:8080/",
          "height": 197
        },
        "outputId": "3fac9046-312f-476b-e182-e22485581aeb"
      },
      "source": [
        "df['familysize'] = df['Parch'] + df['SibSp'] + 1\n",
        "df.head()"
      ],
      "execution_count": null,
      "outputs": [
        {
          "output_type": "execute_result",
          "data": {
            "text/html": [
              "<div>\n",
              "<style scoped>\n",
              "    .dataframe tbody tr th:only-of-type {\n",
              "        vertical-align: middle;\n",
              "    }\n",
              "\n",
              "    .dataframe tbody tr th {\n",
              "        vertical-align: top;\n",
              "    }\n",
              "\n",
              "    .dataframe thead th {\n",
              "        text-align: right;\n",
              "    }\n",
              "</style>\n",
              "<table border=\"1\" class=\"dataframe\">\n",
              "  <thead>\n",
              "    <tr style=\"text-align: right;\">\n",
              "      <th></th>\n",
              "      <th>PassengerId</th>\n",
              "      <th>Survived</th>\n",
              "      <th>Pclass</th>\n",
              "      <th>Name</th>\n",
              "      <th>Sex</th>\n",
              "      <th>Age</th>\n",
              "      <th>SibSp</th>\n",
              "      <th>Parch</th>\n",
              "      <th>Ticket</th>\n",
              "      <th>Fare</th>\n",
              "      <th>Cabin</th>\n",
              "      <th>Embarked</th>\n",
              "      <th>Title</th>\n",
              "      <th>Deck</th>\n",
              "      <th>familysize</th>\n",
              "    </tr>\n",
              "  </thead>\n",
              "  <tbody>\n",
              "    <tr>\n",
              "      <th>0</th>\n",
              "      <td>1</td>\n",
              "      <td>0.0</td>\n",
              "      <td>3</td>\n",
              "      <td>Braund, Mr. Owen Harris</td>\n",
              "      <td>male</td>\n",
              "      <td>22.0</td>\n",
              "      <td>1</td>\n",
              "      <td>0</td>\n",
              "      <td>A/5 21171</td>\n",
              "      <td>7.2500</td>\n",
              "      <td>NaN</td>\n",
              "      <td>S</td>\n",
              "      <td>Mr.</td>\n",
              "      <td>M</td>\n",
              "      <td>2</td>\n",
              "    </tr>\n",
              "    <tr>\n",
              "      <th>1</th>\n",
              "      <td>2</td>\n",
              "      <td>1.0</td>\n",
              "      <td>1</td>\n",
              "      <td>Cumings, Mrs. John Bradley (Florence Briggs Th...</td>\n",
              "      <td>female</td>\n",
              "      <td>38.0</td>\n",
              "      <td>1</td>\n",
              "      <td>0</td>\n",
              "      <td>PC 17599</td>\n",
              "      <td>71.2833</td>\n",
              "      <td>C85</td>\n",
              "      <td>C</td>\n",
              "      <td>Mrs.</td>\n",
              "      <td>C</td>\n",
              "      <td>2</td>\n",
              "    </tr>\n",
              "    <tr>\n",
              "      <th>2</th>\n",
              "      <td>3</td>\n",
              "      <td>1.0</td>\n",
              "      <td>3</td>\n",
              "      <td>Heikkinen, Miss. Laina</td>\n",
              "      <td>female</td>\n",
              "      <td>26.0</td>\n",
              "      <td>0</td>\n",
              "      <td>0</td>\n",
              "      <td>STON/O2. 3101282</td>\n",
              "      <td>7.9250</td>\n",
              "      <td>NaN</td>\n",
              "      <td>S</td>\n",
              "      <td>Miss.</td>\n",
              "      <td>M</td>\n",
              "      <td>1</td>\n",
              "    </tr>\n",
              "    <tr>\n",
              "      <th>3</th>\n",
              "      <td>4</td>\n",
              "      <td>1.0</td>\n",
              "      <td>1</td>\n",
              "      <td>Futrelle, Mrs. Jacques Heath (Lily May Peel)</td>\n",
              "      <td>female</td>\n",
              "      <td>35.0</td>\n",
              "      <td>1</td>\n",
              "      <td>0</td>\n",
              "      <td>113803</td>\n",
              "      <td>53.1000</td>\n",
              "      <td>C123</td>\n",
              "      <td>S</td>\n",
              "      <td>Mrs.</td>\n",
              "      <td>C</td>\n",
              "      <td>2</td>\n",
              "    </tr>\n",
              "    <tr>\n",
              "      <th>4</th>\n",
              "      <td>5</td>\n",
              "      <td>0.0</td>\n",
              "      <td>3</td>\n",
              "      <td>Allen, Mr. William Henry</td>\n",
              "      <td>male</td>\n",
              "      <td>35.0</td>\n",
              "      <td>0</td>\n",
              "      <td>0</td>\n",
              "      <td>373450</td>\n",
              "      <td>8.0500</td>\n",
              "      <td>NaN</td>\n",
              "      <td>S</td>\n",
              "      <td>Mr.</td>\n",
              "      <td>M</td>\n",
              "      <td>1</td>\n",
              "    </tr>\n",
              "  </tbody>\n",
              "</table>\n",
              "</div>"
            ],
            "text/plain": [
              "   PassengerId  Survived  Pclass  ...  Title Deck  familysize\n",
              "0            1       0.0       3  ...    Mr.    M           2\n",
              "1            2       1.0       1  ...   Mrs.    C           2\n",
              "2            3       1.0       3  ...  Miss.    M           1\n",
              "3            4       1.0       1  ...   Mrs.    C           2\n",
              "4            5       0.0       3  ...    Mr.    M           1\n",
              "\n",
              "[5 rows x 15 columns]"
            ]
          },
          "metadata": {
            "tags": []
          },
          "execution_count": 37
        }
      ]
    },
    {
      "cell_type": "markdown",
      "metadata": {
        "id": "rXvE6K0yBQ_5"
      },
      "source": [
        "## Bin Ticket frequency features"
      ]
    },
    {
      "cell_type": "code",
      "metadata": {
        "trusted": true,
        "id": "Q1Gtob6XBQ_5",
        "colab": {
          "base_uri": "https://localhost:8080/",
          "height": 280
        },
        "outputId": "ef3f82e0-55d2-41fd-92cc-52fe934cdf63"
      },
      "source": [
        "# Add Ticket frequency feature as there's otherwise too many unique values in the \n",
        "# Ticket column.  Frequency should tell if more than one person travelled on the same\n",
        "# ticket number, indicating they were in a group.  Similar to familysize feature we added\n",
        "df['Ticket_Frequency'] = df.groupby('Ticket')['Ticket'].transform('count')\n",
        "df.head()\n",
        "\n",
        "# Plot hist\n",
        "ax1 = plt.axes()\n",
        "sns.histplot(df[df['Survived']==1]['Ticket_Frequency'], label='Survived', color='#e74c3c', ax=ax1)\n",
        "sns.histplot(df[df['Survived']==0]['Ticket_Frequency'], label='Not Survived', color='#2ecc71', ax=ax1)\n",
        "ax1.legend(loc='upper right', prop={'size': 10})\n",
        "plt.show()"
      ],
      "execution_count": null,
      "outputs": [
        {
          "output_type": "display_data",
          "data": {
            "image/png": "[encoded data removed]",
            "text/plain": [
              "<Figure size 432x288 with 1 Axes>"
            ]
          },
          "metadata": {
            "tags": [],
            "needs_background": "light"
          }
        }
      ]
    },
    {
      "cell_type": "markdown",
      "metadata": {
        "id": "m3PjKqzo7dO0"
      },
      "source": [
        "# Model building"
      ]
    },
    {
      "cell_type": "code",
      "metadata": {
        "id": "gVMq1BKI8Jsv"
      },
      "source": [
        "from sklearn.model_selection import train_test_split, cross_val_score\n",
        "from sklearn.preprocessing import StandardScaler, OrdinalEncoder, OneHotEncoder, LabelEncoder\n",
        "from sklearn.impute import SimpleImputer\n",
        "from sklearn.metrics import accuracy_score, plot_confusion_matrix, f1_score \n",
        "from sklearn.metrics import plot_roc_curve, roc_auc_score, precision_score, recall_score\n",
        "from sklearn.metrics import precision_recall_fscore_support, plot_precision_recall_curve\n",
        "from sklearn.model_selection import GridSearchCV, RandomizedSearchCV\n",
        "from sklearn.inspection import permutation_importance\n",
        "\n",
        "from sklearn.pipeline import Pipeline\n",
        "from sklearn.compose import ColumnTransformer\n",
        "from sklearn.svm import SVC\n",
        "from sklearn.linear_model import SGDClassifier\n",
        "from sklearn.linear_model import LogisticRegression\n",
        "from sklearn.tree import DecisionTreeClassifier\n",
        "from sklearn.ensemble import RandomForestClassifier\n",
        "from sklearn.dummy import DummyClassifier"
      ],
      "execution_count": null,
      "outputs": []
    },
    {
      "cell_type": "code",
      "metadata": {
        "id": "5pVum_KyuSSU"
      },
      "source": [
        "# Select the Features to model and \n",
        "X_all = df[['Title','Deck','Fare','Sex']]\n",
        "y_all = df['Survived']\n",
        " \n",
        "y = y_all[:rows_to_split]\n",
        "X = X_all[:rows_to_split]\n",
        "y_subm = y_all[rows_to_split:]\n",
        "X_subm = X_all[rows_to_split:]\n",
        " \n",
        "X_train, X_test, y_train, y_test = train_test_split(X, y, test_size=0.2, random_state=42)"
      ],
      "execution_count": null,
      "outputs": []
    },
    {
      "cell_type": "code",
      "metadata": {
        "id": "FccvIPlm8LbG",
        "colab": {
          "base_uri": "https://localhost:8080/"
        },
        "outputId": "e2599d98-f0ba-449a-b2bb-5f91ad1b68c9"
      },
      "source": [
        "# Train a dummy classifier\n",
        "dummy_clf = DummyClassifier(strategy='most_frequent')\n",
        "dummy_clf.fit(X_train, y_train)\n",
        " \n",
        "dummy_score = accuracy_score(y_train,dummy_clf.predict(X_train[['Fare','Title','Sex','Deck']]))\n",
        "print(f'Dummy/null accuracy: {dummy_score:.3f}')"
      ],
      "execution_count": null,
      "outputs": [
        {
          "output_type": "stream",
          "text": [
            "Dummy/null accuracy: 0.624\n"
          ],
          "name": "stdout"
        }
      ]
    },
    {
      "cell_type": "markdown",
      "metadata": {
        "id": "xdKk93rxuqZS"
      },
      "source": [
        "## Basic Logistic Regression (logreg)"
      ]
    },
    {
      "cell_type": "code",
      "metadata": {
        "id": "_LtjRhYG7jAt"
      },
      "source": [
        "# Define a model pipeline\n",
        "num_features = ['Fare']\n",
        "num_transformer = Pipeline([('imputer', SimpleImputer(strategy='median')),\n",
        "                            ('scaler', StandardScaler())])\n",
        " \n",
        "cat_features = ['Title','Deck','Sex']\n",
        "cat_transformer = OneHotEncoder(sparse=False,handle_unknown='ignore')\n",
        " \n",
        "preprocessor = ColumnTransformer([('cats', cat_transformer, cat_features),\n",
        "                                  ('nums', num_transformer, num_features)])\n",
        " \n",
        "logreg = Pipeline([('preprocessor', preprocessor),\n",
        "                       ('logreg', LogisticRegression(max_iter=1000))])"
      ],
      "execution_count": null,
      "outputs": []
    },
    {
      "cell_type": "code",
      "metadata": {
        "id": "15gqstjk9Jxe",
        "colab": {
          "base_uri": "https://localhost:8080/"
        },
        "outputId": "5d5baa82-9ebc-4908-d81e-bb668a121c70"
      },
      "source": [
        "# Train the model\n",
        "tic = time.perf_counter()\n",
        "logreg.fit(X_train,y_train);\n",
        "print(f'time to fit model: {time.perf_counter()-tic:.3f} sec')"
      ],
      "execution_count": null,
      "outputs": [
        {
          "output_type": "stream",
          "text": [
            "time to fit model: 0.069 sec\n"
          ],
          "name": "stdout"
        }
      ]
    },
    {
      "cell_type": "markdown",
      "metadata": {
        "id": "ScG2-C4gz2Ic"
      },
      "source": [
        "### Accuracy"
      ]
    },
    {
      "cell_type": "code",
      "metadata": {
        "colab": {
          "base_uri": "https://localhost:8080/"
        },
        "id": "FltrDJuVrCir",
        "outputId": "ae21be65-745c-42ae-e811-5d0dea8af7b9"
      },
      "source": [
        "# Accuracy on train and test datasets\n",
        "y_train_pred = logreg.predict(X_train)\n",
        "y_test_pred = logreg.predict(X_test)\n",
        " \n",
        "acc_train = accuracy_score(y_train,y_train_pred)\n",
        "acc_test = accuracy_score(y_test,y_test_pred)\n",
        "print(f'Accuracy on train set: {acc_train:.3f}')\n",
        "print(f'Accuracy on test set:  {acc_test:.3f}')"
      ],
      "execution_count": null,
      "outputs": [
        {
          "output_type": "stream",
          "text": [
            "Accuracy on train set: 0.796\n",
            "Accuracy on test set:  0.788\n"
          ],
          "name": "stdout"
        }
      ]
    },
    {
      "cell_type": "markdown",
      "metadata": {
        "id": "mB-66jznz5hE"
      },
      "source": [
        "### Cross validate\n",
        "Get an indication of if model is overfitting or not."
      ]
    },
    {
      "cell_type": "code",
      "metadata": {
        "colab": {
          "base_uri": "https://localhost:8080/"
        },
        "id": "1dWcjGVppYXm",
        "outputId": "479b81bd-36bd-43e4-ff04-08c1616c0a95"
      },
      "source": [
        "# Cross validate over full labelled training data\n",
        "cv_scores = cross_val_score(logreg,X,y)\n",
        "print(f'CV scores: {cv_scores}')\n",
        "print(f'mean:  {cv_scores.mean():.3f}')\n",
        "print(f'stdev: {cv_scores.std():.3f}')"
      ],
      "execution_count": null,
      "outputs": [
        {
          "output_type": "stream",
          "text": [
            "CV scores: [0.77094972 0.78651685 0.76966292 0.75842697 0.79775281]\n",
            "mean:  0.777\n",
            "stdev: 0.014\n"
          ],
          "name": "stdout"
        }
      ]
    },
    {
      "cell_type": "markdown",
      "metadata": {
        "id": "Tmv-NjmB0Jqv"
      },
      "source": [
        "### Confusion matrix"
      ]
    },
    {
      "cell_type": "code",
      "metadata": {
        "colab": {
          "base_uri": "https://localhost:8080/",
          "height": 278
        },
        "id": "7xxH1VCbvGvb",
        "outputId": "4de88457-4028-4327-9e3c-41d0b105e3de"
      },
      "source": [
        "# Confusion matrix\n",
        "plot_confusion_matrix(logreg, X_test, y_test, values_format='d');"
      ],
      "execution_count": null,
      "outputs": [
        {
          "output_type": "display_data",
          "data": {
            "image/png": "[encoded data removed]",
            "text/plain": [
              "<Figure size 432x288 with 2 Axes>"
            ]
          },
          "metadata": {
            "tags": [],
            "needs_background": "light"
          }
        }
      ]
    },
    {
      "cell_type": "markdown",
      "metadata": {
        "id": "fqs5NJVZ24d1"
      },
      "source": [
        "### Precision, Recall, F1, ROC-AUC\n",
        "Precision = true_pos / (true_pos + false_pos)\n",
        "\n",
        "Recall = true_pos / (true_pos + false_neg)"
      ]
    },
    {
      "cell_type": "code",
      "metadata": {
        "colab": {
          "base_uri": "https://localhost:8080/",
          "height": 314
        },
        "id": "-PopXMuW2fyw",
        "outputId": "50404817-6601-467f-fc1d-661d3f0a3897"
      },
      "source": [
        "# Precision Recall curve\n",
        "plot_precision_recall_curve(logreg, X_test, y_test);\n",
        "precision = precision_score(y_test, y_test_pred)\n",
        "recall = recall_score(y_test, y_test_pred)\n",
        "print(f'Precision score: {precision:.3f}')\n",
        "print(f'Recall score:    {recall:.3f}')"
      ],
      "execution_count": null,
      "outputs": [
        {
          "output_type": "stream",
          "text": [
            "Precision score: 0.743\n",
            "Recall score:    0.743\n"
          ],
          "name": "stdout"
        },
        {
          "output_type": "display_data",
          "data": {
            "image/png": "[encoded data removed]",
            "text/plain": [
              "<Figure size 432x288 with 1 Axes>"
            ]
          },
          "metadata": {
            "tags": [],
            "needs_background": "light"
          }
        }
      ]
    },
    {
      "cell_type": "code",
      "metadata": {
        "colab": {
          "base_uri": "https://localhost:8080/"
        },
        "id": "Q2rae6Bp4esk",
        "outputId": "3490d64f-c932-4983-efc8-63024ea46df8"
      },
      "source": [
        "f1 = f1_score(y_test, y_test_pred)\n",
        "print(f'F1 score: {f1:.3f}')"
      ],
      "execution_count": null,
      "outputs": [
        {
          "output_type": "stream",
          "text": [
            "F1 score: 0.743\n"
          ],
          "name": "stdout"
        }
      ]
    },
    {
      "cell_type": "code",
      "metadata": {
        "colab": {
          "base_uri": "https://localhost:8080/",
          "height": 278
        },
        "id": "kCzFaIh923vc",
        "outputId": "4ab7a048-1a0c-4ad1-8c4c-77f9dd74ccd3"
      },
      "source": [
        "# ROC curve\n",
        "plot_roc_curve(logreg, X_test, y_test);"
      ],
      "execution_count": null,
      "outputs": [
        {
          "output_type": "display_data",
          "data": {
            "image/png": "[encoded data removed]",
            "text/plain": [
              "<Figure size 432x288 with 1 Axes>"
            ]
          },
          "metadata": {
            "tags": [],
            "needs_background": "light"
          }
        }
      ]
    },
    {
      "cell_type": "code",
      "metadata": {
        "colab": {
          "base_uri": "https://localhost:8080/"
        },
        "id": "eYaXaOIl3jif",
        "outputId": "4aa6f837-a37d-4896-899e-2fce92b25af0"
      },
      "source": [
        "auc = roc_auc_score(y_test, y_test_pred)\n",
        "print(f'ROC AUC score: {auc:.3f}')"
      ],
      "execution_count": null,
      "outputs": [
        {
          "output_type": "stream",
          "text": [
            "ROC AUC score: 0.781\n"
          ],
          "name": "stdout"
        }
      ]
    },
    {
      "cell_type": "code",
      "metadata": {
        "colab": {
          "base_uri": "https://localhost:8080/"
        },
        "id": "d_6QfW7c4sW1",
        "outputId": "f0b17653-8868-49ae-fb5d-0e4d988637c2"
      },
      "source": [
        "# Generate a little report\n",
        "print(f'Accuracy on test set:  {acc_test:.3f}')\n",
        "print(f'Precision score:       {precision:.3f}')\n",
        "print(f'Recall score:          {recall:.3f}')\n",
        "print(f'F1 score:              {f1:.3f}')\n",
        "print(f'ROC AUC score:         {auc:.3f}\\n')\n",
        "print(f'mean:                  {cv_scores.mean():.3f}')\n",
        "print(f'stdev:                 {cv_scores.std():.3f}')"
      ],
      "execution_count": null,
      "outputs": [
        {
          "output_type": "stream",
          "text": [
            "Accuracy on test set:  0.788\n",
            "Precision score:       0.743\n",
            "Recall score:          0.743\n",
            "F1 score:              0.743\n",
            "ROC AUC score:         0.781\n",
            "\n",
            "mean:                  0.777\n",
            "stdev:                 0.014\n"
          ],
          "name": "stdout"
        }
      ]
    },
    {
      "cell_type": "markdown",
      "metadata": {
        "id": "bZDUhfVD8h_i"
      },
      "source": [
        "### Grid Search"
      ]
    },
    {
      "cell_type": "code",
      "metadata": {
        "id": "w8uZSa-98ohP"
      },
      "source": [
        "param_grid = {'logreg__C':[0.001,0.003,0.01,0.03,0.1,0.3,1,3,10,30]}\n",
        "grid = GridSearchCV(logreg, param_grid, verbose=1)"
      ],
      "execution_count": null,
      "outputs": []
    },
    {
      "cell_type": "code",
      "metadata": {
        "colab": {
          "base_uri": "https://localhost:8080/"
        },
        "id": "VIMzMLy99yQ-",
        "outputId": "ef3487fb-424c-4ed8-a1e9-86a5030b3e23"
      },
      "source": [
        "grid.fit(X,y);"
      ],
      "execution_count": null,
      "outputs": [
        {
          "output_type": "stream",
          "text": [
            "Fitting 5 folds for each of 10 candidates, totalling 50 fits\n"
          ],
          "name": "stdout"
        },
        {
          "output_type": "stream",
          "text": [
            "[Parallel(n_jobs=1)]: Using backend SequentialBackend with 1 concurrent workers.\n",
            "[Parallel(n_jobs=1)]: Done  50 out of  50 | elapsed:    2.2s finished\n"
          ],
          "name": "stderr"
        }
      ]
    },
    {
      "cell_type": "code",
      "metadata": {
        "colab": {
          "base_uri": "https://localhost:8080/"
        },
        "id": "hM4hLrI3lXur",
        "outputId": "84815ae2-48d8-43cb-83f8-bbbe3f059aab"
      },
      "source": [
        "print(f'Best model params: {grid.best_params_}')\n",
        "print(f'Best model score: {grid.best_score_:.3f}')"
      ],
      "execution_count": null,
      "outputs": [
        {
          "output_type": "stream",
          "text": [
            "Best model params: {'logreg__C': 0.1}\n",
            "Best model score: 0.788\n"
          ],
          "name": "stdout"
        }
      ]
    },
    {
      "cell_type": "markdown",
      "metadata": {
        "id": "_vhYt4yPbmBg"
      },
      "source": [
        "## Modularise the process"
      ]
    },
    {
      "cell_type": "code",
      "metadata": {
        "id": "4b-p2du5bpoI"
      },
      "source": [
        "# make a function to speed up model evaluation\n",
        "def evaluate_clf(clf,clf_name):\n",
        "  clf.fit(X_train,y_train);\n",
        "  y_train_pred = clf.predict(X_train)\n",
        "  y_test_pred = clf.predict(X_test)\n",
        "  y_test_proba = clf.predict_proba(X_test)\n",
        "  cv_scores = cross_val_score(clf,X,y)\n",
        "\n",
        "  fig, axs = plt.subplots(1,2)\n",
        "  plot_precision_recall_curve(clf, X_test, y_test,ax = axs[0]);\n",
        "  plot_roc_curve(clf, X_test, y_test, ax = axs[1]);\n",
        "  fig.set_size_inches(13,5)\n",
        "\n",
        "  acc_train = accuracy_score(y_train,y_train_pred)\n",
        "  acc_test = accuracy_score(y_test,y_test_pred)\n",
        "\n",
        "  precision = precision_score(y_test, y_test_pred)\n",
        "  recall = recall_score(y_test, y_test_pred)\n",
        "  f1 = f1_score(y_test, y_test_pred)\n",
        "  auc = roc_auc_score(y_test, y_test_proba[:,1])\n",
        "  axs[0].set_title('Precision-Recall curve')\n",
        "  axs[1].set_title('ROC curve')\n",
        "\n",
        "  # Generate a little report\n",
        "  print(f'Accuracy on train set: {acc_train:.3f}')\n",
        "  print(f'Accuracy on test set:  {acc_test:.3f}')\n",
        "  print(f'Precision score:       {precision:.3f}')\n",
        "  print(f'Recall score:          {recall:.3f}')\n",
        "  print(f'F1 score:              {f1:.3f}')\n",
        "  print(f'ROC AUC score:         {auc:.3f}\\n')\n",
        "  print(f'mean:                  {cv_scores.mean():.3f}')\n",
        "  print(f'stdev:.                {cv_scores.std():.3f}')\n",
        "\n",
        "  eval_dict = {'modelname':clf_name,\n",
        "              'acc_train':acc_train,\n",
        "              'acc_test':acc_test,\n",
        "              'precision':precision,\n",
        "              'recall':recall,\n",
        "              'f1':f1,\n",
        "              'auc':auc,\n",
        "              'cv_mean':cv_scores.mean(),\n",
        "              'cv_std':cv_scores.std()}\n",
        "  return eval_dict"
      ],
      "execution_count": null,
      "outputs": []
    },
    {
      "cell_type": "code",
      "metadata": {
        "id": "GC48hyp7bs3g"
      },
      "source": [
        "# Define a function for tuning the model\n",
        "def tune_clf(clf,param_grid):\n",
        "   grid = GridSearchCV(clf, param_grid, verbose=1, scoring='accuracy')\n",
        " \n",
        "   grid.fit(X,y)\n",
        " \n",
        "   print(f'Best model params: {grid.best_params_}')\n",
        "   print(f'Best model score: {grid.best_score_:.3f}')\n",
        "   return grid"
      ],
      "execution_count": null,
      "outputs": []
    },
    {
      "cell_type": "code",
      "metadata": {
        "colab": {
          "base_uri": "https://localhost:8080/",
          "height": 1000
        },
        "id": "cVzvhUcEbzoj",
        "outputId": "29718d93-6986-4046-a319-31162179aa5b"
      },
      "source": [
        "# Run it on the furst logreg model\n",
        "df_eval = pd.DataFrame(columns=['modelname','acc_train','acc_test','precision','recall','f1','auc','cv_mean','cv_std'])\n",
        "eval_dict = evaluate_clf(tree,'logreg: default params')\n",
        "df_eval = df_eval.append(eval_dict, ignore_index = True)"
      ],
      "execution_count": null,
      "outputs": [
        {
          "output_type": "stream",
          "text": [
            "Accuracy on train set: 0.927\n",
            "Accuracy on test set:  0.782\n",
            "Precision score:       0.754\n",
            "Recall score:          0.703\n",
            "F1 score:              0.727\n",
            "ROC AUC score:         0.793\n",
            "\n",
            "mean:                  0.791\n",
            "stdev:.                0.030\n",
            "Fitting 5 folds for each of 10 candidates, totalling 50 fits\n"
          ],
          "name": "stdout"
        },
        {
          "output_type": "stream",
          "text": [
            "[Parallel(n_jobs=1)]: Using backend SequentialBackend with 1 concurrent workers.\n",
            "[Parallel(n_jobs=1)]: Done  50 out of  50 | elapsed:    2.2s finished\n"
          ],
          "name": "stderr"
        },
        {
          "output_type": "stream",
          "text": [
            "Best model params: {'logreg__C': 0.1}\n",
            "Best model score: 0.788\n",
            "Accuracy on train set: 0.792\n",
            "Accuracy on test set:  0.793\n",
            "Precision score:       0.761\n",
            "Recall score:          0.730\n",
            "F1 score:              0.745\n",
            "ROC AUC score:         0.866\n",
            "\n",
            "mean:                  0.788\n",
            "stdev:.                0.020\n"
          ],
          "name": "stdout"
        },
        {
          "output_type": "display_data",
          "data": {
            "image/png": "[encoded data removed]",
            "text/plain": [
              "<Figure size 936x360 with 2 Axes>"
            ]
          },
          "metadata": {
            "tags": [],
            "needs_background": "light"
          }
        },
        {
          "output_type": "display_data",
          "data": {
            "image/png": "[encoded data removed]",
            "text/plain": [
              "<Figure size 936x360 with 2 Axes>"
            ]
          },
          "metadata": {
            "tags": [],
            "needs_background": "light"
          }
        }
      ]
    },
    {
      "cell_type": "code",
      "metadata": {
        "id": "BtcDbuVcdj63"
      },
      "source": [
        "# Run the tuning function\n",
        "param_grid = {'logreg__C':[0.001,0.003,0.01,0.03,0.1,0.3,1,3,10,30]}\n",
        "logreg_tune = tune_clf(logreg,param_grid)\n",
        "\n",
        "# Evaluate the tuned model\n",
        "eval_dict = evaluate_clf(logreg_tune.best_estimator_,'logreg_tune: tuned params')\n",
        "df_eval = df_eval.append(eval_dict, ignore_index = True)"
      ],
      "execution_count": null,
      "outputs": []
    },
    {
      "cell_type": "markdown",
      "metadata": {
        "id": "hWg2ouKamjUH"
      },
      "source": [
        "## Decision tree (tree)"
      ]
    },
    {
      "cell_type": "code",
      "metadata": {
        "id": "_JRBmne1mn49"
      },
      "source": [
        "# Define a model pipeline\n",
        "num_features = ['Fare']\n",
        "num_transformer = Pipeline([('imputer', SimpleImputer(strategy='median')),\n",
        "                            ('scaler', StandardScaler())])\n",
        " \n",
        "cat_features = ['Title','Deck','Sex']\n",
        "cat_transformer = OneHotEncoder(sparse=False,handle_unknown='ignore')\n",
        " \n",
        "preprocessor = ColumnTransformer([('cats', cat_transformer, cat_features),\n",
        "                                  ('nums', num_transformer, num_features)])\n",
        " \n",
        "tree = Pipeline([('preprocessor', preprocessor),\n",
        "                       ('tree', DecisionTreeClassifier(random_state=42))])"
      ],
      "execution_count": null,
      "outputs": []
    },
    {
      "cell_type": "code",
      "metadata": {
        "colab": {
          "base_uri": "https://localhost:8080/",
          "height": 510
        },
        "id": "iIVgEF4AFYBG",
        "outputId": "6e5a1ba6-804c-4f3a-ba0a-596c9a40a99c"
      },
      "source": [
        "eval_dict = evaluate_clf(tree,'tree: default params')\n",
        "df_eval = df_eval.append(eval_dict, ignore_index = True)"
      ],
      "execution_count": null,
      "outputs": [
        {
          "output_type": "stream",
          "text": [
            "Accuracy on train set: 0.927\n",
            "Accuracy on test set:  0.782\n",
            "Precision score:       0.754\n",
            "Recall score:          0.703\n",
            "F1 score:              0.727\n",
            "ROC AUC score:         0.791\n",
            "\n",
            "mean:                  0.794\n",
            "stdev:.                0.033\n"
          ],
          "name": "stdout"
        },
        {
          "output_type": "display_data",
          "data": {
            "image/png": "[encoded data removed]",
            "text/plain": [
              "<Figure size 936x360 with 2 Axes>"
            ]
          },
          "metadata": {
            "tags": [],
            "needs_background": "light"
          }
        }
      ]
    },
    {
      "cell_type": "code",
      "metadata": {
        "colab": {
          "base_uri": "https://localhost:8080/"
        },
        "id": "5qxBAeyoI-JZ",
        "outputId": "4ff81178-2807-4a15-a2d1-30ed47725b77"
      },
      "source": [
        "param_grid = {'tree__max_depth':[3,10,30,100,300,1000]}\n",
        "tree_tune = tune_clf(tree,param_grid);"
      ],
      "execution_count": null,
      "outputs": [
        {
          "output_type": "stream",
          "text": [
            "Fitting 5 folds for each of 6 candidates, totalling 30 fits\n"
          ],
          "name": "stdout"
        },
        {
          "output_type": "stream",
          "text": [
            "[Parallel(n_jobs=1)]: Using backend SequentialBackend with 1 concurrent workers.\n"
          ],
          "name": "stderr"
        },
        {
          "output_type": "stream",
          "text": [
            "Best model params: {'tree__max_depth': 30}\n",
            "Best model score: 0.794\n"
          ],
          "name": "stdout"
        },
        {
          "output_type": "stream",
          "text": [
            "[Parallel(n_jobs=1)]: Done  30 out of  30 | elapsed:    0.5s finished\n"
          ],
          "name": "stderr"
        }
      ]
    },
    {
      "cell_type": "code",
      "metadata": {
        "colab": {
          "base_uri": "https://localhost:8080/"
        },
        "id": "NKciy6LkbNWQ",
        "outputId": "2703554b-2d5f-452b-a665-030fcf100216"
      },
      "source": [
        "tree_tune.best_score_"
      ],
      "execution_count": null,
      "outputs": [
        {
          "output_type": "execute_result",
          "data": {
            "text/plain": [
              "0.7935157868307072"
            ]
          },
          "metadata": {
            "tags": []
          },
          "execution_count": 357
        }
      ]
    },
    {
      "cell_type": "code",
      "metadata": {
        "colab": {
          "base_uri": "https://localhost:8080/",
          "height": 510
        },
        "id": "Yp3Ea0VkXpXe",
        "outputId": "715727cd-9d5d-4f02-f708-59cfe068e4d6"
      },
      "source": [
        "eval_dict = evaluate_clf(tree_tune.best_estimator_,'tree_tune: tuned params')\n",
        "df_eval = df_eval.append(eval_dict, ignore_index = True)"
      ],
      "execution_count": null,
      "outputs": [
        {
          "output_type": "stream",
          "text": [
            "Accuracy on train set: 0.927\n",
            "Accuracy on test set:  0.782\n",
            "Precision score:       0.754\n",
            "Recall score:          0.703\n",
            "F1 score:              0.727\n",
            "ROC AUC score:         0.791\n",
            "\n",
            "mean:                  0.794\n",
            "stdev:.                0.033\n"
          ],
          "name": "stdout"
        },
        {
          "output_type": "display_data",
          "data": {
            "image/png": "[encoded data removed]",
            "text/plain": [
              "<Figure size 936x360 with 2 Axes>"
            ]
          },
          "metadata": {
            "tags": [],
            "needs_background": "light"
          }
        }
      ]
    },
    {
      "cell_type": "markdown",
      "metadata": {
        "id": "ExGHzK2fIRZV"
      },
      "source": [
        "## Random Forest (forest)"
      ]
    },
    {
      "cell_type": "code",
      "metadata": {
        "id": "UQ6H4XTbIUzY"
      },
      "source": [
        "# Define a model pipeline\n",
        "num_features = ['Fare']\n",
        "num_transformer = Pipeline([('imputer', SimpleImputer(strategy='median')),\n",
        "                            ('scaler', StandardScaler())])\n",
        " \n",
        "cat_features = ['Title','Deck','Sex']\n",
        "cat_transformer = OneHotEncoder(sparse=False,handle_unknown='ignore')\n",
        " \n",
        "preprocessor = ColumnTransformer([('cats', cat_transformer, cat_features),\n",
        "                                  ('nums', num_transformer, num_features)])\n",
        " \n",
        "forest = Pipeline([('preprocessor', preprocessor),\n",
        "                       ('forest', RandomForestClassifier())])"
      ],
      "execution_count": null,
      "outputs": []
    },
    {
      "cell_type": "code",
      "metadata": {
        "colab": {
          "base_uri": "https://localhost:8080/",
          "height": 510
        },
        "id": "QCiktD51Iavm",
        "outputId": "812916e2-ae4f-43ba-c889-9ac17d1d1775"
      },
      "source": [
        "eval_dict = evaluate_clf(forest,'forest: default params')\n",
        "df_eval = df_eval.append(eval_dict, ignore_index = True)"
      ],
      "execution_count": null,
      "outputs": [
        {
          "output_type": "stream",
          "text": [
            "Accuracy on train set: 0.927\n",
            "Accuracy on test set:  0.777\n",
            "Precision score:       0.736\n",
            "Recall score:          0.716\n",
            "F1 score:              0.726\n",
            "ROC AUC score:         0.861\n",
            "\n",
            "mean:                  0.776\n",
            "stdev:.                0.037\n"
          ],
          "name": "stdout"
        },
        {
          "output_type": "display_data",
          "data": {
            "image/png": "[encoded data removed]",
            "text/plain": [
              "<Figure size 936x360 with 2 Axes>"
            ]
          },
          "metadata": {
            "tags": [],
            "needs_background": "light"
          }
        }
      ]
    },
    {
      "cell_type": "code",
      "metadata": {
        "colab": {
          "base_uri": "https://localhost:8080/"
        },
        "id": "d_c9aSojLOKo",
        "outputId": "4a3f40f4-c17a-4fac-8866-81efb06498fc"
      },
      "source": [
        "param_grid = {'forest__max_depth':[3,10,30,100],\n",
        "              'forest__n_estimators':[10,30,100,300]}\n",
        "forest_tune = tune_clf(forest,param_grid)"
      ],
      "execution_count": null,
      "outputs": [
        {
          "output_type": "stream",
          "text": [
            "Fitting 5 folds for each of 16 candidates, totalling 80 fits\n"
          ],
          "name": "stdout"
        },
        {
          "output_type": "stream",
          "text": [
            "[Parallel(n_jobs=1)]: Using backend SequentialBackend with 1 concurrent workers.\n"
          ],
          "name": "stderr"
        },
        {
          "output_type": "stream",
          "text": [
            "Best model params: {'forest__max_depth': 3, 'forest__n_estimators': 30}\n",
            "Best model score: 0.795\n"
          ],
          "name": "stdout"
        },
        {
          "output_type": "stream",
          "text": [
            "[Parallel(n_jobs=1)]: Done  80 out of  80 | elapsed:   16.5s finished\n"
          ],
          "name": "stderr"
        }
      ]
    },
    {
      "cell_type": "code",
      "metadata": {
        "colab": {
          "base_uri": "https://localhost:8080/",
          "height": 510
        },
        "id": "r0-1bJWZYbd-",
        "outputId": "59e0e4fa-63ce-449e-9d10-7910a71f99b0"
      },
      "source": [
        "eval_dict = evaluate_clf(forest,'forest_tune: tuned params')\n",
        "df_eval = df_eval.append(eval_dict, ignore_index = True)"
      ],
      "execution_count": null,
      "outputs": [
        {
          "output_type": "stream",
          "text": [
            "Accuracy on train set: 0.927\n",
            "Accuracy on test set:  0.777\n",
            "Precision score:       0.736\n",
            "Recall score:          0.716\n",
            "F1 score:              0.726\n",
            "ROC AUC score:         0.856\n",
            "\n",
            "mean:                  0.776\n",
            "stdev:.                0.041\n"
          ],
          "name": "stdout"
        },
        {
          "output_type": "display_data",
          "data": {
            "image/png": "[encoded data removed]",
            "text/plain": [
              "<Figure size 936x360 with 2 Axes>"
            ]
          },
          "metadata": {
            "tags": [],
            "needs_background": "light"
          }
        }
      ]
    },
    {
      "cell_type": "markdown",
      "metadata": {
        "id": "DPfuENQCuqKk"
      },
      "source": [
        "Experiment with plotting out feature importances"
      ]
    },
    {
      "cell_type": "code",
      "metadata": {
        "id": "mUi7LxXKNdou"
      },
      "source": [
        "# importances = permutation_importance(forest,X_train,y_train)\n",
        "# importances\n",
        "# idx = [i for i,_ in enumerate(num_features + cat_features)]\n",
        "\n",
        "# importances.importances_mean\n",
        "# [i for i,__ in num_features.append(cat_features)]\n",
        "# plt.barh(y = idx, width = importances.importances_mean)\n",
        "# plt.xticks(num_features.append(cat_features))\n",
        "# #forest['preprocessor']\n",
        "# cat_names = forest['preprocessor'].named_transformers_['cats'].get_feature_names()\n",
        "# #num_names = forest['preprocessor'].named_transformers_['nums'].steps[0]\n",
        "# num_names = num_features\n",
        "# feat_names = np.append(cat_names,num_features)\n",
        "# print(len(feat_names))\n",
        " \n",
        "# #prepocess\n",
        "# feat_imp = forest['forest'].feature_importances_\n",
        " \n",
        "# len(cat_names)\n",
        "# feat_names\n",
        "# #feat_imp\n",
        "# feat_imp = feat_imp.reshape(1,-1)\n",
        "# df_feat_imp = pd.DataFrame(feat_imp,columns=feat_names)\n",
        "# df_feat_imp.plot(kind='barh')\n",
        "# plt.yticks(df_feat_imp.columns)"
      ],
      "execution_count": null,
      "outputs": []
    },
    {
      "cell_type": "markdown",
      "metadata": {
        "id": "6JapK6hkNF4J"
      },
      "source": [
        "# More features"
      ]
    },
    {
      "cell_type": "markdown",
      "metadata": {
        "id": "PkN4GVR00-5b"
      },
      "source": [
        "## Logreg2 with all features"
      ]
    },
    {
      "cell_type": "code",
      "metadata": {
        "id": "5wQxtJ_bOKpJ"
      },
      "source": [
        "# Select the Features to model and \n",
        "X_all = df[['Title','Deck','Fare','Sex','Age','Embarked','familysize','Pclass','Ticket_Frequency','SibSp','Parch']]\n",
        "y_all = df['Survived']\n",
        " \n",
        "y = y_all[:rows_to_split]\n",
        "X = X_all[:rows_to_split]\n",
        "y_subm = y_all[rows_to_split:]\n",
        "X_subm = X_all[rows_to_split:]\n",
        " \n",
        "X_train, X_test, y_train, y_test = train_test_split(X, y, test_size=0.2, random_state=42)"
      ],
      "execution_count": null,
      "outputs": []
    },
    {
      "cell_type": "code",
      "metadata": {
        "id": "MNgV0bPiNL8R"
      },
      "source": [
        "# Define a model pipeline\n",
        "num_features = ['Fare','Age','familysize','Ticket_Frequency','SibSp','Parch']\n",
        "num_transformer = Pipeline([('imputer', SimpleImputer(strategy='median')),\n",
        "                            ('scaler', StandardScaler())])\n",
        " \n",
        "cat_features = ['Title','Deck','Sex','Embarked','Pclass']\n",
        "cat_transformer = OneHotEncoder(sparse=False,handle_unknown='ignore')\n",
        " \n",
        "preprocessor = ColumnTransformer([('cats', cat_transformer, cat_features),\n",
        "                                  ('nums', num_transformer, num_features)])\n",
        " \n",
        "logreg2 = Pipeline([('preprocessor', preprocessor),\n",
        "                       ('logreg', LogisticRegression(max_iter=1000))])"
      ],
      "execution_count": null,
      "outputs": []
    },
    {
      "cell_type": "code",
      "metadata": {
        "colab": {
          "base_uri": "https://localhost:8080/",
          "height": 510
        },
        "id": "Ve7nAcgcNRT_",
        "outputId": "100fac26-c174-4d64-8116-2cd622f8a959"
      },
      "source": [
        "eval_dict = evaluate_clf(logreg2,'logreg2: all features, default params')\n",
        "df_eval = df_eval.append(eval_dict, ignore_index = True)"
      ],
      "execution_count": null,
      "outputs": [
        {
          "output_type": "stream",
          "text": [
            "Accuracy on train set: 0.846\n",
            "Accuracy on test set:  0.827\n",
            "Precision score:       0.787\n",
            "Recall score:          0.797\n",
            "F1 score:              0.792\n",
            "ROC AUC score:         0.882\n",
            "\n",
            "mean:                  0.825\n",
            "stdev:.                0.018\n"
          ],
          "name": "stdout"
        },
        {
          "output_type": "display_data",
          "data": {
            "image/png": "[encoded data removed]",
            "text/plain": [
              "<Figure size 936x360 with 2 Axes>"
            ]
          },
          "metadata": {
            "tags": [],
            "needs_background": "light"
          }
        }
      ]
    },
    {
      "cell_type": "code",
      "metadata": {
        "id": "2g9QtOLN-2iP",
        "colab": {
          "base_uri": "https://localhost:8080/"
        },
        "outputId": "260e21e2-874e-4a44-fcb2-ac9b5dc0175f"
      },
      "source": [
        "param_grid = {'logreg__C':[0.001,0.003,0.01,0.03,0.1,0.3,1,3,10,30]}\n",
        "logreg2_tune = tune_clf(logreg2,param_grid)"
      ],
      "execution_count": null,
      "outputs": [
        {
          "output_type": "stream",
          "text": [
            "Fitting 5 folds for each of 10 candidates, totalling 50 fits\n"
          ],
          "name": "stdout"
        },
        {
          "output_type": "stream",
          "text": [
            "[Parallel(n_jobs=1)]: Using backend SequentialBackend with 1 concurrent workers.\n"
          ],
          "name": "stderr"
        },
        {
          "output_type": "stream",
          "text": [
            "Best model params: {'logreg__C': 3}\n",
            "Best model score: 0.826\n"
          ],
          "name": "stdout"
        },
        {
          "output_type": "stream",
          "text": [
            "[Parallel(n_jobs=1)]: Done  50 out of  50 | elapsed:    2.9s finished\n"
          ],
          "name": "stderr"
        }
      ]
    },
    {
      "cell_type": "code",
      "metadata": {
        "colab": {
          "base_uri": "https://localhost:8080/",
          "height": 510
        },
        "id": "_LqISfSDYyyu",
        "outputId": "0d1a674a-9ee8-4178-f47f-ec073f8fc10a"
      },
      "source": [
        "eval_dict = evaluate_clf(logreg2_tune.best_estimator_,'logreg2_tune: all features, tuned params')\n",
        "df_eval = df_eval.append(eval_dict, ignore_index = True)"
      ],
      "execution_count": null,
      "outputs": [
        {
          "output_type": "stream",
          "text": [
            "Accuracy on train set: 0.854\n",
            "Accuracy on test set:  0.816\n",
            "Precision score:       0.781\n",
            "Recall score:          0.770\n",
            "F1 score:              0.776\n",
            "ROC AUC score:         0.880\n",
            "\n",
            "mean:                  0.826\n",
            "stdev:.                0.020\n"
          ],
          "name": "stdout"
        },
        {
          "output_type": "display_data",
          "data": {
            "image/png": "[encoded data removed]",
            "text/plain": [
              "<Figure size 936x360 with 2 Axes>"
            ]
          },
          "metadata": {
            "tags": [],
            "needs_background": "light"
          }
        }
      ]
    },
    {
      "cell_type": "markdown",
      "metadata": {
        "id": "ukeX4YQzyjaQ"
      },
      "source": [
        "## Random Forest with all features"
      ]
    },
    {
      "cell_type": "code",
      "metadata": {
        "id": "sRZECeC1ymd2"
      },
      "source": [
        "# Define a model pipeline\n",
        "num_features = ['Fare','Age','familysize','Ticket_Frequency','SibSp','Parch']\n",
        "num_transformer = Pipeline([('imputer', SimpleImputer(strategy='median')),\n",
        "                            ('scaler', StandardScaler())])\n",
        " \n",
        "cat_features = ['Title','Deck','Sex','Embarked','Pclass']\n",
        "cat_transformer = OneHotEncoder(sparse=False,handle_unknown='ignore')\n",
        " \n",
        "preprocessor = ColumnTransformer([('cats', cat_transformer, cat_features),\n",
        "                                  ('nums', num_transformer, num_features)])\n",
        " \n",
        "forest2 = Pipeline([('preprocessor', preprocessor),\n",
        "                    ('forest', RandomForestClassifier())])"
      ],
      "execution_count": null,
      "outputs": []
    },
    {
      "cell_type": "code",
      "metadata": {
        "colab": {
          "base_uri": "https://localhost:8080/",
          "height": 510
        },
        "id": "PSpK5fleymeB",
        "outputId": "617ac0d5-3faa-471e-8b9c-87000fa7083d"
      },
      "source": [
        "eval_dict = evaluate_clf(forest2,'forest2: all features, default params')\n",
        "df_eval = df_eval.append(eval_dict, ignore_index = True)"
      ],
      "execution_count": null,
      "outputs": [
        {
          "output_type": "stream",
          "text": [
            "Accuracy on train set: 0.986\n",
            "Accuracy on test set:  0.821\n",
            "Precision score:       0.776\n",
            "Recall score:          0.797\n",
            "F1 score:              0.787\n",
            "ROC AUC score:         0.899\n",
            "\n",
            "mean:                  0.807\n",
            "stdev:.                0.031\n"
          ],
          "name": "stdout"
        },
        {
          "output_type": "display_data",
          "data": {
            "image/png": "[encoded data removed]",
            "text/plain": [
              "<Figure size 936x360 with 2 Axes>"
            ]
          },
          "metadata": {
            "tags": [],
            "needs_background": "light"
          }
        }
      ]
    },
    {
      "cell_type": "code",
      "metadata": {
        "colab": {
          "base_uri": "https://localhost:8080/"
        },
        "id": "KcHlVrj-ymeC",
        "outputId": "92942101-33d9-4c8a-904b-6314e7def560"
      },
      "source": [
        "param_grid = {'forest__max_depth':[3,10,30,100],\n",
        "              'forest__n_estimators':[10,30,100,300]}\n",
        "forest2_tune = tune_clf(forest2,param_grid)"
      ],
      "execution_count": null,
      "outputs": [
        {
          "output_type": "stream",
          "text": [
            "Fitting 5 folds for each of 16 candidates, totalling 80 fits\n"
          ],
          "name": "stdout"
        },
        {
          "output_type": "stream",
          "text": [
            "[Parallel(n_jobs=1)]: Using backend SequentialBackend with 1 concurrent workers.\n",
            "[Parallel(n_jobs=1)]: Done  80 out of  80 | elapsed:   17.2s finished\n"
          ],
          "name": "stderr"
        },
        {
          "output_type": "stream",
          "text": [
            "Best model params: {'forest__max_depth': 10, 'forest__n_estimators': 300}\n",
            "Best model score: 0.823\n"
          ],
          "name": "stdout"
        }
      ]
    },
    {
      "cell_type": "code",
      "metadata": {
        "colab": {
          "base_uri": "https://localhost:8080/",
          "height": 510
        },
        "id": "QBYIZNUUzfI7",
        "outputId": "63d82ac2-695e-4687-a2bf-5bdf41ede3a9"
      },
      "source": [
        "eval_dict = evaluate_clf(forest2_tune.best_estimator_,'forest2_tune: tuned params')\n",
        "df_eval = df_eval.append(eval_dict, ignore_index = True)"
      ],
      "execution_count": null,
      "outputs": [
        {
          "output_type": "stream",
          "text": [
            "Accuracy on train set: 0.933\n",
            "Accuracy on test set:  0.827\n",
            "Precision score:       0.803\n",
            "Recall score:          0.770\n",
            "F1 score:              0.786\n",
            "ROC AUC score:         0.898\n",
            "\n",
            "mean:                  0.823\n",
            "stdev:.                0.028\n"
          ],
          "name": "stdout"
        },
        {
          "output_type": "display_data",
          "data": {
            "image/png": "[encoded data removed]",
            "text/plain": [
              "<Figure size 936x360 with 2 Axes>"
            ]
          },
          "metadata": {
            "tags": [],
            "needs_background": "light"
          }
        }
      ]
    },
    {
      "cell_type": "markdown",
      "metadata": {
        "id": "xp8870r7LGKK"
      },
      "source": [
        "# Tabulate metrics"
      ]
    },
    {
      "cell_type": "code",
      "metadata": {
        "colab": {
          "base_uri": "https://localhost:8080/",
          "height": 347
        },
        "id": "1NTzG_x9SafZ",
        "outputId": "cec0f16b-1ae8-4928-9477-510228e389a0"
      },
      "source": [
        "df_eval"
      ],
      "execution_count": null,
      "outputs": [
        {
          "output_type": "execute_result",
          "data": {
            "text/html": [
              "<div>\n",
              "<style scoped>\n",
              "    .dataframe tbody tr th:only-of-type {\n",
              "        vertical-align: middle;\n",
              "    }\n",
              "\n",
              "    .dataframe tbody tr th {\n",
              "        vertical-align: top;\n",
              "    }\n",
              "\n",
              "    .dataframe thead th {\n",
              "        text-align: right;\n",
              "    }\n",
              "</style>\n",
              "<table border=\"1\" class=\"dataframe\">\n",
              "  <thead>\n",
              "    <tr style=\"text-align: right;\">\n",
              "      <th></th>\n",
              "      <th>modelname</th>\n",
              "      <th>acc_train</th>\n",
              "      <th>acc_test</th>\n",
              "      <th>precision</th>\n",
              "      <th>recall</th>\n",
              "      <th>f1</th>\n",
              "      <th>auc</th>\n",
              "      <th>cv_mean</th>\n",
              "      <th>cv_std</th>\n",
              "    </tr>\n",
              "  </thead>\n",
              "  <tbody>\n",
              "    <tr>\n",
              "      <th>0</th>\n",
              "      <td>logreg: default params</td>\n",
              "      <td>0.926966</td>\n",
              "      <td>0.782123</td>\n",
              "      <td>0.753623</td>\n",
              "      <td>0.702703</td>\n",
              "      <td>0.727273</td>\n",
              "      <td>0.792857</td>\n",
              "      <td>0.791269</td>\n",
              "      <td>0.030264</td>\n",
              "    </tr>\n",
              "    <tr>\n",
              "      <th>1</th>\n",
              "      <td>logreg_tune: tuned params</td>\n",
              "      <td>0.792135</td>\n",
              "      <td>0.793296</td>\n",
              "      <td>0.760563</td>\n",
              "      <td>0.729730</td>\n",
              "      <td>0.744828</td>\n",
              "      <td>0.866409</td>\n",
              "      <td>0.787860</td>\n",
              "      <td>0.020088</td>\n",
              "    </tr>\n",
              "    <tr>\n",
              "      <th>2</th>\n",
              "      <td>tree: default params</td>\n",
              "      <td>0.926966</td>\n",
              "      <td>0.782123</td>\n",
              "      <td>0.753623</td>\n",
              "      <td>0.702703</td>\n",
              "      <td>0.727273</td>\n",
              "      <td>0.790927</td>\n",
              "      <td>0.793516</td>\n",
              "      <td>0.032846</td>\n",
              "    </tr>\n",
              "    <tr>\n",
              "      <th>3</th>\n",
              "      <td>tree_tune: tuned params</td>\n",
              "      <td>0.926966</td>\n",
              "      <td>0.782123</td>\n",
              "      <td>0.753623</td>\n",
              "      <td>0.702703</td>\n",
              "      <td>0.727273</td>\n",
              "      <td>0.790927</td>\n",
              "      <td>0.793516</td>\n",
              "      <td>0.032846</td>\n",
              "    </tr>\n",
              "    <tr>\n",
              "      <th>4</th>\n",
              "      <td>forest: default params</td>\n",
              "      <td>0.926966</td>\n",
              "      <td>0.776536</td>\n",
              "      <td>0.736111</td>\n",
              "      <td>0.716216</td>\n",
              "      <td>0.726027</td>\n",
              "      <td>0.860746</td>\n",
              "      <td>0.775595</td>\n",
              "      <td>0.037306</td>\n",
              "    </tr>\n",
              "    <tr>\n",
              "      <th>5</th>\n",
              "      <td>forest_tune: tuned params</td>\n",
              "      <td>0.926966</td>\n",
              "      <td>0.776536</td>\n",
              "      <td>0.736111</td>\n",
              "      <td>0.716216</td>\n",
              "      <td>0.726027</td>\n",
              "      <td>0.856113</td>\n",
              "      <td>0.775601</td>\n",
              "      <td>0.040652</td>\n",
              "    </tr>\n",
              "    <tr>\n",
              "      <th>6</th>\n",
              "      <td>logreg2: all features, default params</td>\n",
              "      <td>0.845506</td>\n",
              "      <td>0.826816</td>\n",
              "      <td>0.786667</td>\n",
              "      <td>0.797297</td>\n",
              "      <td>0.791946</td>\n",
              "      <td>0.881725</td>\n",
              "      <td>0.824914</td>\n",
              "      <td>0.017924</td>\n",
              "    </tr>\n",
              "    <tr>\n",
              "      <th>7</th>\n",
              "      <td>logreg2_tune: all features, tuned params</td>\n",
              "      <td>0.853933</td>\n",
              "      <td>0.815642</td>\n",
              "      <td>0.780822</td>\n",
              "      <td>0.770270</td>\n",
              "      <td>0.775510</td>\n",
              "      <td>0.879923</td>\n",
              "      <td>0.826044</td>\n",
              "      <td>0.020047</td>\n",
              "    </tr>\n",
              "    <tr>\n",
              "      <th>8</th>\n",
              "      <td>forest2: all features, default params</td>\n",
              "      <td>0.985955</td>\n",
              "      <td>0.821229</td>\n",
              "      <td>0.776316</td>\n",
              "      <td>0.797297</td>\n",
              "      <td>0.786667</td>\n",
              "      <td>0.898842</td>\n",
              "      <td>0.806961</td>\n",
              "      <td>0.030873</td>\n",
              "    </tr>\n",
              "    <tr>\n",
              "      <th>9</th>\n",
              "      <td>forest2_tune: tuned params</td>\n",
              "      <td>0.932584</td>\n",
              "      <td>0.826816</td>\n",
              "      <td>0.802817</td>\n",
              "      <td>0.770270</td>\n",
              "      <td>0.786207</td>\n",
              "      <td>0.898069</td>\n",
              "      <td>0.822666</td>\n",
              "      <td>0.027913</td>\n",
              "    </tr>\n",
              "  </tbody>\n",
              "</table>\n",
              "</div>"
            ],
            "text/plain": [
              "                                  modelname  acc_train  ...   cv_mean    cv_std\n",
              "0                    logreg: default params   0.926966  ...  0.791269  0.030264\n",
              "1                 logreg_tune: tuned params   0.792135  ...  0.787860  0.020088\n",
              "2                      tree: default params   0.926966  ...  0.793516  0.032846\n",
              "3                   tree_tune: tuned params   0.926966  ...  0.793516  0.032846\n",
              "4                    forest: default params   0.926966  ...  0.775595  0.037306\n",
              "5                 forest_tune: tuned params   0.926966  ...  0.775601  0.040652\n",
              "6     logreg2: all features, default params   0.845506  ...  0.824914  0.017924\n",
              "7  logreg2_tune: all features, tuned params   0.853933  ...  0.826044  0.020047\n",
              "8     forest2: all features, default params   0.985955  ...  0.806961  0.030873\n",
              "9                forest2_tune: tuned params   0.932584  ...  0.822666  0.027913\n",
              "\n",
              "[10 rows x 9 columns]"
            ]
          },
          "metadata": {
            "tags": []
          },
          "execution_count": 377
        }
      ]
    },
    {
      "cell_type": "markdown",
      "metadata": {
        "id": "ubg8x7TTz605"
      },
      "source": [
        "# Construct output submission file"
      ]
    },
    {
      "cell_type": "code",
      "metadata": {
        "id": "pwbsLr88z4bW"
      },
      "source": [
        "def generate_submission_df(clf):\n",
        "  # input a fitted classifier\n",
        "  df_test = pd.read_csv(os.path.join(path,'test.csv'))\n",
        "\n",
        "  y_pred = clf.predict(X_subm)\n",
        "\n",
        "  subm_dict = {'PassengerID':df_test.PassengerId,\n",
        "               'Survived':y_pred.astype(int)}\n",
        "\n",
        "  df_submission = pd.DataFrame(subm_dict)\n",
        "\n",
        "\n",
        "  return df_submission\n",
        "\n",
        "df_submission = generate_submission_df(forest_tune)\n",
        "\n",
        "\n",
        "df_submission.to_csv('titanic_submission.csv',index=False)"
      ],
      "execution_count": null,
      "outputs": []
    }
  ]
}